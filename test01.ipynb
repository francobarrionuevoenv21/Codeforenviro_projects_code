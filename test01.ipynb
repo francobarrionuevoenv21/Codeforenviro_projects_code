{
  "cells": [
    {
      "cell_type": "markdown",
      "metadata": {
        "id": "view-in-github",
        "colab_type": "text"
      },
      "source": [
        "<a href=\"https://colab.research.google.com/github/francobarrionuevoenv21/codeforenviroprojects/blob/testGEE/test01.ipynb\" target=\"_parent\"><img src=\"https://colab.research.google.com/assets/colab-badge.svg\" alt=\"Open In Colab\"/></a>"
      ]
    },
    {
      "cell_type": "code",
      "execution_count": null,
      "id": "8c0edf5e",
      "metadata": {
        "collapsed": true,
        "id": "8c0edf5e",
        "outputId": "ea0205c3-3eba-456a-a46e-2729f206f5f6"
      },
      "outputs": [
        {
          "name": "stdout",
          "output_type": "stream",
          "text": [
            "Collecting earthengine-api\n",
            "  Downloading earthengine-api-0.1.335.tar.gz (244 kB)\n",
            "     -------------------------------------- 244.3/244.3 kB 2.1 MB/s eta 0:00:00\n",
            "  Preparing metadata (setup.py): started\n",
            "  Preparing metadata (setup.py): finished with status 'done'\n",
            "Requirement already satisfied: future in c:\\users\\franco barrionuevo\\anaconda3\\lib\\site-packages (from earthengine-api) (0.18.2)\n",
            "Collecting google-cloud-storage\n",
            "  Downloading google_cloud_storage-2.7.0-py2.py3-none-any.whl (110 kB)\n",
            "     -------------------------------------- 110.2/110.2 kB 3.2 MB/s eta 0:00:00\n",
            "Collecting google-api-python-client>=1.12.1\n",
            "  Downloading google_api_python_client-2.70.0-py2.py3-none-any.whl (10.7 MB)\n",
            "     ---------------------------------------- 10.7/10.7 MB 9.2 MB/s eta 0:00:00\n",
            "Collecting google-auth>=1.4.1\n",
            "  Downloading google_auth-2.15.0-py2.py3-none-any.whl (177 kB)\n",
            "     ------------------------------------ 177.0/177.0 kB 761.7 kB/s eta 0:00:00\n",
            "Collecting google-auth-httplib2>=0.0.3\n",
            "  Downloading google_auth_httplib2-0.1.0-py2.py3-none-any.whl (9.3 kB)\n",
            "Collecting httplib2<1dev,>=0.9.2\n",
            "  Downloading httplib2-0.21.0-py3-none-any.whl (96 kB)\n",
            "     ---------------------------------------- 96.8/96.8 kB 2.7 MB/s eta 0:00:00\n",
            "Requirement already satisfied: requests in c:\\users\\franco barrionuevo\\anaconda3\\lib\\site-packages (from earthengine-api) (2.28.1)\n",
            "Requirement already satisfied: six in c:\\users\\franco barrionuevo\\anaconda3\\lib\\site-packages (from earthengine-api) (1.16.0)\n",
            "Collecting uritemplate<5,>=3.0.1\n",
            "  Downloading uritemplate-4.1.1-py2.py3-none-any.whl (10 kB)\n",
            "Collecting google-api-core!=2.0.*,!=2.1.*,!=2.2.*,!=2.3.0,<3.0.0dev,>=1.31.5\n",
            "  Downloading google_api_core-2.11.0-py3-none-any.whl (120 kB)\n",
            "     -------------------------------------- 120.3/120.3 kB 2.4 MB/s eta 0:00:00\n",
            "Requirement already satisfied: pyasn1-modules>=0.2.1 in c:\\users\\franco barrionuevo\\anaconda3\\lib\\site-packages (from google-auth>=1.4.1->earthengine-api) (0.2.8)\n",
            "Collecting rsa<5,>=3.1.4\n",
            "  Downloading rsa-4.9-py3-none-any.whl (34 kB)\n",
            "Collecting cachetools<6.0,>=2.0.0\n",
            "  Downloading cachetools-5.2.0-py3-none-any.whl (9.3 kB)\n",
            "Requirement already satisfied: pyparsing!=3.0.0,!=3.0.1,!=3.0.2,!=3.0.3,<4,>=2.4.2 in c:\\users\\franco barrionuevo\\anaconda3\\lib\\site-packages (from httplib2<1dev,>=0.9.2->earthengine-api) (3.0.9)\n",
            "Collecting google-resumable-media>=2.3.2\n",
            "  Downloading google_resumable_media-2.4.0-py2.py3-none-any.whl (77 kB)\n",
            "     -------------------------------------- 77.4/77.4 kB 615.7 kB/s eta 0:00:00\n",
            "Collecting google-cloud-core<3.0dev,>=2.3.0\n",
            "  Downloading google_cloud_core-2.3.2-py2.py3-none-any.whl (29 kB)\n",
            "Requirement already satisfied: urllib3<1.27,>=1.21.1 in c:\\users\\franco barrionuevo\\anaconda3\\lib\\site-packages (from requests->earthengine-api) (1.26.11)\n",
            "Requirement already satisfied: idna<4,>=2.5 in c:\\users\\franco barrionuevo\\anaconda3\\lib\\site-packages (from requests->earthengine-api) (3.3)\n",
            "Requirement already satisfied: certifi>=2017.4.17 in c:\\users\\franco barrionuevo\\anaconda3\\lib\\site-packages (from requests->earthengine-api) (2022.9.14)\n",
            "Requirement already satisfied: charset-normalizer<3,>=2 in c:\\users\\franco barrionuevo\\anaconda3\\lib\\site-packages (from requests->earthengine-api) (2.0.4)\n",
            "Collecting googleapis-common-protos<2.0dev,>=1.56.2\n",
            "  Using cached googleapis_common_protos-1.57.0-py2.py3-none-any.whl (217 kB)\n",
            "Collecting protobuf!=3.20.0,!=3.20.1,!=4.21.0,!=4.21.1,!=4.21.2,!=4.21.3,!=4.21.4,!=4.21.5,<5.0.0dev,>=3.19.5\n",
            "  Downloading protobuf-4.21.12-cp39-cp39-win_amd64.whl (527 kB)\n",
            "     -------------------------------------- 527.0/527.0 kB 2.5 MB/s eta 0:00:00\n",
            "Collecting google-crc32c<2.0dev,>=1.0\n",
            "  Downloading google_crc32c-1.5.0-cp39-cp39-win_amd64.whl (27 kB)\n",
            "Requirement already satisfied: pyasn1<0.5.0,>=0.4.6 in c:\\users\\franco barrionuevo\\anaconda3\\lib\\site-packages (from pyasn1-modules>=0.2.1->google-auth>=1.4.1->earthengine-api) (0.4.8)\n",
            "Building wheels for collected packages: earthengine-api\n",
            "  Building wheel for earthengine-api (setup.py): started\n",
            "  Building wheel for earthengine-api (setup.py): finished with status 'done'\n",
            "  Created wheel for earthengine-api: filename=earthengine_api-0.1.335-py3-none-any.whl size=273772 sha256=2ed082f057095937034fcfd86481c2a910af2cc5bc6fbb92c9ff81a7b936a4f8\n",
            "  Stored in directory: c:\\users\\franco barrionuevo\\appdata\\local\\pip\\cache\\wheels\\ee\\72\\7d\\800a2e38e57316f3743cf88a0469eb7072ac78957fa5fe406e\n",
            "Successfully built earthengine-api\n",
            "Installing collected packages: uritemplate, rsa, protobuf, httplib2, google-crc32c, cachetools, googleapis-common-protos, google-resumable-media, google-auth, google-auth-httplib2, google-api-core, google-cloud-core, google-api-python-client, google-cloud-storage, earthengine-api\n",
            "Successfully installed cachetools-5.2.0 earthengine-api-0.1.335 google-api-core-2.11.0 google-api-python-client-2.70.0 google-auth-2.15.0 google-auth-httplib2-0.1.0 google-cloud-core-2.3.2 google-cloud-storage-2.7.0 google-crc32c-1.5.0 google-resumable-media-2.4.0 googleapis-common-protos-1.57.0 httplib2-0.21.0 protobuf-4.21.12 rsa-4.9 uritemplate-4.1.1\n"
          ]
        }
      ],
      "source": [
        "#!pip install earthengine-api"
      ]
    },
    {
      "cell_type": "code",
      "execution_count": null,
      "id": "c6c058ee",
      "metadata": {
        "id": "c6c058ee"
      },
      "outputs": [],
      "source": [
        "# the regulars\n",
        "import pandas as pd\n",
        "import geopandas as gpd\n",
        "import numpy as np\n",
        "\n",
        "# earth engine\n",
        "import ee\n",
        "\n",
        "# allow images to display in the notebook\n",
        "from IPython.display import Image"
      ]
    },
    {
      "cell_type": "code",
      "execution_count": null,
      "id": "1f3c5b93",
      "metadata": {
        "id": "1f3c5b93",
        "outputId": "cd469dba-3104-4f9b-aa2e-749d8e515ff7"
      },
      "outputs": [
        {
          "data": {
            "text/html": [
              "<p>To authorize access needed by Earth Engine, open the following\n",
              "        URL in a web browser and follow the instructions:</p>\n",
              "        <p><a href=https://code.earthengine.google.com/client-auth?scopes=https%3A//www.googleapis.com/auth/earthengine%20https%3A//www.googleapis.com/auth/devstorage.full_control&request_id=CKifqD_-pKJrn-tijWBmj_YfqLrFrdmXoI3peYilTZU&tc=trFDj__FLcAOTxd2tmWcHeXdOUdXPf1CIXrIl6cPTp0&cc=uVjSxwHzje05phgcIeiDOuCCsVY68gk6meM1_cs0GE8>https://code.earthengine.google.com/client-auth?scopes=https%3A//www.googleapis.com/auth/earthengine%20https%3A//www.googleapis.com/auth/devstorage.full_control&request_id=CKifqD_-pKJrn-tijWBmj_YfqLrFrdmXoI3peYilTZU&tc=trFDj__FLcAOTxd2tmWcHeXdOUdXPf1CIXrIl6cPTp0&cc=uVjSxwHzje05phgcIeiDOuCCsVY68gk6meM1_cs0GE8</a></p>\n",
              "        <p>The authorization workflow will generate a code, which you should paste in the box below.</p>\n",
              "        "
            ],
            "text/plain": [
              "<IPython.core.display.HTML object>"
            ]
          },
          "metadata": {},
          "output_type": "display_data"
        },
        {
          "name": "stdout",
          "output_type": "stream",
          "text": [
            "Enter verification code: 4/1AWgavddNm_nGeJ8ekgVGBeQrj_SAU0xasBc0ZjqlOBcOybl72sH-kVz_h6s\n",
            "\n",
            "Successfully saved authorization token.\n"
          ]
        }
      ],
      "source": [
        "# Trigger the authentication flow.\n",
        "ee.Authenticate()\n",
        "\n",
        "# Initialize the library.\n",
        "ee.Initialize()"
      ]
    },
    {
      "cell_type": "code",
      "execution_count": null,
      "id": "f0f0c852",
      "metadata": {
        "id": "f0f0c852",
        "outputId": "1be2c9ca-3a8c-4fdf-e3da-0e710cabf1f9"
      },
      "outputs": [
        {
          "name": "stdout",
          "output_type": "stream",
          "text": [
            "2020-08-04 1.18\n",
            "2020-08-20 0.42\n",
            "2020-09-05 23.4\n",
            "2020-08-11 5.27\n",
            "2020-08-27 21.47\n"
          ]
        }
      ],
      "source": [
        "# Coordenadas 2018: -32.81910507118151, -60.42389548016447\n",
        "# in decimal degrees\n",
        "lat =  -32.81910507118151\n",
        "lon = -60.42389548016447\n",
        "\n",
        "\n",
        "# point of interest as an ee.Geometry\n",
        "poi = ee.Geometry.Point(lon,lat)\n",
        "\n",
        "# Landsat-8 takes 8 days to come back to the same place\n",
        "\n",
        "# start date of range to filter for\n",
        "start_date = '2020-08-01'\n",
        "\n",
        "# end date\n",
        "end_date = '2020-09-10'\n",
        "\n",
        "# get the satellite data\n",
        "Landsat8 = ee.ImageCollection(\"LANDSAT/LC08/C02/T1_L2\")\\\n",
        "            .filterBounds(poi)\\\n",
        "            .filterDate(start_date,end_date)\n",
        "\n",
        "# put the images in a list\n",
        "landsat_list = Landsat8.toList(Landsat8.size());\n",
        "\n",
        "for i in range(Landsat8.size().getInfo()):\n",
        "\n",
        "    # when was this image taken?\n",
        "    date = ee.Image(landsat_list.get(i)).get('DATE_ACQUIRED').getInfo()\n",
        "    # cloud cover\n",
        "    cloud = ee.Image(landsat_list.get(i)).get('CLOUD_COVER').getInfo()\n",
        "\n",
        "    print(date, cloud)"
      ]
    },
    {
      "cell_type": "code",
      "execution_count": null,
      "id": "d72e894b",
      "metadata": {
        "id": "d72e894b",
        "outputId": "18f52ccc-5742-4fff-92af-bd5b88b7382d"
      },
      "outputs": [
        {
          "data": {
            "text/html": [
              "<img src=\"https://earthengine.googleapis.com/v1alpha/projects/earthengine-legacy/thumbnails/9950adf8f0465170b1bb1f56a6adb67b-3f29ece4fcdf5defa7f0c56246a4bacd:getPixels\"/>"
            ],
            "text/plain": [
              "<IPython.core.display.Image object>"
            ]
          },
          "metadata": {},
          "output_type": "display_data"
        }
      ],
      "source": [
        "\n",
        "parameters = {\n",
        "                'min': 7000,\n",
        "                'max': 16000,\n",
        "                'dimensions': 600, # square size in pixels\n",
        "                'bands': ['SR_B4', 'SR_B3', 'SR_B2'] # bands to display (r,g,b)\n",
        "             }\n",
        "\n",
        "display(Image(url = ee.Image(landsat_list.get(1)).getThumbUrl(parameters)))"
      ]
    },
    {
      "cell_type": "code",
      "execution_count": null,
      "id": "1bb271b2",
      "metadata": {
        "id": "1bb271b2"
      },
      "outputs": [],
      "source": [
        "#Landsat8.size()\n",
        "#print(landsat_list)"
      ]
    },
    {
      "cell_type": "code",
      "execution_count": null,
      "id": "52cfbfdd",
      "metadata": {
        "id": "52cfbfdd",
        "outputId": "99d594ba-8032-4466-a487-c55147818416"
      },
      "outputs": [
        {
          "name": "stdout",
          "output_type": "stream",
          "text": [
            "['SR_B1', 'SR_B2', 'SR_B3', 'SR_B4', 'SR_B5', 'SR_B6', 'SR_B7', 'SR_QA_AEROSOL', 'ST_B10', 'ST_ATRAN', 'ST_CDIST', 'ST_DRAD', 'ST_EMIS', 'ST_EMSD', 'ST_QA', 'ST_TRAD', 'ST_URAD', 'QA_PIXEL', 'QA_RADSAT']\n",
            "{'type': 'Projection', 'crs': 'EPSG:32620', 'transform': [30, 0, 528585, 0, -30, -3554085]}\n"
          ]
        }
      ],
      "source": [
        "print(ee.Image(landsat_list.get(1)).bandNames().getInfo())\n",
        "\n",
        "print(ee.Image(landsat_list.get(1)).select('SR_B1').projection().getInfo())"
      ]
    },
    {
      "cell_type": "code",
      "execution_count": null,
      "id": "9c82664e",
      "metadata": {
        "id": "9c82664e",
        "outputId": "9c0c5d98-0343-4414-f4fb-0d3f39a1122a"
      },
      "outputs": [
        {
          "data": {
            "text/plain": [
              "<Geographic 2D CRS: EPSG:4326>\n",
              "Name: WGS 84\n",
              "Axis Info [ellipsoidal]:\n",
              "- Lat[north]: Geodetic latitude (degree)\n",
              "- Lon[east]: Geodetic longitude (degree)\n",
              "Area of Use:\n",
              "- name: World.\n",
              "- bounds: (-180.0, -90.0, 180.0, 90.0)\n",
              "Datum: World Geodetic System 1984 ensemble\n",
              "- Ellipsoid: WGS 84\n",
              "- Prime Meridian: Greenwich"
            ]
          },
          "execution_count": 4,
          "metadata": {},
          "output_type": "execute_result"
        }
      ],
      "source": [
        "# Se carga la imagen .shp correspondiente a los ROIs a partir del directorio\n",
        "#rois_gdp = gpd.read_file('D:\\TELEDETECCION\\Proyecto_incendios_Delta\\Muestras_2018-08-22 32620\\Muestras_2018-08-22_32620.shp')#.set_index('id') #Levanta archivo shp\n",
        "rois_gdp = gpd.read_file('D:\\TELEDETECCION\\Proyecto_incendios_Delta\\Muestras_2018-08-22.shp')#.set_index('id') #Levanta archivo shp\n",
        "\n",
        "# print(rois_gdp.geometry.values[0])\n",
        "\n",
        "#geometry = rois_gdp.geometry.values[0]\n",
        "rois_gdp.crs"
      ]
    },
    {
      "cell_type": "code",
      "execution_count": null,
      "id": "81adc5a9",
      "metadata": {
        "id": "81adc5a9"
      },
      "outputs": [],
      "source": [
        "rois_gdp_exp = rois_gdp.explode(index_parts = False)"
      ]
    },
    {
      "cell_type": "code",
      "execution_count": null,
      "id": "f64a4e12",
      "metadata": {
        "collapsed": true,
        "id": "f64a4e12",
        "outputId": "0ad83b74-815b-42ef-bd39-1b585c1a14f9"
      },
      "outputs": [
        {
          "ename": "TypeError",
          "evalue": "'Polygon' object is not subscriptable",
          "output_type": "error",
          "traceback": [
            "\u001b[1;31m---------------------------------------------------------------------------\u001b[0m",
            "\u001b[1;31mTypeError\u001b[0m                                 Traceback (most recent call last)",
            "\u001b[1;32m~\\AppData\\Local\\Temp\\ipykernel_7784\\3280118814.py\u001b[0m in \u001b[0;36m<module>\u001b[1;34m\u001b[0m\n\u001b[1;32m----> 1\u001b[1;33m \u001b[0mrois_gdp_exp\u001b[0m\u001b[1;33m.\u001b[0m\u001b[0mgeometry\u001b[0m\u001b[1;33m[\u001b[0m\u001b[1;36m0\u001b[0m\u001b[1;33m]\u001b[0m\u001b[1;33m[\u001b[0m\u001b[1;36m0\u001b[0m\u001b[1;33m]\u001b[0m\u001b[1;33m\u001b[0m\u001b[1;33m\u001b[0m\u001b[0m\n\u001b[0m",
            "\u001b[1;31mTypeError\u001b[0m: 'Polygon' object is not subscriptable"
          ]
        }
      ],
      "source": [
        "rois_gdp_exp.geometry[0]"
      ]
    },
    {
      "cell_type": "code",
      "execution_count": null,
      "id": "9c5335b2",
      "metadata": {
        "id": "9c5335b2"
      },
      "outputs": [],
      "source": [
        "#https://stackoverflow.com/questions/4741243/how-to-pick-just-one-item-from-a-generator\n",
        "rois_gdp_iterf = rois_gdp.iterfeatures()\n",
        "geom_data = next(rois_gdp_iterf)['geometry']['coordinates']"
      ]
    },
    {
      "cell_type": "code",
      "execution_count": null,
      "id": "b8490465",
      "metadata": {
        "id": "b8490465"
      },
      "outputs": [],
      "source": [
        "list_lon = []\n",
        "list_lat = []\n",
        "\n",
        "for i in range(len(geom_data[0])):\n",
        "    list_lon.append(geom_data[0][i][0])\n",
        "    list_lat.append(geom_data[0][i][1])"
      ]
    },
    {
      "cell_type": "code",
      "execution_count": null,
      "id": "6afae545",
      "metadata": {
        "id": "6afae545",
        "outputId": "274697a6-1bb4-43cd-a54f-8f85135657b4"
      },
      "outputs": [
        {
          "data": {
            "text/plain": [
              "[[-60.43470604358266, -32.834308101686894],\n",
              " [-60.36500181902507, -32.834154378659115],\n",
              " [-60.359696248126994, -32.95597310931026],\n",
              " [-60.43049817700832, -32.956740665506416],\n",
              " [-60.43470604358266, -32.834308101686894]]"
            ]
          },
          "execution_count": 10,
          "metadata": {},
          "output_type": "execute_result"
        }
      ],
      "source": [
        "list_coord = []\n",
        "\n",
        "for i in range(len(geom_data[0])):\n",
        "    list_coord.append(list(geom_data[0][i]))\n",
        "\n",
        "list_coord"
      ]
    },
    {
      "cell_type": "code",
      "execution_count": null,
      "id": "55daed28",
      "metadata": {
        "id": "55daed28"
      },
      "outputs": [],
      "source": [
        "geom_clip = ee.Geometry.Polygon(list_coord)"
      ]
    },
    {
      "cell_type": "code",
      "execution_count": null,
      "id": "ba931deb",
      "metadata": {
        "collapsed": true,
        "id": "ba931deb",
        "outputId": "653ea91a-8719-4c77-8262-cadae2e0c8d4"
      },
      "outputs": [
        {
          "data": {
            "text/plain": [
              "ee.Geometry({\n",
              "  \"functionInvocationValue\": {\n",
              "    \"functionName\": \"GeometryConstructors.Polygon\",\n",
              "    \"arguments\": {\n",
              "      \"coordinates\": {\n",
              "        \"constantValue\": [\n",
              "          [\n",
              "            [\n",
              "              -60.43470604358266,\n",
              "              -32.834308101686894\n",
              "            ],\n",
              "            [\n",
              "              -60.36500181902507,\n",
              "              -32.834154378659115\n",
              "            ],\n",
              "            [\n",
              "              -60.359696248126994,\n",
              "              -32.95597310931026\n",
              "            ],\n",
              "            [\n",
              "              -60.43049817700832,\n",
              "              -32.956740665506416\n",
              "            ],\n",
              "            [\n",
              "              -60.43470604358266,\n",
              "              -32.834308101686894\n",
              "            ]\n",
              "          ]\n",
              "        ]\n",
              "      },\n",
              "      \"evenOdd\": {\n",
              "        \"constantValue\": true\n",
              "      }\n",
              "    }\n",
              "  }\n",
              "})"
            ]
          },
          "execution_count": 35,
          "metadata": {},
          "output_type": "execute_result"
        }
      ],
      "source": [
        "geom_clip"
      ]
    },
    {
      "cell_type": "code",
      "execution_count": null,
      "id": "ac4c4db4",
      "metadata": {
        "id": "ac4c4db4",
        "outputId": "a58dc271-b3db-42d9-dadc-4831137a65fb"
      },
      "outputs": [
        {
          "data": {
            "text/html": [
              "<img src=\"https://earthengine.googleapis.com/v1alpha/projects/earthengine-legacy/thumbnails/4789863298d69297ded175f294e312d9-1c644809ccbb0e5a458d8f6d118c880d:getPixels\"/>"
            ],
            "text/plain": [
              "<IPython.core.display.Image object>"
            ]
          },
          "metadata": {},
          "output_type": "display_data"
        }
      ],
      "source": [
        "#ee.Image(landsat_list.get(1)).clip(geometry)\n",
        "\n",
        "display(Image(url = ee.Image(landsat_list.get(1)).clip(geom_clip).getThumbUrl(parameters)))"
      ]
    },
    {
      "cell_type": "markdown",
      "id": "158af3e7",
      "metadata": {
        "id": "158af3e7"
      },
      "source": [
        "Export image\n",
        "\n",
        "References:\n",
        "https://eamena.org/sites/default/files/eamena/documents/media/gis_4_-_introduction_to_gee_and_sentinel-2_imagery-compressed.pdf\n",
        "https://gis.stackexchange.com/questions/300344/exported-bands-must-have-compatible-data-types-found-inconsistent-types-uint16\n",
        "https://gis.stackexchange.com/questions/347340/export-google-earth-engine-landsat-image-to-google-drive-not-working-in-python-a"
      ]
    },
    {
      "cell_type": "code",
      "execution_count": null,
      "id": "7a4f3cd6",
      "metadata": {
        "id": "7a4f3cd6",
        "outputId": "09fa2cf8-0f1f-4225-f0dc-1cb19a09ac75"
      },
      "outputs": [
        {
          "data": {
            "text/plain": [
              "['SR_B1', 'SR_B2', 'SR_B3', 'SR_B4', 'SR_B5', 'SR_B6']"
            ]
          },
          "execution_count": 31,
          "metadata": {},
          "output_type": "execute_result"
        }
      ],
      "source": [
        "select_bands = ee.Image(landsat_list.get(1)).bandNames().getInfo()[0:6]\n",
        "select_bands"
      ]
    },
    {
      "cell_type": "code",
      "execution_count": null,
      "id": "e16c95f0",
      "metadata": {
        "id": "e16c95f0"
      },
      "outputs": [],
      "source": [
        "image_bands = ee.Image(landsat_list.get(1)).select(select_bands)"
      ]
    },
    {
      "cell_type": "code",
      "execution_count": null,
      "id": "82079811",
      "metadata": {
        "id": "82079811"
      },
      "outputs": [],
      "source": [
        "export_task = ee.batch.Export.image.toDrive(\n",
        "    image = image_bands,\n",
        "    region = geom_clip,\n",
        "    #description = 'test01'\n",
        ")"
      ]
    },
    {
      "cell_type": "code",
      "execution_count": null,
      "id": "5d27fa54",
      "metadata": {
        "id": "5d27fa54"
      },
      "outputs": [],
      "source": [
        "export_task.start()"
      ]
    },
    {
      "cell_type": "code",
      "execution_count": null,
      "id": "d5d110ef",
      "metadata": {
        "id": "d5d110ef",
        "outputId": "b718b2af-3677-4e97-a150-f5a6ad999cf9"
      },
      "outputs": [
        {
          "data": {
            "text/plain": [
              "{'state': 'READY',\n",
              " 'description': 'myExportImageTask',\n",
              " 'creation_timestamp_ms': 1672542935978,\n",
              " 'update_timestamp_ms': 1672542935978,\n",
              " 'start_timestamp_ms': 0,\n",
              " 'task_type': 'EXPORT_IMAGE',\n",
              " 'id': 'SOGVC6ZNDRHMGGGMWYYPFWHM',\n",
              " 'name': 'projects/earthengine-legacy/operations/SOGVC6ZNDRHMGGGMWYYPFWHM'}"
            ]
          },
          "execution_count": 30,
          "metadata": {},
          "output_type": "execute_result"
        }
      ],
      "source": [
        "export_task.status()"
      ]
    }
  ],
  "metadata": {
    "kernelspec": {
      "display_name": "Python 3 (ipykernel)",
      "language": "python",
      "name": "python3"
    },
    "language_info": {
      "codemirror_mode": {
        "name": "ipython",
        "version": 3
      },
      "file_extension": ".py",
      "mimetype": "text/x-python",
      "name": "python",
      "nbconvert_exporter": "python",
      "pygments_lexer": "ipython3",
      "version": "3.9.13"
    },
    "colab": {
      "provenance": [],
      "include_colab_link": true
    }
  },
  "nbformat": 4,
  "nbformat_minor": 5
}