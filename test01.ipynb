{
  "cells": [
    {
      "cell_type": "markdown",
      "metadata": {
        "id": "view-in-github",
        "colab_type": "text"
      },
      "source": [
        "<a href=\"https://colab.research.google.com/github/francobarrionuevoenv21/codeforenviroprojects/blob/testGEE/test01.ipynb\" target=\"_parent\"><img src=\"https://colab.research.google.com/assets/colab-badge.svg\" alt=\"Open In Colab\"/></a>"
      ]
    },
    {
      "cell_type": "code",
      "source": [
        "!pip install geemap"
      ],
      "metadata": {
        "id": "dmT0-SEwrWkI"
      },
      "id": "dmT0-SEwrWkI",
      "execution_count": null,
      "outputs": []
    },
    {
      "cell_type": "code",
      "source": [
        "import geemap\n",
        "import ee\n",
        "import geopandas as gpd\n",
        "import pandas as pd"
      ],
      "metadata": {
        "id": "AO03ARWzssW4"
      },
      "id": "AO03ARWzssW4",
      "execution_count": 2,
      "outputs": []
    },
    {
      "cell_type": "code",
      "execution_count": 3,
      "id": "1f3c5b93",
      "metadata": {
        "id": "1f3c5b93",
        "outputId": "db6896bf-0960-4c3f-dce0-b80fec76b215",
        "colab": {
          "base_uri": "https://localhost:8080/"
        }
      },
      "outputs": [
        {
          "output_type": "stream",
          "name": "stdout",
          "text": [
            "To authorize access needed by Earth Engine, open the following URL in a web browser and follow the instructions. If the web browser does not start automatically, please manually browse the URL below.\n",
            "\n",
            "    https://code.earthengine.google.com/client-auth?scopes=https%3A//www.googleapis.com/auth/earthengine%20https%3A//www.googleapis.com/auth/devstorage.full_control&request_id=yWzpbAemDnI871cRcUyg_c2qFOUMUGIOM9LUNK60UMw&tc=SLyEceq_EKD2NUhKvWlLi9KUfaO164iVxUN51DSaMD8&cc=tIFNbkTTk_oOOeme1r1Sj7r9tGMI9jAE-z04xQue274\n",
            "\n",
            "The authorization workflow will generate a code, which you should paste in the box below.\n",
            "Enter verification code: 4/1AZEOvhU-gi_SHS8URxyklrlXRramkjZdmxzhN78lqj2F1Ws2U0qNaUg9eRQ\n",
            "\n",
            "Successfully saved authorization token.\n"
          ]
        }
      ],
      "source": [
        "# Trigger the authentication flow.\n",
        "ee.Authenticate()\n",
        "\n",
        "# Initialize the library.\n",
        "ee.Initialize()"
      ]
    },
    {
      "cell_type": "code",
      "source": [
        "# Code to read csv file into Colaboratory:\n",
        "\n",
        "from pydrive.auth import GoogleAuth\n",
        "from pydrive.drive import GoogleDrive\n",
        "from google.colab import auth\n",
        "from oauth2client.client import GoogleCredentials\n",
        "\n",
        "# Authenticate and create the PyDrive client.\n",
        "\n",
        "auth.authenticate_user()\n",
        "gauth = GoogleAuth()\n",
        "gauth.credentials = GoogleCredentials.get_application_default()\n",
        "drive = GoogleDrive(gauth)"
      ],
      "metadata": {
        "id": "UoGRGQN3xfUp"
      },
      "id": "UoGRGQN3xfUp",
      "execution_count": 4,
      "outputs": []
    },
    {
      "cell_type": "markdown",
      "source": [
        "Functions"
      ],
      "metadata": {
        "id": "HLW5rJadfyT3"
      },
      "id": "HLW5rJadfyT3"
    },
    {
      "cell_type": "code",
      "source": [
        "def getCoordsSHP(gdfshpFile):\n",
        "  '''\n",
        "  This function takes a polygon vector layer file passed as a GeoDataFrame. Then\n",
        "  it gets all longitude and latitude values and return it as numpy arrays.\n",
        "  '''\n",
        "\n",
        "  gdfiterf = gdfshpFile.iterfeatures()\n",
        "  tupleFile = next(gdfiterf)['geometry']['coordinates']\n",
        "\n",
        "  #arrayCoords = np.array([list(tupleFile[0][i]) for i in range(len(tupleFile[0]))])\n",
        "\n",
        "  return tupleFile\n",
        "\n",
        "def FileDataDf(dictFiles, i, source):\n",
        "\n",
        "  if source == 'gdrive': # Files hosted in Google Drive.\n",
        "    FilesPath = list(dictFiles.values())[i]\n",
        "    idPath = FilesPath.split('/', 6)\n",
        "    downloadedFiles = drive.CreateFile({'id':idPath[5]})\n",
        "    downloadedFiles.GetContentFile(list(dictFiles.keys())[i])\n",
        "    dfData = pd.read_csv(list(dictFiles.keys())[i])\n",
        "\n",
        "  elif source == 'other': # Files imported from device or Colab files\n",
        "    dfData = pd.read_csv(list(dictFiles.values())[i])\n",
        "\n",
        "  return dfData"
      ],
      "metadata": {
        "id": "JM8zrRot5-hK"
      },
      "id": "JM8zrRot5-hK",
      "execution_count": 5,
      "outputs": []
    },
    {
      "cell_type": "code",
      "source": [
        "StudyArea = gpd.read_file('/content/DeltaParana.shp')\n",
        "# getCoordsSHP(StudyArea)[0]"
      ],
      "metadata": {
        "id": "mbDqrcTa6Cw6"
      },
      "id": "mbDqrcTa6Cw6",
      "execution_count": 6,
      "outputs": []
    },
    {
      "cell_type": "code",
      "source": [
        "# Sample tuple of tuples\n",
        "tuple_of_tuples = getCoordsSHP(StudyArea)[0]\n",
        "\n",
        "# Convert to a list of lists with only the first 2 elements\n",
        "list_of_lists = [list(t[:2]) for t in tuple_of_tuples]"
      ],
      "metadata": {
        "id": "YYduPqci7Qk1"
      },
      "id": "YYduPqci7Qk1",
      "execution_count": 8,
      "outputs": []
    },
    {
      "cell_type": "code",
      "source": [
        "coordinates = list_of_lists\n",
        "\n",
        "# Create an ee.Geometry.Polygon object\n",
        "polygon = ee.Geometry.Polygon(coordinates)\n",
        "\n",
        "# Create a feature from the polygon\n",
        "feature = ee.Feature(polygon)\n",
        "\n",
        "# Create a feature collection from the feature\n",
        "feature_collection = ee.FeatureCollection([feature])"
      ],
      "metadata": {
        "id": "AUAt0WO06nMI"
      },
      "id": "AUAt0WO06nMI",
      "execution_count": 9,
      "outputs": []
    },
    {
      "cell_type": "code",
      "source": [
        "Map = geemap.Map()\n",
        "Map"
      ],
      "metadata": {
        "colab": {
          "base_uri": "https://localhost:8080/",
          "height": 621,
          "referenced_widgets": [
            "bd627188b35f4df9bbbb80531ac70e4c",
            "9c2fee8486a6488db9a84ee1e5036d49",
            "7da7bd1f3aab48918eb360c2ac6a7b1c",
            "76941e42785a45ebb05a08f368b429bf",
            "4673a43cbf5643dd8616ba7803845763",
            "19ba5b6db8904aaf93d3ea0758322dd4",
            "0a0c5bac43a9475a8dbb1aa10e3d8e1b",
            "2bdf6891271f42bc9247813801265912",
            "fdb719dc17424b1d9f888dbd8c9a6db1",
            "5f386ce1792640698e89cf643bf1348a",
            "e5153be6bb634d80852a7b4ca0982e31",
            "23329cd8fbcc42818280ff8cc09959b3",
            "46d27db1afa14d52b823089a26c5d68d",
            "7d5fc8a5f2a645658f550e7c93ce7306",
            "877b68947e2c4ca0a026a9baeb5b2128",
            "9b8a1c5a91d34feb8e26580aa38c61c8",
            "25f08029075e4fc0ae137222b89ee2ad",
            "3f9892d540a744e98aa291b012a61bdd",
            "b8a28f9a37704d90bf3e8848f55da5d3",
            "1c4586dc2eac4ccc9527b89cf4f7d7d0",
            "4e24abd2988e404383b9f0f245b9d9d9",
            "d8e7748a3bb34410af525c609a9548b4",
            "0b50aca858d245c486faf816a41d9768",
            "5a8de7a49bcd4067994bed1858c082b9",
            "e6616dc217ba4e3d917b938be68726d3",
            "cf5c30504d624b76b9120d1d4b904c45",
            "01eeebef0b3243cfa46a5ead2c3be3da",
            "3f031f5e89dc451ca27bae065838ef78",
            "59d121276e694a9aa422dbf0bb998bb1",
            "b477a41b855a46b38bc8832088aad48b",
            "4011f9eeb8dd4c3ea341165c40b12ba1",
            "88500d609528465d8e0b4db82dc9127e",
            "f248bffdf8cd4ebcb00483c35b9f8fb4",
            "53130a8d2f3e47cfa3395d6654efffa8",
            "ef100a265c1c4808bc88060d18d72b3c",
            "84f7691b242f486f98f0a3ea33a511d4"
          ]
        },
        "id": "EbV8bnlW5XSx",
        "outputId": "c723add4-a5f8-4ec2-b168-9ccfe5680cb2"
      },
      "id": "EbV8bnlW5XSx",
      "execution_count": 18,
      "outputs": [
        {
          "output_type": "display_data",
          "data": {
            "text/plain": [
              "Map(center=[20, 0], controls=(WidgetControl(options=['position', 'transparent_bg'], widget=HBox(children=(Togg…"
            ],
            "application/vnd.jupyter.widget-view+json": {
              "version_major": 2,
              "version_minor": 0,
              "model_id": "bd627188b35f4df9bbbb80531ac70e4c"
            }
          },
          "metadata": {
            "application/vnd.jupyter.widget-view+json": {
              "colab": {
                "custom_widget_manager": {
                  "url": "https://ssl.gstatic.com/colaboratory-static/widgets/colab-cdn-widget-manager/b3e629b1971e1542/manager.min.js"
                }
              }
            }
          }
        }
      ]
    },
    {
      "cell_type": "code",
      "source": [
        "stylePoly = {'color': '000000ff', 'width': 2, 'fillColor': '00000000'}\n",
        "Map.addLayer(feature_collection.style(**stylePoly), {}, \"Delta\")\n",
        "Map.centerObject(feature_collection, 7)"
      ],
      "metadata": {
        "id": "aiKN2VHoh863"
      },
      "id": "aiKN2VHoh863",
      "execution_count": 19,
      "outputs": []
    },
    {
      "cell_type": "code",
      "source": [
        "#https://developers.google.com/earth-engine/apidocs/ee-featurecollection-style"
      ],
      "metadata": {
        "id": "_fO0BsmnpRGw"
      },
      "id": "_fO0BsmnpRGw",
      "execution_count": null,
      "outputs": []
    },
    {
      "cell_type": "code",
      "source": [
        "dictFilesPath ={\n",
        "    \"1.csv\" : \"https://drive.google.com/file/d/1YdDj72tl-rnQpzIaZSyd6see2aoPMewg/view?usp=share_link\",\n",
        "    }\n",
        "\n",
        "dfHSArgDelta = FileDataDf(dictFilesPath, 0, source = 'gdrive')\n",
        "\n",
        "gdfHSArgDelta = gpd.GeoDataFrame(\n",
        "    dfHSArgDelta,\n",
        "    geometry=gpd.points_from_xy(dfHSArgDelta['longitude'], dfHSArgDelta['latitude']),\n",
        "    crs='epsg:4326')"
      ],
      "metadata": {
        "id": "VYX5EqSqwjsn"
      },
      "id": "VYX5EqSqwjsn",
      "execution_count": 13,
      "outputs": []
    },
    {
      "cell_type": "code",
      "source": [
        "points = gdfHSArgDelta.head(50)[['longitude', 'latitude']].values.tolist()\n",
        "\n",
        "listOfFeatures = [ee.Geometry.Point(point) for point in points]\n",
        "\n",
        "listOfFeaturesFc = ee.FeatureCollection(listOfFeatures)\n",
        "\n",
        "stylePoints = {'color': 'red', 'pointSize' : 5, 'pointShape' : 'diamond'}\n",
        "Map.addLayer(listOfFeaturesFc.style(**stylePoints), {}, \"Points\")"
      ],
      "metadata": {
        "id": "1hWKljUWmK2i"
      },
      "id": "1hWKljUWmK2i",
      "execution_count": 20,
      "outputs": []
    },
    {
      "cell_type": "code",
      "source": [
        "# Draw a polygon on the map\n",
        "polygondrawn = Map.draw_last_feature\n",
        "\n",
        "# Get the coordinates of the polygon\n",
        "polygondrawn.geometry().getInfo()['coordinates']"
      ],
      "metadata": {
        "id": "SMhLVUZCTcp6",
        "outputId": "56408034-99df-401d-d634-54e873f8be2c",
        "colab": {
          "base_uri": "https://localhost:8080/"
        }
      },
      "id": "SMhLVUZCTcp6",
      "execution_count": 53,
      "outputs": [
        {
          "output_type": "execute_result",
          "data": {
            "text/plain": [
              "[[[-58.750037, -34.106688],\n",
              "  [-58.733556, -34.147044],\n",
              "  [-58.671753, -34.158409],\n",
              "  [-58.650465, -34.142498],\n",
              "  [-58.657332, -34.122037],\n",
              "  [-58.721195, -34.102708],\n",
              "  [-58.750037, -34.106688]]]"
            ]
          },
          "metadata": {},
          "execution_count": 53
        }
      ]
    },
    {
      "cell_type": "markdown",
      "source": [
        "De aca para abajo adsadsad"
      ],
      "metadata": {
        "id": "CBRjNuBIwkfm"
      },
      "id": "CBRjNuBIwkfm"
    },
    {
      "cell_type": "code",
      "execution_count": 46,
      "id": "c6c058ee",
      "metadata": {
        "id": "c6c058ee"
      },
      "outputs": [],
      "source": [
        "# allow images to display in the notebook\n",
        "from IPython.display import Image"
      ]
    },
    {
      "cell_type": "code",
      "source": [
        "roi_coordinates = polygondrawn.geometry().getInfo()['coordinates']\n",
        "\n",
        "# Create the ROI as an ee.Geometry.Polygon\n",
        "roi = ee.Geometry.Polygon(roi_coordinates)\n",
        "\n",
        "# Landsat-8 takes 8 days to come back to the same place\n",
        "\n",
        "# Start date of the range to filter for\n",
        "start_date = '2020-01-01'\n",
        "\n",
        "# End date\n",
        "end_date = '2020-09-10'\n",
        "\n",
        "# Get the satellite data\n",
        "Landsat8 = ee.ImageCollection(\"LANDSAT/LC08/C02/T1_L2\") \\\n",
        "            .filterBounds(roi) \\\n",
        "            .filterDate(start_date, end_date)\n",
        "\n",
        "# put the images in a list\n",
        "landsat_list = Landsat8.toList(Landsat8.size());\n",
        "\n",
        "for i in range(Landsat8.size().getInfo()):\n",
        "\n",
        "    # when was this image taken?\n",
        "    date = ee.Image(landsat_list.get(i)).get('DATE_ACQUIRED').getInfo()\n",
        "    # cloud cover\n",
        "    cloud = ee.Image(landsat_list.get(i)).get('CLOUD_COVER').getInfo()\n",
        "\n",
        "    print(date, cloud)"
      ],
      "metadata": {
        "id": "0aDFS1vUeGZp",
        "outputId": "6b45a31d-849e-40aa-b8a8-5bd048a4129a",
        "colab": {
          "base_uri": "https://localhost:8080/"
        }
      },
      "id": "0aDFS1vUeGZp",
      "execution_count": 55,
      "outputs": [
        {
          "output_type": "stream",
          "name": "stdout",
          "text": [
            "2020-01-02 63.99\n",
            "2020-01-18 20.71\n",
            "2020-02-03 0.81\n",
            "2020-02-19 2.44\n",
            "2020-03-06 82.5\n",
            "2020-03-22 4.93\n",
            "2020-04-07 2.87\n",
            "2020-04-23 88.05\n",
            "2020-05-09 13.37\n",
            "2020-05-25 42.41\n",
            "2020-06-10 11.07\n",
            "2020-06-26 10.7\n",
            "2020-07-12 78.59\n",
            "2020-07-28 1.61\n",
            "2020-08-13 1.81\n"
          ]
        }
      ]
    },
    {
      "cell_type": "code",
      "source": [
        "landsat_list"
      ],
      "metadata": {
        "id": "f3-wtm1IaElp"
      },
      "id": "f3-wtm1IaElp",
      "execution_count": null,
      "outputs": []
    },
    {
      "cell_type": "code",
      "execution_count": 52,
      "id": "d72e894b",
      "metadata": {
        "id": "d72e894b",
        "outputId": "3dd65033-034e-482c-d5ca-f7121a52324d",
        "colab": {
          "base_uri": "https://localhost:8080/",
          "height": 622
        }
      },
      "outputs": [
        {
          "output_type": "display_data",
          "data": {
            "text/html": [
              "<img src=\"https://earthengine.googleapis.com/v1alpha/projects/earthengine-legacy/thumbnails/418eecb1f47cb894dd899debebe011a8-f5451ed75d08f939ac4cf9a5ff842e59:getPixels\"/>"
            ],
            "text/plain": [
              "<IPython.core.display.Image object>"
            ]
          },
          "metadata": {}
        }
      ],
      "source": [
        "\n",
        "parameters = {\n",
        "                'min': 7000,\n",
        "                'max': 16000,\n",
        "                'dimensions': 600, # square size in pixels\n",
        "                'bands': ['SR_B4', 'SR_B3', 'SR_B2'] # bands to display (r,g,b)\n",
        "             }\n",
        "\n",
        "display(Image(url = ee.Image(landsat_list.get(4)).getThumbUrl(parameters)))"
      ]
    },
    {
      "cell_type": "code",
      "execution_count": null,
      "id": "1bb271b2",
      "metadata": {
        "id": "1bb271b2"
      },
      "outputs": [],
      "source": [
        "#Landsat8.size()\n",
        "#print(landsat_list)"
      ]
    },
    {
      "cell_type": "code",
      "execution_count": null,
      "id": "52cfbfdd",
      "metadata": {
        "id": "52cfbfdd",
        "outputId": "99d594ba-8032-4466-a487-c55147818416"
      },
      "outputs": [
        {
          "name": "stdout",
          "output_type": "stream",
          "text": [
            "['SR_B1', 'SR_B2', 'SR_B3', 'SR_B4', 'SR_B5', 'SR_B6', 'SR_B7', 'SR_QA_AEROSOL', 'ST_B10', 'ST_ATRAN', 'ST_CDIST', 'ST_DRAD', 'ST_EMIS', 'ST_EMSD', 'ST_QA', 'ST_TRAD', 'ST_URAD', 'QA_PIXEL', 'QA_RADSAT']\n",
            "{'type': 'Projection', 'crs': 'EPSG:32620', 'transform': [30, 0, 528585, 0, -30, -3554085]}\n"
          ]
        }
      ],
      "source": [
        "print(ee.Image(landsat_list.get(1)).bandNames().getInfo())\n",
        "\n",
        "print(ee.Image(landsat_list.get(1)).select('SR_B1').projection().getInfo())"
      ]
    },
    {
      "cell_type": "code",
      "execution_count": null,
      "id": "9c82664e",
      "metadata": {
        "id": "9c82664e",
        "outputId": "9c0c5d98-0343-4414-f4fb-0d3f39a1122a"
      },
      "outputs": [
        {
          "data": {
            "text/plain": [
              "<Geographic 2D CRS: EPSG:4326>\n",
              "Name: WGS 84\n",
              "Axis Info [ellipsoidal]:\n",
              "- Lat[north]: Geodetic latitude (degree)\n",
              "- Lon[east]: Geodetic longitude (degree)\n",
              "Area of Use:\n",
              "- name: World.\n",
              "- bounds: (-180.0, -90.0, 180.0, 90.0)\n",
              "Datum: World Geodetic System 1984 ensemble\n",
              "- Ellipsoid: WGS 84\n",
              "- Prime Meridian: Greenwich"
            ]
          },
          "execution_count": 4,
          "metadata": {},
          "output_type": "execute_result"
        }
      ],
      "source": [
        "# Se carga la imagen .shp correspondiente a los ROIs a partir del directorio\n",
        "#rois_gdp = gpd.read_file('D:\\TELEDETECCION\\Proyecto_incendios_Delta\\Muestras_2018-08-22 32620\\Muestras_2018-08-22_32620.shp')#.set_index('id') #Levanta archivo shp\n",
        "rois_gdp = gpd.read_file('D:\\TELEDETECCION\\Proyecto_incendios_Delta\\Muestras_2018-08-22.shp')#.set_index('id') #Levanta archivo shp\n",
        "\n",
        "# print(rois_gdp.geometry.values[0])\n",
        "\n",
        "#geometry = rois_gdp.geometry.values[0]\n",
        "rois_gdp.crs"
      ]
    },
    {
      "cell_type": "code",
      "execution_count": null,
      "id": "81adc5a9",
      "metadata": {
        "id": "81adc5a9"
      },
      "outputs": [],
      "source": [
        "rois_gdp_exp = rois_gdp.explode(index_parts = False)"
      ]
    },
    {
      "cell_type": "code",
      "execution_count": null,
      "id": "f64a4e12",
      "metadata": {
        "collapsed": true,
        "id": "f64a4e12",
        "outputId": "0ad83b74-815b-42ef-bd39-1b585c1a14f9"
      },
      "outputs": [
        {
          "ename": "TypeError",
          "evalue": "'Polygon' object is not subscriptable",
          "output_type": "error",
          "traceback": [
            "\u001b[1;31m---------------------------------------------------------------------------\u001b[0m",
            "\u001b[1;31mTypeError\u001b[0m                                 Traceback (most recent call last)",
            "\u001b[1;32m~\\AppData\\Local\\Temp\\ipykernel_7784\\3280118814.py\u001b[0m in \u001b[0;36m<module>\u001b[1;34m\u001b[0m\n\u001b[1;32m----> 1\u001b[1;33m \u001b[0mrois_gdp_exp\u001b[0m\u001b[1;33m.\u001b[0m\u001b[0mgeometry\u001b[0m\u001b[1;33m[\u001b[0m\u001b[1;36m0\u001b[0m\u001b[1;33m]\u001b[0m\u001b[1;33m[\u001b[0m\u001b[1;36m0\u001b[0m\u001b[1;33m]\u001b[0m\u001b[1;33m\u001b[0m\u001b[1;33m\u001b[0m\u001b[0m\n\u001b[0m",
            "\u001b[1;31mTypeError\u001b[0m: 'Polygon' object is not subscriptable"
          ]
        }
      ],
      "source": [
        "rois_gdp_exp.geometry[0]"
      ]
    },
    {
      "cell_type": "code",
      "execution_count": null,
      "id": "9c5335b2",
      "metadata": {
        "id": "9c5335b2"
      },
      "outputs": [],
      "source": [
        "#https://stackoverflow.com/questions/4741243/how-to-pick-just-one-item-from-a-generator\n",
        "rois_gdp_iterf = rois_gdp.iterfeatures()\n",
        "geom_data = next(rois_gdp_iterf)['geometry']['coordinates']"
      ]
    },
    {
      "cell_type": "code",
      "execution_count": null,
      "id": "b8490465",
      "metadata": {
        "id": "b8490465"
      },
      "outputs": [],
      "source": [
        "list_lon = []\n",
        "list_lat = []\n",
        "\n",
        "for i in range(len(geom_data[0])):\n",
        "    list_lon.append(geom_data[0][i][0])\n",
        "    list_lat.append(geom_data[0][i][1])"
      ]
    },
    {
      "cell_type": "code",
      "execution_count": null,
      "id": "6afae545",
      "metadata": {
        "id": "6afae545",
        "outputId": "274697a6-1bb4-43cd-a54f-8f85135657b4"
      },
      "outputs": [
        {
          "data": {
            "text/plain": [
              "[[-60.43470604358266, -32.834308101686894],\n",
              " [-60.36500181902507, -32.834154378659115],\n",
              " [-60.359696248126994, -32.95597310931026],\n",
              " [-60.43049817700832, -32.956740665506416],\n",
              " [-60.43470604358266, -32.834308101686894]]"
            ]
          },
          "execution_count": 10,
          "metadata": {},
          "output_type": "execute_result"
        }
      ],
      "source": [
        "list_coord = []\n",
        "\n",
        "for i in range(len(geom_data[0])):\n",
        "    list_coord.append(list(geom_data[0][i]))\n",
        "\n",
        "list_coord"
      ]
    },
    {
      "cell_type": "code",
      "execution_count": null,
      "id": "55daed28",
      "metadata": {
        "id": "55daed28"
      },
      "outputs": [],
      "source": [
        "geom_clip = ee.Geometry.Polygon(list_coord)"
      ]
    },
    {
      "cell_type": "code",
      "execution_count": null,
      "id": "ba931deb",
      "metadata": {
        "collapsed": true,
        "id": "ba931deb",
        "outputId": "653ea91a-8719-4c77-8262-cadae2e0c8d4"
      },
      "outputs": [
        {
          "data": {
            "text/plain": [
              "ee.Geometry({\n",
              "  \"functionInvocationValue\": {\n",
              "    \"functionName\": \"GeometryConstructors.Polygon\",\n",
              "    \"arguments\": {\n",
              "      \"coordinates\": {\n",
              "        \"constantValue\": [\n",
              "          [\n",
              "            [\n",
              "              -60.43470604358266,\n",
              "              -32.834308101686894\n",
              "            ],\n",
              "            [\n",
              "              -60.36500181902507,\n",
              "              -32.834154378659115\n",
              "            ],\n",
              "            [\n",
              "              -60.359696248126994,\n",
              "              -32.95597310931026\n",
              "            ],\n",
              "            [\n",
              "              -60.43049817700832,\n",
              "              -32.956740665506416\n",
              "            ],\n",
              "            [\n",
              "              -60.43470604358266,\n",
              "              -32.834308101686894\n",
              "            ]\n",
              "          ]\n",
              "        ]\n",
              "      },\n",
              "      \"evenOdd\": {\n",
              "        \"constantValue\": true\n",
              "      }\n",
              "    }\n",
              "  }\n",
              "})"
            ]
          },
          "execution_count": 35,
          "metadata": {},
          "output_type": "execute_result"
        }
      ],
      "source": [
        "geom_clip"
      ]
    },
    {
      "cell_type": "code",
      "execution_count": null,
      "id": "ac4c4db4",
      "metadata": {
        "id": "ac4c4db4",
        "outputId": "a58dc271-b3db-42d9-dadc-4831137a65fb"
      },
      "outputs": [
        {
          "data": {
            "text/html": [
              "<img src=\"https://earthengine.googleapis.com/v1alpha/projects/earthengine-legacy/thumbnails/4789863298d69297ded175f294e312d9-1c644809ccbb0e5a458d8f6d118c880d:getPixels\"/>"
            ],
            "text/plain": [
              "<IPython.core.display.Image object>"
            ]
          },
          "metadata": {},
          "output_type": "display_data"
        }
      ],
      "source": [
        "#ee.Image(landsat_list.get(1)).clip(geometry)\n",
        "\n",
        "display(Image(url = ee.Image(landsat_list.get(1)).clip(geom_clip).getThumbUrl(parameters)))"
      ]
    },
    {
      "cell_type": "markdown",
      "id": "158af3e7",
      "metadata": {
        "id": "158af3e7"
      },
      "source": [
        "Export image\n",
        "\n",
        "References:\n",
        "https://eamena.org/sites/default/files/eamena/documents/media/gis_4_-_introduction_to_gee_and_sentinel-2_imagery-compressed.pdf\n",
        "https://gis.stackexchange.com/questions/300344/exported-bands-must-have-compatible-data-types-found-inconsistent-types-uint16\n",
        "https://gis.stackexchange.com/questions/347340/export-google-earth-engine-landsat-image-to-google-drive-not-working-in-python-a"
      ]
    },
    {
      "cell_type": "code",
      "execution_count": null,
      "id": "7a4f3cd6",
      "metadata": {
        "id": "7a4f3cd6",
        "outputId": "09fa2cf8-0f1f-4225-f0dc-1cb19a09ac75"
      },
      "outputs": [
        {
          "data": {
            "text/plain": [
              "['SR_B1', 'SR_B2', 'SR_B3', 'SR_B4', 'SR_B5', 'SR_B6']"
            ]
          },
          "execution_count": 31,
          "metadata": {},
          "output_type": "execute_result"
        }
      ],
      "source": [
        "select_bands = ee.Image(landsat_list.get(1)).bandNames().getInfo()[0:6]\n",
        "select_bands"
      ]
    },
    {
      "cell_type": "code",
      "execution_count": null,
      "id": "e16c95f0",
      "metadata": {
        "id": "e16c95f0"
      },
      "outputs": [],
      "source": [
        "image_bands = ee.Image(landsat_list.get(1)).select(select_bands)"
      ]
    },
    {
      "cell_type": "code",
      "execution_count": null,
      "id": "82079811",
      "metadata": {
        "id": "82079811"
      },
      "outputs": [],
      "source": [
        "export_task = ee.batch.Export.image.toDrive(\n",
        "    image = image_bands,\n",
        "    region = geom_clip,\n",
        "    #description = 'test01'\n",
        ")"
      ]
    },
    {
      "cell_type": "code",
      "execution_count": null,
      "id": "5d27fa54",
      "metadata": {
        "id": "5d27fa54"
      },
      "outputs": [],
      "source": [
        "export_task.start()"
      ]
    },
    {
      "cell_type": "code",
      "execution_count": null,
      "id": "d5d110ef",
      "metadata": {
        "id": "d5d110ef",
        "outputId": "b718b2af-3677-4e97-a150-f5a6ad999cf9"
      },
      "outputs": [
        {
          "data": {
            "text/plain": [
              "{'state': 'READY',\n",
              " 'description': 'myExportImageTask',\n",
              " 'creation_timestamp_ms': 1672542935978,\n",
              " 'update_timestamp_ms': 1672542935978,\n",
              " 'start_timestamp_ms': 0,\n",
              " 'task_type': 'EXPORT_IMAGE',\n",
              " 'id': 'SOGVC6ZNDRHMGGGMWYYPFWHM',\n",
              " 'name': 'projects/earthengine-legacy/operations/SOGVC6ZNDRHMGGGMWYYPFWHM'}"
            ]
          },
          "execution_count": 30,
          "metadata": {},
          "output_type": "execute_result"
        }
      ],
      "source": [
        "export_task.status()"
      ]
    }
  ],
  "metadata": {
    "kernelspec": {
      "display_name": "Python 3 (ipykernel)",
      "language": "python",
      "name": "python3"
    },
    "language_info": {
      "codemirror_mode": {
        "name": "ipython",
        "version": 3
      },
      "file_extension": ".py",
      "mimetype": "text/x-python",
      "name": "python",
      "nbconvert_exporter": "python",
      "pygments_lexer": "ipython3",
      "version": "3.9.13"
    },
    "colab": {
      "provenance": [],
      "include_colab_link": true
    },
    "widgets": {
      "application/vnd.jupyter.widget-state+json": {
        "bd627188b35f4df9bbbb80531ac70e4c": {
          "model_module": "jupyter-leaflet",
          "model_name": "LeafletMapModel",
          "model_module_version": "^0.17",
          "state": {
            "_dom_classes": [],
            "_model_module": "jupyter-leaflet",
            "_model_module_version": "^0.17",
            "_model_name": "LeafletMapModel",
            "_view_count": null,
            "_view_module": "jupyter-leaflet",
            "_view_module_version": "^0.17",
            "_view_name": "LeafletMapView",
            "bottom": 315343.99997589114,
            "bounce_at_zoom_limits": true,
            "box_zoom": true,
            "center": [
              -34.109530492959514,
              -58.5045864638662
            ],
            "close_popup_on_click": true,
            "controls": [
              "IPY_MODEL_9c2fee8486a6488db9a84ee1e5036d49",
              "IPY_MODEL_7da7bd1f3aab48918eb360c2ac6a7b1c",
              "IPY_MODEL_76941e42785a45ebb05a08f368b429bf",
              "IPY_MODEL_4673a43cbf5643dd8616ba7803845763",
              "IPY_MODEL_19ba5b6db8904aaf93d3ea0758322dd4",
              "IPY_MODEL_0a0c5bac43a9475a8dbb1aa10e3d8e1b",
              "IPY_MODEL_2bdf6891271f42bc9247813801265912",
              "IPY_MODEL_fdb719dc17424b1d9f888dbd8c9a6db1"
            ],
            "crs": {
              "name": "EPSG3857",
              "custom": false
            },
            "default_style": "IPY_MODEL_5f386ce1792640698e89cf643bf1348a",
            "double_click_zoom": true,
            "dragging": true,
            "dragging_style": "IPY_MODEL_e5153be6bb634d80852a7b4ca0982e31",
            "east": -57.94806027978416,
            "fullscreen": false,
            "inertia": true,
            "inertia_deceleration": 3000,
            "inertia_max_speed": 1500,
            "interpolation": "bilinear",
            "keyboard": true,
            "keyboard_pan_offset": 80,
            "keyboard_zoom_offset": 1,
            "layers": [
              "IPY_MODEL_23329cd8fbcc42818280ff8cc09959b3",
              "IPY_MODEL_46d27db1afa14d52b823089a26c5d68d",
              "IPY_MODEL_cf5c30504d624b76b9120d1d4b904c45",
              "IPY_MODEL_01eeebef0b3243cfa46a5ead2c3be3da",
              "IPY_MODEL_84f7691b242f486f98f0a3ea33a511d4"
            ],
            "layout": "IPY_MODEL_7d5fc8a5f2a645658f550e7c93ce7306",
            "left": 176130.02047786812,
            "max_zoom": 24,
            "min_zoom": null,
            "modisdate": "2023-07-08",
            "north": -33.938802737111835,
            "options": [
              "bounce_at_zoom_limits",
              "box_zoom",
              "center",
              "close_popup_on_click",
              "double_click_zoom",
              "dragging",
              "fullscreen",
              "inertia",
              "inertia_deceleration",
              "inertia_max_speed",
              "interpolation",
              "keyboard",
              "keyboard_pan_offset",
              "keyboard_zoom_offset",
              "max_zoom",
              "min_zoom",
              "prefer_canvas",
              "scroll_wheel_zoom",
              "tap",
              "tap_tolerance",
              "touch_zoom",
              "world_copy_jump",
              "zoom",
              "zoom_animation_threshold",
              "zoom_delta",
              "zoom_snap"
            ],
            "panes": {},
            "prefer_canvas": false,
            "right": 177751.02047786812,
            "scroll_wheel_zoom": true,
            "south": -34.279914384871226,
            "style": "IPY_MODEL_5f386ce1792640698e89cf643bf1348a",
            "tap": true,
            "tap_tolerance": 15,
            "top": 314743.99997589114,
            "touch_zoom": true,
            "west": -59.06111264794823,
            "window_url": "https://t25vxuxqcs-496ff2e9c6d22116-0-colab.googleusercontent.com/outputframe.html?vrz=colab-20230706-060158-RC00_545943305",
            "world_copy_jump": false,
            "zoom": 11,
            "zoom_animation_threshold": 4,
            "zoom_delta": 1,
            "zoom_snap": 1
          }
        },
        "9c2fee8486a6488db9a84ee1e5036d49": {
          "model_module": "jupyter-leaflet",
          "model_name": "LeafletWidgetControlModel",
          "model_module_version": "^0.17",
          "state": {
            "_model_module": "jupyter-leaflet",
            "_model_module_version": "^0.17",
            "_model_name": "LeafletWidgetControlModel",
            "_view_count": null,
            "_view_module": "jupyter-leaflet",
            "_view_module_version": "^0.17",
            "_view_name": "LeafletWidgetControlView",
            "max_height": null,
            "max_width": null,
            "min_height": null,
            "min_width": null,
            "options": [
              "position",
              "transparent_bg"
            ],
            "position": "topleft",
            "transparent_bg": false,
            "widget": "IPY_MODEL_9b8a1c5a91d34feb8e26580aa38c61c8"
          }
        },
        "7da7bd1f3aab48918eb360c2ac6a7b1c": {
          "model_module": "jupyter-leaflet",
          "model_name": "LeafletZoomControlModel",
          "model_module_version": "^0.17",
          "state": {
            "_model_module": "jupyter-leaflet",
            "_model_module_version": "^0.17",
            "_model_name": "LeafletZoomControlModel",
            "_view_count": null,
            "_view_module": "jupyter-leaflet",
            "_view_module_version": "^0.17",
            "_view_name": "LeafletZoomControlView",
            "options": [
              "position",
              "zoom_in_text",
              "zoom_in_title",
              "zoom_out_text",
              "zoom_out_title"
            ],
            "position": "topleft",
            "zoom_in_text": "+",
            "zoom_in_title": "Zoom in",
            "zoom_out_text": "-",
            "zoom_out_title": "Zoom out"
          }
        },
        "76941e42785a45ebb05a08f368b429bf": {
          "model_module": "jupyter-leaflet",
          "model_name": "LeafletFullScreenControlModel",
          "model_module_version": "^0.17",
          "state": {
            "_model_module": "jupyter-leaflet",
            "_model_module_version": "^0.17",
            "_model_name": "LeafletFullScreenControlModel",
            "_view_count": null,
            "_view_module": "jupyter-leaflet",
            "_view_module_version": "^0.17",
            "_view_name": "LeafletFullScreenControlView",
            "options": [
              "position"
            ],
            "position": "topleft"
          }
        },
        "4673a43cbf5643dd8616ba7803845763": {
          "model_module": "jupyter-leaflet",
          "model_name": "LeafletDrawControlModel",
          "model_module_version": "^0.17",
          "state": {
            "_model_module": "jupyter-leaflet",
            "_model_module_version": "^0.17",
            "_model_name": "LeafletDrawControlModel",
            "_view_count": null,
            "_view_module": "jupyter-leaflet",
            "_view_module_version": "^0.17",
            "_view_name": "LeafletDrawControlView",
            "circle": {},
            "circlemarker": {},
            "data": [
              {
                "type": "Feature",
                "properties": {
                  "style": {
                    "stroke": true,
                    "color": "#3388ff",
                    "weight": 4,
                    "opacity": 0.5,
                    "fill": true,
                    "fillColor": null,
                    "fillOpacity": 0.2,
                    "clickable": true
                  }
                },
                "geometry": {
                  "type": "Polygon",
                  "coordinates": [
                    [
                      [
                        -58.750037,
                        -34.106688
                      ],
                      [
                        -58.733556,
                        -34.147044
                      ],
                      [
                        -58.671753,
                        -34.158409
                      ],
                      [
                        -58.650465,
                        -34.142498
                      ],
                      [
                        -58.657332,
                        -34.122037
                      ],
                      [
                        -58.721195,
                        -34.102708
                      ],
                      [
                        -58.750037,
                        -34.106688
                      ]
                    ]
                  ]
                }
              }
            ],
            "edit": true,
            "marker": {
              "shapeOptions": {
                "color": "#3388ff"
              }
            },
            "options": [
              "position"
            ],
            "polygon": {
              "shapeOptions": {}
            },
            "polyline": {
              "shapeOptions": {}
            },
            "position": "topleft",
            "rectangle": {
              "shapeOptions": {
                "color": "#3388ff"
              }
            },
            "remove": true
          }
        },
        "19ba5b6db8904aaf93d3ea0758322dd4": {
          "model_module": "jupyter-leaflet",
          "model_name": "LeafletScaleControlModel",
          "model_module_version": "^0.17",
          "state": {
            "_model_module": "jupyter-leaflet",
            "_model_module_version": "^0.17",
            "_model_name": "LeafletScaleControlModel",
            "_view_count": null,
            "_view_module": "jupyter-leaflet",
            "_view_module_version": "^0.17",
            "_view_name": "LeafletScaleControlView",
            "imperial": true,
            "max_width": 100,
            "metric": true,
            "options": [
              "imperial",
              "max_width",
              "metric",
              "position",
              "update_when_idle"
            ],
            "position": "bottomleft",
            "update_when_idle": false
          }
        },
        "0a0c5bac43a9475a8dbb1aa10e3d8e1b": {
          "model_module": "jupyter-leaflet",
          "model_name": "LeafletMeasureControlModel",
          "model_module_version": "^0.17",
          "state": {
            "_custom_units": {},
            "_model_module": "jupyter-leaflet",
            "_model_module_version": "^0.17",
            "_model_name": "LeafletMeasureControlModel",
            "_view_count": null,
            "_view_module": "jupyter-leaflet",
            "_view_module_version": "^0.17",
            "_view_name": "LeafletMeasureControlView",
            "active_color": "orange",
            "capture_z_index": 10000,
            "completed_color": "#C8F2BE",
            "options": [
              "active_color",
              "capture_z_index",
              "completed_color",
              "popup_options",
              "position",
              "primary_area_unit",
              "primary_length_unit",
              "secondary_area_unit",
              "secondary_length_unit"
            ],
            "popup_options": {
              "className": "leaflet-measure-resultpopup",
              "autoPanPadding": [
                10,
                10
              ]
            },
            "position": "bottomleft",
            "primary_area_unit": "acres",
            "primary_length_unit": "kilometers",
            "secondary_area_unit": null,
            "secondary_length_unit": null
          }
        },
        "2bdf6891271f42bc9247813801265912": {
          "model_module": "jupyter-leaflet",
          "model_name": "LeafletWidgetControlModel",
          "model_module_version": "^0.17",
          "state": {
            "_model_module": "jupyter-leaflet",
            "_model_module_version": "^0.17",
            "_model_name": "LeafletWidgetControlModel",
            "_view_count": null,
            "_view_module": "jupyter-leaflet",
            "_view_module_version": "^0.17",
            "_view_name": "LeafletWidgetControlView",
            "max_height": null,
            "max_width": null,
            "min_height": null,
            "min_width": null,
            "options": [
              "position",
              "transparent_bg"
            ],
            "position": "topright",
            "transparent_bg": false,
            "widget": "IPY_MODEL_25f08029075e4fc0ae137222b89ee2ad"
          }
        },
        "fdb719dc17424b1d9f888dbd8c9a6db1": {
          "model_module": "jupyter-leaflet",
          "model_name": "LeafletAttributionControlModel",
          "model_module_version": "^0.17",
          "state": {
            "_model_module": "jupyter-leaflet",
            "_model_module_version": "^0.17",
            "_model_name": "LeafletAttributionControlModel",
            "_view_count": null,
            "_view_module": "jupyter-leaflet",
            "_view_module_version": "^0.17",
            "_view_name": "LeafletAttributionControlView",
            "options": [
              "position",
              "prefix"
            ],
            "position": "bottomright",
            "prefix": "ipyleaflet"
          }
        },
        "5f386ce1792640698e89cf643bf1348a": {
          "model_module": "jupyter-leaflet",
          "model_name": "LeafletMapStyleModel",
          "model_module_version": "^0.17",
          "state": {
            "_model_module": "jupyter-leaflet",
            "_model_module_version": "^0.17",
            "_model_name": "LeafletMapStyleModel",
            "_view_count": null,
            "_view_module": "@jupyter-widgets/base",
            "_view_module_version": "1.2.0",
            "_view_name": "StyleView",
            "cursor": "grab"
          }
        },
        "e5153be6bb634d80852a7b4ca0982e31": {
          "model_module": "jupyter-leaflet",
          "model_name": "LeafletMapStyleModel",
          "model_module_version": "^0.17",
          "state": {
            "_model_module": "jupyter-leaflet",
            "_model_module_version": "^0.17",
            "_model_name": "LeafletMapStyleModel",
            "_view_count": null,
            "_view_module": "@jupyter-widgets/base",
            "_view_module_version": "1.2.0",
            "_view_name": "StyleView",
            "cursor": "move"
          }
        },
        "23329cd8fbcc42818280ff8cc09959b3": {
          "model_module": "jupyter-leaflet",
          "model_name": "LeafletTileLayerModel",
          "model_module_version": "^0.17",
          "state": {
            "_model_module": "jupyter-leaflet",
            "_model_module_version": "^0.17",
            "_model_name": "LeafletTileLayerModel",
            "_view_count": null,
            "_view_module": "jupyter-leaflet",
            "_view_module_version": "^0.17",
            "_view_name": "LeafletTileLayerView",
            "attribution": "&copy; <a href=\"https://www.openstreetmap.org/copyright\">OpenStreetMap</a> contributors",
            "base": true,
            "bottom": true,
            "bounds": null,
            "detect_retina": false,
            "loading": false,
            "max_native_zoom": null,
            "max_zoom": 19,
            "min_native_zoom": null,
            "min_zoom": 1,
            "name": "OpenStreetMap.Mapnik",
            "no_wrap": false,
            "opacity": 1,
            "options": [
              "attribution",
              "bounds",
              "detect_retina",
              "max_native_zoom",
              "max_zoom",
              "min_native_zoom",
              "min_zoom",
              "no_wrap",
              "tile_size",
              "tms",
              "zoom_offset"
            ],
            "pane": "",
            "popup": null,
            "popup_max_height": null,
            "popup_max_width": 300,
            "popup_min_width": 50,
            "show_loading": false,
            "subitems": [],
            "tile_size": 256,
            "tms": false,
            "url": "https://tile.openstreetmap.org/{z}/{x}/{y}.png",
            "visible": true,
            "zoom_offset": 0
          }
        },
        "46d27db1afa14d52b823089a26c5d68d": {
          "model_module": "jupyter-leaflet",
          "model_name": "LeafletTileLayerModel",
          "model_module_version": "^0.17",
          "state": {
            "_model_module": "jupyter-leaflet",
            "_model_module_version": "^0.17",
            "_model_name": "LeafletTileLayerModel",
            "_view_count": null,
            "_view_module": "jupyter-leaflet",
            "_view_module_version": "^0.17",
            "_view_name": "LeafletTileLayerView",
            "attribution": "Google",
            "base": false,
            "bottom": true,
            "bounds": null,
            "detect_retina": false,
            "loading": false,
            "max_native_zoom": null,
            "max_zoom": 24,
            "min_native_zoom": null,
            "min_zoom": 0,
            "name": "Google Maps",
            "no_wrap": false,
            "opacity": 1,
            "options": [
              "attribution",
              "bounds",
              "detect_retina",
              "max_native_zoom",
              "max_zoom",
              "min_native_zoom",
              "min_zoom",
              "no_wrap",
              "tile_size",
              "tms",
              "zoom_offset"
            ],
            "pane": "",
            "popup": null,
            "popup_max_height": null,
            "popup_max_width": 300,
            "popup_min_width": 50,
            "show_loading": false,
            "subitems": [],
            "tile_size": 256,
            "tms": false,
            "url": "https://mt1.google.com/vt/lyrs=m&x={x}&y={y}&z={z}",
            "visible": true,
            "zoom_offset": 0
          }
        },
        "7d5fc8a5f2a645658f550e7c93ce7306": {
          "model_module": "@jupyter-widgets/base",
          "model_name": "LayoutModel",
          "model_module_version": "1.2.0",
          "state": {
            "_model_module": "@jupyter-widgets/base",
            "_model_module_version": "1.2.0",
            "_model_name": "LayoutModel",
            "_view_count": null,
            "_view_module": "@jupyter-widgets/base",
            "_view_module_version": "1.2.0",
            "_view_name": "LayoutView",
            "align_content": null,
            "align_items": null,
            "align_self": null,
            "border": null,
            "bottom": null,
            "display": null,
            "flex": null,
            "flex_flow": null,
            "grid_area": null,
            "grid_auto_columns": null,
            "grid_auto_flow": null,
            "grid_auto_rows": null,
            "grid_column": null,
            "grid_gap": null,
            "grid_row": null,
            "grid_template_areas": null,
            "grid_template_columns": null,
            "grid_template_rows": null,
            "height": "600px",
            "justify_content": null,
            "justify_items": null,
            "left": null,
            "margin": null,
            "max_height": null,
            "max_width": null,
            "min_height": null,
            "min_width": null,
            "object_fit": null,
            "object_position": null,
            "order": null,
            "overflow": null,
            "overflow_x": null,
            "overflow_y": null,
            "padding": null,
            "right": null,
            "top": null,
            "visibility": null,
            "width": null
          }
        },
        "877b68947e2c4ca0a026a9baeb5b2128": {
          "model_module": "jupyter-leaflet",
          "model_name": "LeafletMapStyleModel",
          "model_module_version": "^0.17",
          "state": {
            "_model_module": "jupyter-leaflet",
            "_model_module_version": "^0.17",
            "_model_name": "LeafletMapStyleModel",
            "_view_count": null,
            "_view_module": "@jupyter-widgets/base",
            "_view_module_version": "1.2.0",
            "_view_name": "StyleView",
            "cursor": "grab"
          }
        },
        "9b8a1c5a91d34feb8e26580aa38c61c8": {
          "model_module": "@jupyter-widgets/controls",
          "model_name": "HBoxModel",
          "model_module_version": "1.5.0",
          "state": {
            "_dom_classes": [],
            "_model_module": "@jupyter-widgets/controls",
            "_model_module_version": "1.5.0",
            "_model_name": "HBoxModel",
            "_view_count": null,
            "_view_module": "@jupyter-widgets/controls",
            "_view_module_version": "1.5.0",
            "_view_name": "HBoxView",
            "box_style": "",
            "children": [
              "IPY_MODEL_3f9892d540a744e98aa291b012a61bdd"
            ],
            "layout": "IPY_MODEL_b8a28f9a37704d90bf3e8848f55da5d3"
          }
        },
        "25f08029075e4fc0ae137222b89ee2ad": {
          "model_module": "@jupyter-widgets/controls",
          "model_name": "VBoxModel",
          "model_module_version": "1.5.0",
          "state": {
            "_dom_classes": [],
            "_model_module": "@jupyter-widgets/controls",
            "_model_module_version": "1.5.0",
            "_model_name": "VBoxModel",
            "_view_count": null,
            "_view_module": "@jupyter-widgets/controls",
            "_view_module_version": "1.5.0",
            "_view_name": "VBoxView",
            "box_style": "",
            "children": [
              "IPY_MODEL_1c4586dc2eac4ccc9527b89cf4f7d7d0"
            ],
            "layout": "IPY_MODEL_4e24abd2988e404383b9f0f245b9d9d9"
          }
        },
        "3f9892d540a744e98aa291b012a61bdd": {
          "model_module": "@jupyter-widgets/controls",
          "model_name": "ToggleButtonModel",
          "model_module_version": "1.5.0",
          "state": {
            "_dom_classes": [],
            "_model_module": "@jupyter-widgets/controls",
            "_model_module_version": "1.5.0",
            "_model_name": "ToggleButtonModel",
            "_view_count": null,
            "_view_module": "@jupyter-widgets/controls",
            "_view_module_version": "1.5.0",
            "_view_name": "ToggleButtonView",
            "button_style": "",
            "description": "",
            "description_tooltip": null,
            "disabled": false,
            "icon": "globe",
            "layout": "IPY_MODEL_d8e7748a3bb34410af525c609a9548b4",
            "style": "IPY_MODEL_0b50aca858d245c486faf816a41d9768",
            "tooltip": "Search location/data",
            "value": false
          }
        },
        "b8a28f9a37704d90bf3e8848f55da5d3": {
          "model_module": "@jupyter-widgets/base",
          "model_name": "LayoutModel",
          "model_module_version": "1.2.0",
          "state": {
            "_model_module": "@jupyter-widgets/base",
            "_model_module_version": "1.2.0",
            "_model_name": "LayoutModel",
            "_view_count": null,
            "_view_module": "@jupyter-widgets/base",
            "_view_module_version": "1.2.0",
            "_view_name": "LayoutView",
            "align_content": null,
            "align_items": null,
            "align_self": null,
            "border": null,
            "bottom": null,
            "display": null,
            "flex": null,
            "flex_flow": null,
            "grid_area": null,
            "grid_auto_columns": null,
            "grid_auto_flow": null,
            "grid_auto_rows": null,
            "grid_column": null,
            "grid_gap": null,
            "grid_row": null,
            "grid_template_areas": null,
            "grid_template_columns": null,
            "grid_template_rows": null,
            "height": null,
            "justify_content": null,
            "justify_items": null,
            "left": null,
            "margin": null,
            "max_height": null,
            "max_width": null,
            "min_height": null,
            "min_width": null,
            "object_fit": null,
            "object_position": null,
            "order": null,
            "overflow": null,
            "overflow_x": null,
            "overflow_y": null,
            "padding": null,
            "right": null,
            "top": null,
            "visibility": null,
            "width": null
          }
        },
        "1c4586dc2eac4ccc9527b89cf4f7d7d0": {
          "model_module": "@jupyter-widgets/controls",
          "model_name": "ToggleButtonModel",
          "model_module_version": "1.5.0",
          "state": {
            "_dom_classes": [],
            "_model_module": "@jupyter-widgets/controls",
            "_model_module_version": "1.5.0",
            "_model_name": "ToggleButtonModel",
            "_view_count": null,
            "_view_module": "@jupyter-widgets/controls",
            "_view_module_version": "1.5.0",
            "_view_name": "ToggleButtonView",
            "button_style": "",
            "description": "",
            "description_tooltip": null,
            "disabled": false,
            "icon": "wrench",
            "layout": "IPY_MODEL_5a8de7a49bcd4067994bed1858c082b9",
            "style": "IPY_MODEL_e6616dc217ba4e3d917b938be68726d3",
            "tooltip": "Toolbar",
            "value": false
          }
        },
        "4e24abd2988e404383b9f0f245b9d9d9": {
          "model_module": "@jupyter-widgets/base",
          "model_name": "LayoutModel",
          "model_module_version": "1.2.0",
          "state": {
            "_model_module": "@jupyter-widgets/base",
            "_model_module_version": "1.2.0",
            "_model_name": "LayoutModel",
            "_view_count": null,
            "_view_module": "@jupyter-widgets/base",
            "_view_module_version": "1.2.0",
            "_view_name": "LayoutView",
            "align_content": null,
            "align_items": null,
            "align_self": null,
            "border": null,
            "bottom": null,
            "display": null,
            "flex": null,
            "flex_flow": null,
            "grid_area": null,
            "grid_auto_columns": null,
            "grid_auto_flow": null,
            "grid_auto_rows": null,
            "grid_column": null,
            "grid_gap": null,
            "grid_row": null,
            "grid_template_areas": null,
            "grid_template_columns": null,
            "grid_template_rows": null,
            "height": null,
            "justify_content": null,
            "justify_items": null,
            "left": null,
            "margin": null,
            "max_height": null,
            "max_width": null,
            "min_height": null,
            "min_width": null,
            "object_fit": null,
            "object_position": null,
            "order": null,
            "overflow": null,
            "overflow_x": null,
            "overflow_y": null,
            "padding": null,
            "right": null,
            "top": null,
            "visibility": null,
            "width": null
          }
        },
        "d8e7748a3bb34410af525c609a9548b4": {
          "model_module": "@jupyter-widgets/base",
          "model_name": "LayoutModel",
          "model_module_version": "1.2.0",
          "state": {
            "_model_module": "@jupyter-widgets/base",
            "_model_module_version": "1.2.0",
            "_model_name": "LayoutModel",
            "_view_count": null,
            "_view_module": "@jupyter-widgets/base",
            "_view_module_version": "1.2.0",
            "_view_name": "LayoutView",
            "align_content": null,
            "align_items": null,
            "align_self": null,
            "border": null,
            "bottom": null,
            "display": null,
            "flex": null,
            "flex_flow": null,
            "grid_area": null,
            "grid_auto_columns": null,
            "grid_auto_flow": null,
            "grid_auto_rows": null,
            "grid_column": null,
            "grid_gap": null,
            "grid_row": null,
            "grid_template_areas": null,
            "grid_template_columns": null,
            "grid_template_rows": null,
            "height": "28px",
            "justify_content": null,
            "justify_items": null,
            "left": null,
            "margin": null,
            "max_height": null,
            "max_width": null,
            "min_height": null,
            "min_width": null,
            "object_fit": null,
            "object_position": null,
            "order": null,
            "overflow": null,
            "overflow_x": null,
            "overflow_y": null,
            "padding": "0px 0px 0px 4px",
            "right": null,
            "top": null,
            "visibility": null,
            "width": "28px"
          }
        },
        "0b50aca858d245c486faf816a41d9768": {
          "model_module": "@jupyter-widgets/controls",
          "model_name": "DescriptionStyleModel",
          "model_module_version": "1.5.0",
          "state": {
            "_model_module": "@jupyter-widgets/controls",
            "_model_module_version": "1.5.0",
            "_model_name": "DescriptionStyleModel",
            "_view_count": null,
            "_view_module": "@jupyter-widgets/base",
            "_view_module_version": "1.2.0",
            "_view_name": "StyleView",
            "description_width": ""
          }
        },
        "5a8de7a49bcd4067994bed1858c082b9": {
          "model_module": "@jupyter-widgets/base",
          "model_name": "LayoutModel",
          "model_module_version": "1.2.0",
          "state": {
            "_model_module": "@jupyter-widgets/base",
            "_model_module_version": "1.2.0",
            "_model_name": "LayoutModel",
            "_view_count": null,
            "_view_module": "@jupyter-widgets/base",
            "_view_module_version": "1.2.0",
            "_view_name": "LayoutView",
            "align_content": null,
            "align_items": null,
            "align_self": null,
            "border": null,
            "bottom": null,
            "display": null,
            "flex": null,
            "flex_flow": null,
            "grid_area": null,
            "grid_auto_columns": null,
            "grid_auto_flow": null,
            "grid_auto_rows": null,
            "grid_column": null,
            "grid_gap": null,
            "grid_row": null,
            "grid_template_areas": null,
            "grid_template_columns": null,
            "grid_template_rows": null,
            "height": "28px",
            "justify_content": null,
            "justify_items": null,
            "left": null,
            "margin": null,
            "max_height": null,
            "max_width": null,
            "min_height": null,
            "min_width": null,
            "object_fit": null,
            "object_position": null,
            "order": null,
            "overflow": null,
            "overflow_x": null,
            "overflow_y": null,
            "padding": "0px 0px 0px 4px",
            "right": null,
            "top": null,
            "visibility": null,
            "width": "28px"
          }
        },
        "e6616dc217ba4e3d917b938be68726d3": {
          "model_module": "@jupyter-widgets/controls",
          "model_name": "DescriptionStyleModel",
          "model_module_version": "1.5.0",
          "state": {
            "_model_module": "@jupyter-widgets/controls",
            "_model_module_version": "1.5.0",
            "_model_name": "DescriptionStyleModel",
            "_view_count": null,
            "_view_module": "@jupyter-widgets/base",
            "_view_module_version": "1.2.0",
            "_view_name": "StyleView",
            "description_width": ""
          }
        },
        "cf5c30504d624b76b9120d1d4b904c45": {
          "model_module": "jupyter-leaflet",
          "model_name": "LeafletTileLayerModel",
          "model_module_version": "^0.17",
          "state": {
            "_model_module": "jupyter-leaflet",
            "_model_module_version": "^0.17",
            "_model_name": "LeafletTileLayerModel",
            "_view_count": null,
            "_view_module": "jupyter-leaflet",
            "_view_module_version": "^0.17",
            "_view_name": "LeafletTileLayerView",
            "attribution": "Google Earth Engine",
            "base": false,
            "bottom": true,
            "bounds": null,
            "detect_retina": false,
            "loading": false,
            "max_native_zoom": null,
            "max_zoom": 24,
            "min_native_zoom": null,
            "min_zoom": 0,
            "name": "Delta",
            "no_wrap": false,
            "opacity": 1,
            "options": [
              "attribution",
              "bounds",
              "detect_retina",
              "max_native_zoom",
              "max_zoom",
              "min_native_zoom",
              "min_zoom",
              "no_wrap",
              "tile_size",
              "tms",
              "zoom_offset"
            ],
            "pane": "",
            "popup": null,
            "popup_max_height": null,
            "popup_max_width": 300,
            "popup_min_width": 50,
            "show_loading": false,
            "subitems": [],
            "tile_size": 256,
            "tms": false,
            "url": "https://earthengine.googleapis.com/v1alpha/projects/earthengine-legacy/maps/ad9fa70376a6b50f0ce7728d25694602-ae2f42b33aae7fa72d3a810ebf493357/tiles/{z}/{x}/{y}",
            "visible": true,
            "zoom_offset": 0
          }
        },
        "01eeebef0b3243cfa46a5ead2c3be3da": {
          "model_module": "jupyter-leaflet",
          "model_name": "LeafletTileLayerModel",
          "model_module_version": "^0.17",
          "state": {
            "_model_module": "jupyter-leaflet",
            "_model_module_version": "^0.17",
            "_model_name": "LeafletTileLayerModel",
            "_view_count": null,
            "_view_module": "jupyter-leaflet",
            "_view_module_version": "^0.17",
            "_view_name": "LeafletTileLayerView",
            "attribution": "Google Earth Engine",
            "base": false,
            "bottom": true,
            "bounds": null,
            "detect_retina": false,
            "loading": false,
            "max_native_zoom": null,
            "max_zoom": 24,
            "min_native_zoom": null,
            "min_zoom": 0,
            "name": "Points",
            "no_wrap": false,
            "opacity": 1,
            "options": [
              "attribution",
              "bounds",
              "detect_retina",
              "max_native_zoom",
              "max_zoom",
              "min_native_zoom",
              "min_zoom",
              "no_wrap",
              "tile_size",
              "tms",
              "zoom_offset"
            ],
            "pane": "",
            "popup": null,
            "popup_max_height": null,
            "popup_max_width": 300,
            "popup_min_width": 50,
            "show_loading": false,
            "subitems": [],
            "tile_size": 256,
            "tms": false,
            "url": "https://earthengine.googleapis.com/v1alpha/projects/earthengine-legacy/maps/569e818f8030f6a5596a89d0a95653f6-d4850162fb049bab3bbc4affc83baae9/tiles/{z}/{x}/{y}",
            "visible": true,
            "zoom_offset": 0
          }
        },
        "3f031f5e89dc451ca27bae065838ef78": {
          "model_module": "jupyter-leaflet",
          "model_name": "LeafletTileLayerModel",
          "model_module_version": "^0.17",
          "state": {
            "_model_module": "jupyter-leaflet",
            "_model_module_version": "^0.17",
            "_model_name": "LeafletTileLayerModel",
            "_view_count": null,
            "_view_module": "jupyter-leaflet",
            "_view_module_version": "^0.17",
            "_view_name": "LeafletTileLayerView",
            "attribution": "Google Earth Engine",
            "base": false,
            "bottom": true,
            "bounds": null,
            "detect_retina": false,
            "loading": false,
            "max_native_zoom": null,
            "max_zoom": 24,
            "min_native_zoom": null,
            "min_zoom": 0,
            "name": "Drawn Features",
            "no_wrap": false,
            "opacity": 0.5,
            "options": [
              "attribution",
              "bounds",
              "detect_retina",
              "max_native_zoom",
              "max_zoom",
              "min_native_zoom",
              "min_zoom",
              "no_wrap",
              "tile_size",
              "tms",
              "zoom_offset"
            ],
            "pane": "",
            "popup": null,
            "popup_max_height": null,
            "popup_max_width": 300,
            "popup_min_width": 50,
            "show_loading": false,
            "subitems": [],
            "tile_size": 256,
            "tms": false,
            "url": "https://earthengine.googleapis.com/v1alpha/projects/earthengine-legacy/maps/9b89f05e6ac8e1960fc12e38c90005de-cffd7839de972ed399348407c72e224c/tiles/{z}/{x}/{y}",
            "visible": false,
            "zoom_offset": 0
          }
        },
        "59d121276e694a9aa422dbf0bb998bb1": {
          "model_module": "jupyter-leaflet",
          "model_name": "LeafletTileLayerModel",
          "model_module_version": "^0.17",
          "state": {
            "_model_module": "jupyter-leaflet",
            "_model_module_version": "^0.17",
            "_model_name": "LeafletTileLayerModel",
            "_view_count": null,
            "_view_module": "jupyter-leaflet",
            "_view_module_version": "^0.17",
            "_view_name": "LeafletTileLayerView",
            "attribution": "Google Earth Engine",
            "base": false,
            "bottom": true,
            "bounds": null,
            "detect_retina": false,
            "loading": true,
            "max_native_zoom": null,
            "max_zoom": 24,
            "min_native_zoom": null,
            "min_zoom": 0,
            "name": "Drawn Features",
            "no_wrap": false,
            "opacity": 0.5,
            "options": [
              "attribution",
              "bounds",
              "detect_retina",
              "max_native_zoom",
              "max_zoom",
              "min_native_zoom",
              "min_zoom",
              "no_wrap",
              "tile_size",
              "tms",
              "zoom_offset"
            ],
            "pane": "",
            "popup": null,
            "popup_max_height": null,
            "popup_max_width": 300,
            "popup_min_width": 50,
            "show_loading": false,
            "subitems": [],
            "tile_size": 256,
            "tms": false,
            "url": "https://earthengine.googleapis.com/v1alpha/projects/earthengine-legacy/maps/9cf2b71dae8145155b46f86be958908c-c668f4615330867fa84d09cd6c69a772/tiles/{z}/{x}/{y}",
            "visible": false,
            "zoom_offset": 0
          }
        },
        "b477a41b855a46b38bc8832088aad48b": {
          "model_module": "jupyter-leaflet",
          "model_name": "LeafletTileLayerModel",
          "model_module_version": "^0.17",
          "state": {
            "_model_module": "jupyter-leaflet",
            "_model_module_version": "^0.17",
            "_model_name": "LeafletTileLayerModel",
            "_view_count": null,
            "_view_module": "jupyter-leaflet",
            "_view_module_version": "^0.17",
            "_view_name": "LeafletTileLayerView",
            "attribution": "Google Earth Engine",
            "base": false,
            "bottom": true,
            "bounds": null,
            "detect_retina": false,
            "loading": false,
            "max_native_zoom": null,
            "max_zoom": 24,
            "min_native_zoom": null,
            "min_zoom": 0,
            "name": "Drawn Features",
            "no_wrap": false,
            "opacity": 0.5,
            "options": [
              "attribution",
              "bounds",
              "detect_retina",
              "max_native_zoom",
              "max_zoom",
              "min_native_zoom",
              "min_zoom",
              "no_wrap",
              "tile_size",
              "tms",
              "zoom_offset"
            ],
            "pane": "",
            "popup": null,
            "popup_max_height": null,
            "popup_max_width": 300,
            "popup_min_width": 50,
            "show_loading": false,
            "subitems": [],
            "tile_size": 256,
            "tms": false,
            "url": "https://earthengine.googleapis.com/v1alpha/projects/earthengine-legacy/maps/a98c2c22da3a28fa9b20d500b596cf1b-b1eeddc00e573f972bcb129fea5cc683/tiles/{z}/{x}/{y}",
            "visible": false,
            "zoom_offset": 0
          }
        },
        "4011f9eeb8dd4c3ea341165c40b12ba1": {
          "model_module": "jupyter-leaflet",
          "model_name": "LeafletTileLayerModel",
          "model_module_version": "^0.17",
          "state": {
            "_model_module": "jupyter-leaflet",
            "_model_module_version": "^0.17",
            "_model_name": "LeafletTileLayerModel",
            "_view_count": null,
            "_view_module": "jupyter-leaflet",
            "_view_module_version": "^0.17",
            "_view_name": "LeafletTileLayerView",
            "attribution": "Google Earth Engine",
            "base": false,
            "bottom": true,
            "bounds": null,
            "detect_retina": false,
            "loading": false,
            "max_native_zoom": null,
            "max_zoom": 24,
            "min_native_zoom": null,
            "min_zoom": 0,
            "name": "Drawn Features",
            "no_wrap": false,
            "opacity": 0.5,
            "options": [
              "attribution",
              "bounds",
              "detect_retina",
              "max_native_zoom",
              "max_zoom",
              "min_native_zoom",
              "min_zoom",
              "no_wrap",
              "tile_size",
              "tms",
              "zoom_offset"
            ],
            "pane": "",
            "popup": null,
            "popup_max_height": null,
            "popup_max_width": 300,
            "popup_min_width": 50,
            "show_loading": false,
            "subitems": [],
            "tile_size": 256,
            "tms": false,
            "url": "https://earthengine.googleapis.com/v1alpha/projects/earthengine-legacy/maps/bfc1ae208a52a8f86117a4366105272c-6f94077ecb8a5697df241047a873b550/tiles/{z}/{x}/{y}",
            "visible": false,
            "zoom_offset": 0
          }
        },
        "88500d609528465d8e0b4db82dc9127e": {
          "model_module": "jupyter-leaflet",
          "model_name": "LeafletTileLayerModel",
          "model_module_version": "^0.17",
          "state": {
            "_model_module": "jupyter-leaflet",
            "_model_module_version": "^0.17",
            "_model_name": "LeafletTileLayerModel",
            "_view_count": null,
            "_view_module": "jupyter-leaflet",
            "_view_module_version": "^0.17",
            "_view_name": "LeafletTileLayerView",
            "attribution": "Google Earth Engine",
            "base": false,
            "bottom": true,
            "bounds": null,
            "detect_retina": false,
            "loading": true,
            "max_native_zoom": null,
            "max_zoom": 24,
            "min_native_zoom": null,
            "min_zoom": 0,
            "name": "Drawn Features",
            "no_wrap": false,
            "opacity": 0.5,
            "options": [
              "attribution",
              "bounds",
              "detect_retina",
              "max_native_zoom",
              "max_zoom",
              "min_native_zoom",
              "min_zoom",
              "no_wrap",
              "tile_size",
              "tms",
              "zoom_offset"
            ],
            "pane": "",
            "popup": null,
            "popup_max_height": null,
            "popup_max_width": 300,
            "popup_min_width": 50,
            "show_loading": false,
            "subitems": [],
            "tile_size": 256,
            "tms": false,
            "url": "https://earthengine.googleapis.com/v1alpha/projects/earthengine-legacy/maps/d42e081f2018ba5652a59cc20bf5abe2-8d10aad5e1547c16214391f723a17a6e/tiles/{z}/{x}/{y}",
            "visible": false,
            "zoom_offset": 0
          }
        },
        "f248bffdf8cd4ebcb00483c35b9f8fb4": {
          "model_module": "jupyter-leaflet",
          "model_name": "LeafletTileLayerModel",
          "model_module_version": "^0.17",
          "state": {
            "_model_module": "jupyter-leaflet",
            "_model_module_version": "^0.17",
            "_model_name": "LeafletTileLayerModel",
            "_view_count": null,
            "_view_module": "jupyter-leaflet",
            "_view_module_version": "^0.17",
            "_view_name": "LeafletTileLayerView",
            "attribution": "Google Earth Engine",
            "base": false,
            "bottom": true,
            "bounds": null,
            "detect_retina": false,
            "loading": true,
            "max_native_zoom": null,
            "max_zoom": 24,
            "min_native_zoom": null,
            "min_zoom": 0,
            "name": "Drawn Features",
            "no_wrap": false,
            "opacity": 0.5,
            "options": [
              "attribution",
              "bounds",
              "detect_retina",
              "max_native_zoom",
              "max_zoom",
              "min_native_zoom",
              "min_zoom",
              "no_wrap",
              "tile_size",
              "tms",
              "zoom_offset"
            ],
            "pane": "",
            "popup": null,
            "popup_max_height": null,
            "popup_max_width": 300,
            "popup_min_width": 50,
            "show_loading": false,
            "subitems": [],
            "tile_size": 256,
            "tms": false,
            "url": "https://earthengine.googleapis.com/v1alpha/projects/earthengine-legacy/maps/8a681a40f18efbefad7274d7e6816af4-89612646be702c51e305d8a051f3edac/tiles/{z}/{x}/{y}",
            "visible": false,
            "zoom_offset": 0
          }
        },
        "53130a8d2f3e47cfa3395d6654efffa8": {
          "model_module": "jupyter-leaflet",
          "model_name": "LeafletTileLayerModel",
          "model_module_version": "^0.17",
          "state": {
            "_model_module": "jupyter-leaflet",
            "_model_module_version": "^0.17",
            "_model_name": "LeafletTileLayerModel",
            "_view_count": null,
            "_view_module": "jupyter-leaflet",
            "_view_module_version": "^0.17",
            "_view_name": "LeafletTileLayerView",
            "attribution": "Google Earth Engine",
            "base": false,
            "bottom": true,
            "bounds": null,
            "detect_retina": false,
            "loading": true,
            "max_native_zoom": null,
            "max_zoom": 24,
            "min_native_zoom": null,
            "min_zoom": 0,
            "name": "Drawn Features",
            "no_wrap": false,
            "opacity": 0.5,
            "options": [
              "attribution",
              "bounds",
              "detect_retina",
              "max_native_zoom",
              "max_zoom",
              "min_native_zoom",
              "min_zoom",
              "no_wrap",
              "tile_size",
              "tms",
              "zoom_offset"
            ],
            "pane": "",
            "popup": null,
            "popup_max_height": null,
            "popup_max_width": 300,
            "popup_min_width": 50,
            "show_loading": false,
            "subitems": [],
            "tile_size": 256,
            "tms": false,
            "url": "https://earthengine.googleapis.com/v1alpha/projects/earthengine-legacy/maps/7c287061c48f4a7e679ae5f6b339af7f-2fcd6cf95214e1a1e4a8eb0d0e5e4514/tiles/{z}/{x}/{y}",
            "visible": false,
            "zoom_offset": 0
          }
        },
        "ef100a265c1c4808bc88060d18d72b3c": {
          "model_module": "jupyter-leaflet",
          "model_name": "LeafletTileLayerModel",
          "model_module_version": "^0.17",
          "state": {
            "_model_module": "jupyter-leaflet",
            "_model_module_version": "^0.17",
            "_model_name": "LeafletTileLayerModel",
            "_view_count": null,
            "_view_module": "jupyter-leaflet",
            "_view_module_version": "^0.17",
            "_view_name": "LeafletTileLayerView",
            "attribution": "Google Earth Engine",
            "base": false,
            "bottom": true,
            "bounds": null,
            "detect_retina": false,
            "loading": false,
            "max_native_zoom": null,
            "max_zoom": 24,
            "min_native_zoom": null,
            "min_zoom": 0,
            "name": "Drawn Features",
            "no_wrap": false,
            "opacity": 0.5,
            "options": [
              "attribution",
              "bounds",
              "detect_retina",
              "max_native_zoom",
              "max_zoom",
              "min_native_zoom",
              "min_zoom",
              "no_wrap",
              "tile_size",
              "tms",
              "zoom_offset"
            ],
            "pane": "",
            "popup": null,
            "popup_max_height": null,
            "popup_max_width": 300,
            "popup_min_width": 50,
            "show_loading": false,
            "subitems": [],
            "tile_size": 256,
            "tms": false,
            "url": "https://earthengine.googleapis.com/v1alpha/projects/earthengine-legacy/maps/509aa8b26e789ea6cd5301d2020cc21a-58dbc5c1171eca4bc96617f363dde5f8/tiles/{z}/{x}/{y}",
            "visible": false,
            "zoom_offset": 0
          }
        },
        "84f7691b242f486f98f0a3ea33a511d4": {
          "model_module": "jupyter-leaflet",
          "model_name": "LeafletTileLayerModel",
          "model_module_version": "^0.17",
          "state": {
            "_model_module": "jupyter-leaflet",
            "_model_module_version": "^0.17",
            "_model_name": "LeafletTileLayerModel",
            "_view_count": null,
            "_view_module": "jupyter-leaflet",
            "_view_module_version": "^0.17",
            "_view_name": "LeafletTileLayerView",
            "attribution": "Google Earth Engine",
            "base": false,
            "bottom": true,
            "bounds": null,
            "detect_retina": false,
            "loading": false,
            "max_native_zoom": null,
            "max_zoom": 24,
            "min_native_zoom": null,
            "min_zoom": 0,
            "name": "Drawn Features",
            "no_wrap": false,
            "opacity": 0.5,
            "options": [
              "attribution",
              "bounds",
              "detect_retina",
              "max_native_zoom",
              "max_zoom",
              "min_native_zoom",
              "min_zoom",
              "no_wrap",
              "tile_size",
              "tms",
              "zoom_offset"
            ],
            "pane": "",
            "popup": null,
            "popup_max_height": null,
            "popup_max_width": 300,
            "popup_min_width": 50,
            "show_loading": false,
            "subitems": [],
            "tile_size": 256,
            "tms": false,
            "url": "https://earthengine.googleapis.com/v1alpha/projects/earthengine-legacy/maps/43dab865df1af5ee59e48f9853d16a04-ff81c489f2905b5f39d01a1d94c1a78a/tiles/{z}/{x}/{y}",
            "visible": false,
            "zoom_offset": 0
          }
        }
      }
    }
  },
  "nbformat": 4,
  "nbformat_minor": 5
}