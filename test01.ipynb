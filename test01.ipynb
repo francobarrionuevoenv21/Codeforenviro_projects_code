{
  "cells": [
    {
      "cell_type": "markdown",
      "metadata": {
        "id": "view-in-github",
        "colab_type": "text"
      },
      "source": [
        "<a href=\"https://colab.research.google.com/github/francobarrionuevoenv21/codeforenviroprojects/blob/testGEE/test01.ipynb\" target=\"_parent\"><img src=\"https://colab.research.google.com/assets/colab-badge.svg\" alt=\"Open In Colab\"/></a>"
      ]
    },
    {
      "cell_type": "code",
      "execution_count": 1,
      "id": "8c0edf5e",
      "metadata": {
        "id": "8c0edf5e",
        "outputId": "1cf7cd29-c71a-45b4-def9-e24ddb67414a",
        "colab": {
          "base_uri": "https://localhost:8080/"
        }
      },
      "outputs": [
        {
          "output_type": "stream",
          "name": "stdout",
          "text": [
            "Requirement already satisfied: earthengine-api in /usr/local/lib/python3.10/dist-packages (0.1.357)\n",
            "Requirement already satisfied: google-cloud-storage in /usr/local/lib/python3.10/dist-packages (from earthengine-api) (2.8.0)\n",
            "Requirement already satisfied: google-api-python-client>=1.12.1 in /usr/local/lib/python3.10/dist-packages (from earthengine-api) (2.84.0)\n",
            "Requirement already satisfied: google-auth>=1.4.1 in /usr/local/lib/python3.10/dist-packages (from earthengine-api) (2.17.3)\n",
            "Requirement already satisfied: google-auth-httplib2>=0.0.3 in /usr/local/lib/python3.10/dist-packages (from earthengine-api) (0.1.0)\n",
            "Requirement already satisfied: httplib2<1dev,>=0.9.2 in /usr/local/lib/python3.10/dist-packages (from earthengine-api) (0.21.0)\n",
            "Requirement already satisfied: requests in /usr/local/lib/python3.10/dist-packages (from earthengine-api) (2.27.1)\n",
            "Requirement already satisfied: google-api-core!=2.0.*,!=2.1.*,!=2.2.*,!=2.3.0,<3.0.0dev,>=1.31.5 in /usr/local/lib/python3.10/dist-packages (from google-api-python-client>=1.12.1->earthengine-api) (2.11.1)\n",
            "Requirement already satisfied: uritemplate<5,>=3.0.1 in /usr/local/lib/python3.10/dist-packages (from google-api-python-client>=1.12.1->earthengine-api) (4.1.1)\n",
            "Requirement already satisfied: cachetools<6.0,>=2.0.0 in /usr/local/lib/python3.10/dist-packages (from google-auth>=1.4.1->earthengine-api) (5.3.1)\n",
            "Requirement already satisfied: pyasn1-modules>=0.2.1 in /usr/local/lib/python3.10/dist-packages (from google-auth>=1.4.1->earthengine-api) (0.3.0)\n",
            "Requirement already satisfied: six>=1.9.0 in /usr/local/lib/python3.10/dist-packages (from google-auth>=1.4.1->earthengine-api) (1.16.0)\n",
            "Requirement already satisfied: rsa<5,>=3.1.4 in /usr/local/lib/python3.10/dist-packages (from google-auth>=1.4.1->earthengine-api) (4.9)\n",
            "Requirement already satisfied: pyparsing!=3.0.0,!=3.0.1,!=3.0.2,!=3.0.3,<4,>=2.4.2 in /usr/local/lib/python3.10/dist-packages (from httplib2<1dev,>=0.9.2->earthengine-api) (3.1.0)\n",
            "Requirement already satisfied: google-cloud-core<3.0dev,>=2.3.0 in /usr/local/lib/python3.10/dist-packages (from google-cloud-storage->earthengine-api) (2.3.2)\n",
            "Requirement already satisfied: google-resumable-media>=2.3.2 in /usr/local/lib/python3.10/dist-packages (from google-cloud-storage->earthengine-api) (2.5.0)\n",
            "Requirement already satisfied: urllib3<1.27,>=1.21.1 in /usr/local/lib/python3.10/dist-packages (from requests->earthengine-api) (1.26.16)\n",
            "Requirement already satisfied: certifi>=2017.4.17 in /usr/local/lib/python3.10/dist-packages (from requests->earthengine-api) (2023.5.7)\n",
            "Requirement already satisfied: charset-normalizer~=2.0.0 in /usr/local/lib/python3.10/dist-packages (from requests->earthengine-api) (2.0.12)\n",
            "Requirement already satisfied: idna<4,>=2.5 in /usr/local/lib/python3.10/dist-packages (from requests->earthengine-api) (3.4)\n",
            "Requirement already satisfied: googleapis-common-protos<2.0.dev0,>=1.56.2 in /usr/local/lib/python3.10/dist-packages (from google-api-core!=2.0.*,!=2.1.*,!=2.2.*,!=2.3.0,<3.0.0dev,>=1.31.5->google-api-python-client>=1.12.1->earthengine-api) (1.59.1)\n",
            "Requirement already satisfied: protobuf!=3.20.0,!=3.20.1,!=4.21.0,!=4.21.1,!=4.21.2,!=4.21.3,!=4.21.4,!=4.21.5,<5.0.0.dev0,>=3.19.5 in /usr/local/lib/python3.10/dist-packages (from google-api-core!=2.0.*,!=2.1.*,!=2.2.*,!=2.3.0,<3.0.0dev,>=1.31.5->google-api-python-client>=1.12.1->earthengine-api) (3.20.3)\n",
            "Requirement already satisfied: google-crc32c<2.0dev,>=1.0 in /usr/local/lib/python3.10/dist-packages (from google-resumable-media>=2.3.2->google-cloud-storage->earthengine-api) (1.5.0)\n",
            "Requirement already satisfied: pyasn1<0.6.0,>=0.4.6 in /usr/local/lib/python3.10/dist-packages (from pyasn1-modules>=0.2.1->google-auth>=1.4.1->earthengine-api) (0.5.0)\n"
          ]
        }
      ],
      "source": [
        "!pip install earthengine-api"
      ]
    },
    {
      "cell_type": "code",
      "source": [
        "!pip install geemap"
      ],
      "metadata": {
        "id": "dmT0-SEwrWkI",
        "outputId": "9a5d561b-005a-42c7-b595-6ef1d7db93ad",
        "colab": {
          "base_uri": "https://localhost:8080/"
        }
      },
      "id": "dmT0-SEwrWkI",
      "execution_count": 2,
      "outputs": [
        {
          "output_type": "stream",
          "name": "stdout",
          "text": [
            "Collecting geemap\n",
            "  Downloading geemap-0.23.2-py2.py3-none-any.whl (2.2 MB)\n",
            "\u001b[2K     \u001b[90m━━━━━━━━━━━━━━━━━━━━━━━━━━━━━━━━━━━━━━━━\u001b[0m \u001b[32m2.2/2.2 MB\u001b[0m \u001b[31m22.0 MB/s\u001b[0m eta \u001b[36m0:00:00\u001b[0m\n",
            "\u001b[?25hCollecting bqplot (from geemap)\n",
            "  Downloading bqplot-0.12.39-py2.py3-none-any.whl (1.2 MB)\n",
            "\u001b[2K     \u001b[90m━━━━━━━━━━━━━━━━━━━━━━━━━━━━━━━━━━━━━━━━\u001b[0m \u001b[32m1.2/1.2 MB\u001b[0m \u001b[31m27.5 MB/s\u001b[0m eta \u001b[36m0:00:00\u001b[0m\n",
            "\u001b[?25hCollecting colour (from geemap)\n",
            "  Downloading colour-0.1.5-py2.py3-none-any.whl (23 kB)\n",
            "Requirement already satisfied: earthengine-api>=0.1.347 in /usr/local/lib/python3.10/dist-packages (from geemap) (0.1.357)\n",
            "Collecting eerepr>=0.0.4 (from geemap)\n",
            "  Downloading eerepr-0.0.4-py3-none-any.whl (9.7 kB)\n",
            "Requirement already satisfied: folium>=0.13.0 in /usr/local/lib/python3.10/dist-packages (from geemap) (0.14.0)\n",
            "Collecting geocoder (from geemap)\n",
            "  Downloading geocoder-1.38.1-py2.py3-none-any.whl (98 kB)\n",
            "\u001b[2K     \u001b[90m━━━━━━━━━━━━━━━━━━━━━━━━━━━━━━━━━━━━━━━━\u001b[0m \u001b[32m98.6/98.6 kB\u001b[0m \u001b[31m6.0 MB/s\u001b[0m eta \u001b[36m0:00:00\u001b[0m\n",
            "\u001b[?25hCollecting ipyevents (from geemap)\n",
            "  Downloading ipyevents-2.0.1-py2.py3-none-any.whl (130 kB)\n",
            "\u001b[2K     \u001b[90m━━━━━━━━━━━━━━━━━━━━━━━━━━━━━━━━━━━━━━\u001b[0m \u001b[32m130.5/130.5 kB\u001b[0m \u001b[31m15.0 MB/s\u001b[0m eta \u001b[36m0:00:00\u001b[0m\n",
            "\u001b[?25hCollecting ipyfilechooser>=0.6.0 (from geemap)\n",
            "  Downloading ipyfilechooser-0.6.0-py3-none-any.whl (11 kB)\n",
            "Collecting ipyleaflet>=0.17.0 (from geemap)\n",
            "  Downloading ipyleaflet-0.17.3-py3-none-any.whl (3.4 MB)\n",
            "\u001b[2K     \u001b[90m━━━━━━━━━━━━━━━━━━━━━━━━━━━━━━━━━━━━━━━━\u001b[0m \u001b[32m3.4/3.4 MB\u001b[0m \u001b[31m62.0 MB/s\u001b[0m eta \u001b[36m0:00:00\u001b[0m\n",
            "\u001b[?25hCollecting ipytree (from geemap)\n",
            "  Downloading ipytree-0.2.2-py2.py3-none-any.whl (1.3 MB)\n",
            "\u001b[2K     \u001b[90m━━━━━━━━━━━━━━━━━━━━━━━━━━━━━━━━━━━━━━━━\u001b[0m \u001b[32m1.3/1.3 MB\u001b[0m \u001b[31m59.5 MB/s\u001b[0m eta \u001b[36m0:00:00\u001b[0m\n",
            "\u001b[?25hRequirement already satisfied: matplotlib in /usr/local/lib/python3.10/dist-packages (from geemap) (3.7.1)\n",
            "Requirement already satisfied: numpy in /usr/local/lib/python3.10/dist-packages (from geemap) (1.22.4)\n",
            "Requirement already satisfied: pandas in /usr/local/lib/python3.10/dist-packages (from geemap) (1.5.3)\n",
            "Requirement already satisfied: plotly in /usr/local/lib/python3.10/dist-packages (from geemap) (5.13.1)\n",
            "Collecting pyperclip (from geemap)\n",
            "  Downloading pyperclip-1.8.2.tar.gz (20 kB)\n",
            "  Preparing metadata (setup.py) ... \u001b[?25l\u001b[?25hdone\n",
            "Collecting pyshp>=2.1.3 (from geemap)\n",
            "  Downloading pyshp-2.3.1-py2.py3-none-any.whl (46 kB)\n",
            "\u001b[2K     \u001b[90m━━━━━━━━━━━━━━━━━━━━━━━━━━━━━━━━━━━━━━━━\u001b[0m \u001b[32m46.5/46.5 kB\u001b[0m \u001b[31m5.7 MB/s\u001b[0m eta \u001b[36m0:00:00\u001b[0m\n",
            "\u001b[?25hCollecting python-box (from geemap)\n",
            "  Downloading python_box-7.0.1-cp310-cp310-manylinux_2_5_x86_64.manylinux1_x86_64.manylinux_2_12_x86_64.manylinux2010_x86_64.whl (3.2 MB)\n",
            "\u001b[2K     \u001b[90m━━━━━━━━━━━━━━━━━━━━━━━━━━━━━━━━━━━━━━━━\u001b[0m \u001b[32m3.2/3.2 MB\u001b[0m \u001b[31m57.0 MB/s\u001b[0m eta \u001b[36m0:00:00\u001b[0m\n",
            "\u001b[?25hCollecting scooby (from geemap)\n",
            "  Downloading scooby-0.7.2-py3-none-any.whl (16 kB)\n",
            "Requirement already satisfied: google-cloud-storage in /usr/local/lib/python3.10/dist-packages (from earthengine-api>=0.1.347->geemap) (2.8.0)\n",
            "Requirement already satisfied: google-api-python-client>=1.12.1 in /usr/local/lib/python3.10/dist-packages (from earthengine-api>=0.1.347->geemap) (2.84.0)\n",
            "Requirement already satisfied: google-auth>=1.4.1 in /usr/local/lib/python3.10/dist-packages (from earthengine-api>=0.1.347->geemap) (2.17.3)\n",
            "Requirement already satisfied: google-auth-httplib2>=0.0.3 in /usr/local/lib/python3.10/dist-packages (from earthengine-api>=0.1.347->geemap) (0.1.0)\n",
            "Requirement already satisfied: httplib2<1dev,>=0.9.2 in /usr/local/lib/python3.10/dist-packages (from earthengine-api>=0.1.347->geemap) (0.21.0)\n",
            "Requirement already satisfied: requests in /usr/local/lib/python3.10/dist-packages (from earthengine-api>=0.1.347->geemap) (2.27.1)\n",
            "Requirement already satisfied: branca>=0.6.0 in /usr/local/lib/python3.10/dist-packages (from folium>=0.13.0->geemap) (0.6.0)\n",
            "Requirement already satisfied: jinja2>=2.9 in /usr/local/lib/python3.10/dist-packages (from folium>=0.13.0->geemap) (3.1.2)\n",
            "Requirement already satisfied: ipywidgets in /usr/local/lib/python3.10/dist-packages (from ipyfilechooser>=0.6.0->geemap) (7.7.1)\n",
            "Collecting traittypes<3,>=0.2.1 (from ipyleaflet>=0.17.0->geemap)\n",
            "  Downloading traittypes-0.2.1-py2.py3-none-any.whl (8.6 kB)\n",
            "Collecting xyzservices>=2021.8.1 (from ipyleaflet>=0.17.0->geemap)\n",
            "  Downloading xyzservices-2023.5.0-py3-none-any.whl (56 kB)\n",
            "\u001b[2K     \u001b[90m━━━━━━━━━━━━━━━━━━━━━━━━━━━━━━━━━━━━━━━━\u001b[0m \u001b[32m56.5/56.5 kB\u001b[0m \u001b[31m7.2 MB/s\u001b[0m eta \u001b[36m0:00:00\u001b[0m\n",
            "\u001b[?25hRequirement already satisfied: traitlets>=4.3.0 in /usr/local/lib/python3.10/dist-packages (from bqplot->geemap) (5.7.1)\n",
            "Requirement already satisfied: python-dateutil>=2.8.1 in /usr/local/lib/python3.10/dist-packages (from pandas->geemap) (2.8.2)\n",
            "Requirement already satisfied: pytz>=2020.1 in /usr/local/lib/python3.10/dist-packages (from pandas->geemap) (2022.7.1)\n",
            "Requirement already satisfied: click in /usr/local/lib/python3.10/dist-packages (from geocoder->geemap) (8.1.3)\n",
            "Requirement already satisfied: future in /usr/local/lib/python3.10/dist-packages (from geocoder->geemap) (0.18.3)\n",
            "Collecting ratelim (from geocoder->geemap)\n",
            "  Downloading ratelim-0.1.6-py2.py3-none-any.whl (4.0 kB)\n",
            "Requirement already satisfied: six in /usr/local/lib/python3.10/dist-packages (from geocoder->geemap) (1.16.0)\n",
            "Requirement already satisfied: contourpy>=1.0.1 in /usr/local/lib/python3.10/dist-packages (from matplotlib->geemap) (1.1.0)\n",
            "Requirement already satisfied: cycler>=0.10 in /usr/local/lib/python3.10/dist-packages (from matplotlib->geemap) (0.11.0)\n",
            "Requirement already satisfied: fonttools>=4.22.0 in /usr/local/lib/python3.10/dist-packages (from matplotlib->geemap) (4.40.0)\n",
            "Requirement already satisfied: kiwisolver>=1.0.1 in /usr/local/lib/python3.10/dist-packages (from matplotlib->geemap) (1.4.4)\n",
            "Requirement already satisfied: packaging>=20.0 in /usr/local/lib/python3.10/dist-packages (from matplotlib->geemap) (23.1)\n",
            "Requirement already satisfied: pillow>=6.2.0 in /usr/local/lib/python3.10/dist-packages (from matplotlib->geemap) (8.4.0)\n",
            "Requirement already satisfied: pyparsing>=2.3.1 in /usr/local/lib/python3.10/dist-packages (from matplotlib->geemap) (3.1.0)\n",
            "Requirement already satisfied: tenacity>=6.2.0 in /usr/local/lib/python3.10/dist-packages (from plotly->geemap) (8.2.2)\n",
            "Requirement already satisfied: google-api-core!=2.0.*,!=2.1.*,!=2.2.*,!=2.3.0,<3.0.0dev,>=1.31.5 in /usr/local/lib/python3.10/dist-packages (from google-api-python-client>=1.12.1->earthengine-api>=0.1.347->geemap) (2.11.1)\n",
            "Requirement already satisfied: uritemplate<5,>=3.0.1 in /usr/local/lib/python3.10/dist-packages (from google-api-python-client>=1.12.1->earthengine-api>=0.1.347->geemap) (4.1.1)\n",
            "Requirement already satisfied: cachetools<6.0,>=2.0.0 in /usr/local/lib/python3.10/dist-packages (from google-auth>=1.4.1->earthengine-api>=0.1.347->geemap) (5.3.1)\n",
            "Requirement already satisfied: pyasn1-modules>=0.2.1 in /usr/local/lib/python3.10/dist-packages (from google-auth>=1.4.1->earthengine-api>=0.1.347->geemap) (0.3.0)\n",
            "Requirement already satisfied: rsa<5,>=3.1.4 in /usr/local/lib/python3.10/dist-packages (from google-auth>=1.4.1->earthengine-api>=0.1.347->geemap) (4.9)\n",
            "Requirement already satisfied: ipykernel>=4.5.1 in /usr/local/lib/python3.10/dist-packages (from ipywidgets->ipyfilechooser>=0.6.0->geemap) (5.5.6)\n",
            "Requirement already satisfied: ipython-genutils~=0.2.0 in /usr/local/lib/python3.10/dist-packages (from ipywidgets->ipyfilechooser>=0.6.0->geemap) (0.2.0)\n",
            "Requirement already satisfied: widgetsnbextension~=3.6.0 in /usr/local/lib/python3.10/dist-packages (from ipywidgets->ipyfilechooser>=0.6.0->geemap) (3.6.4)\n",
            "Requirement already satisfied: ipython>=4.0.0 in /usr/local/lib/python3.10/dist-packages (from ipywidgets->ipyfilechooser>=0.6.0->geemap) (7.34.0)\n",
            "Requirement already satisfied: jupyterlab-widgets>=1.0.0 in /usr/local/lib/python3.10/dist-packages (from ipywidgets->ipyfilechooser>=0.6.0->geemap) (3.0.7)\n",
            "Requirement already satisfied: MarkupSafe>=2.0 in /usr/local/lib/python3.10/dist-packages (from jinja2>=2.9->folium>=0.13.0->geemap) (2.1.3)\n",
            "Requirement already satisfied: google-cloud-core<3.0dev,>=2.3.0 in /usr/local/lib/python3.10/dist-packages (from google-cloud-storage->earthengine-api>=0.1.347->geemap) (2.3.2)\n",
            "Requirement already satisfied: google-resumable-media>=2.3.2 in /usr/local/lib/python3.10/dist-packages (from google-cloud-storage->earthengine-api>=0.1.347->geemap) (2.5.0)\n",
            "Requirement already satisfied: urllib3<1.27,>=1.21.1 in /usr/local/lib/python3.10/dist-packages (from requests->earthengine-api>=0.1.347->geemap) (1.26.16)\n",
            "Requirement already satisfied: certifi>=2017.4.17 in /usr/local/lib/python3.10/dist-packages (from requests->earthengine-api>=0.1.347->geemap) (2023.5.7)\n",
            "Requirement already satisfied: charset-normalizer~=2.0.0 in /usr/local/lib/python3.10/dist-packages (from requests->earthengine-api>=0.1.347->geemap) (2.0.12)\n",
            "Requirement already satisfied: idna<4,>=2.5 in /usr/local/lib/python3.10/dist-packages (from requests->earthengine-api>=0.1.347->geemap) (3.4)\n",
            "Requirement already satisfied: decorator in /usr/local/lib/python3.10/dist-packages (from ratelim->geocoder->geemap) (4.4.2)\n",
            "Requirement already satisfied: googleapis-common-protos<2.0.dev0,>=1.56.2 in /usr/local/lib/python3.10/dist-packages (from google-api-core!=2.0.*,!=2.1.*,!=2.2.*,!=2.3.0,<3.0.0dev,>=1.31.5->google-api-python-client>=1.12.1->earthengine-api>=0.1.347->geemap) (1.59.1)\n",
            "Requirement already satisfied: protobuf!=3.20.0,!=3.20.1,!=4.21.0,!=4.21.1,!=4.21.2,!=4.21.3,!=4.21.4,!=4.21.5,<5.0.0.dev0,>=3.19.5 in /usr/local/lib/python3.10/dist-packages (from google-api-core!=2.0.*,!=2.1.*,!=2.2.*,!=2.3.0,<3.0.0dev,>=1.31.5->google-api-python-client>=1.12.1->earthengine-api>=0.1.347->geemap) (3.20.3)\n",
            "Requirement already satisfied: google-crc32c<2.0dev,>=1.0 in /usr/local/lib/python3.10/dist-packages (from google-resumable-media>=2.3.2->google-cloud-storage->earthengine-api>=0.1.347->geemap) (1.5.0)\n",
            "Requirement already satisfied: jupyter-client in /usr/local/lib/python3.10/dist-packages (from ipykernel>=4.5.1->ipywidgets->ipyfilechooser>=0.6.0->geemap) (6.1.12)\n",
            "Requirement already satisfied: tornado>=4.2 in /usr/local/lib/python3.10/dist-packages (from ipykernel>=4.5.1->ipywidgets->ipyfilechooser>=0.6.0->geemap) (6.3.1)\n",
            "Requirement already satisfied: setuptools>=18.5 in /usr/local/lib/python3.10/dist-packages (from ipython>=4.0.0->ipywidgets->ipyfilechooser>=0.6.0->geemap) (67.7.2)\n",
            "Collecting jedi>=0.16 (from ipython>=4.0.0->ipywidgets->ipyfilechooser>=0.6.0->geemap)\n",
            "  Downloading jedi-0.18.2-py2.py3-none-any.whl (1.6 MB)\n",
            "\u001b[2K     \u001b[90m━━━━━━━━━━━━━━━━━━━━━━━━━━━━━━━━━━━━━━━━\u001b[0m \u001b[32m1.6/1.6 MB\u001b[0m \u001b[31m48.0 MB/s\u001b[0m eta \u001b[36m0:00:00\u001b[0m\n",
            "\u001b[?25hRequirement already satisfied: pickleshare in /usr/local/lib/python3.10/dist-packages (from ipython>=4.0.0->ipywidgets->ipyfilechooser>=0.6.0->geemap) (0.7.5)\n",
            "Requirement already satisfied: prompt-toolkit!=3.0.0,!=3.0.1,<3.1.0,>=2.0.0 in /usr/local/lib/python3.10/dist-packages (from ipython>=4.0.0->ipywidgets->ipyfilechooser>=0.6.0->geemap) (3.0.38)\n",
            "Requirement already satisfied: pygments in /usr/local/lib/python3.10/dist-packages (from ipython>=4.0.0->ipywidgets->ipyfilechooser>=0.6.0->geemap) (2.14.0)\n",
            "Requirement already satisfied: backcall in /usr/local/lib/python3.10/dist-packages (from ipython>=4.0.0->ipywidgets->ipyfilechooser>=0.6.0->geemap) (0.2.0)\n",
            "Requirement already satisfied: matplotlib-inline in /usr/local/lib/python3.10/dist-packages (from ipython>=4.0.0->ipywidgets->ipyfilechooser>=0.6.0->geemap) (0.1.6)\n",
            "Requirement already satisfied: pexpect>4.3 in /usr/local/lib/python3.10/dist-packages (from ipython>=4.0.0->ipywidgets->ipyfilechooser>=0.6.0->geemap) (4.8.0)\n",
            "Requirement already satisfied: pyasn1<0.6.0,>=0.4.6 in /usr/local/lib/python3.10/dist-packages (from pyasn1-modules>=0.2.1->google-auth>=1.4.1->earthengine-api>=0.1.347->geemap) (0.5.0)\n",
            "Requirement already satisfied: notebook>=4.4.1 in /usr/local/lib/python3.10/dist-packages (from widgetsnbextension~=3.6.0->ipywidgets->ipyfilechooser>=0.6.0->geemap) (6.4.8)\n",
            "Requirement already satisfied: parso<0.9.0,>=0.8.0 in /usr/local/lib/python3.10/dist-packages (from jedi>=0.16->ipython>=4.0.0->ipywidgets->ipyfilechooser>=0.6.0->geemap) (0.8.3)\n",
            "Requirement already satisfied: pyzmq>=17 in /usr/local/lib/python3.10/dist-packages (from notebook>=4.4.1->widgetsnbextension~=3.6.0->ipywidgets->ipyfilechooser>=0.6.0->geemap) (23.2.1)\n",
            "Requirement already satisfied: argon2-cffi in /usr/local/lib/python3.10/dist-packages (from notebook>=4.4.1->widgetsnbextension~=3.6.0->ipywidgets->ipyfilechooser>=0.6.0->geemap) (21.3.0)\n",
            "Requirement already satisfied: jupyter-core>=4.6.1 in /usr/local/lib/python3.10/dist-packages (from notebook>=4.4.1->widgetsnbextension~=3.6.0->ipywidgets->ipyfilechooser>=0.6.0->geemap) (5.3.1)\n",
            "Requirement already satisfied: nbformat in /usr/local/lib/python3.10/dist-packages (from notebook>=4.4.1->widgetsnbextension~=3.6.0->ipywidgets->ipyfilechooser>=0.6.0->geemap) (5.9.0)\n",
            "Requirement already satisfied: nbconvert in /usr/local/lib/python3.10/dist-packages (from notebook>=4.4.1->widgetsnbextension~=3.6.0->ipywidgets->ipyfilechooser>=0.6.0->geemap) (6.5.4)\n",
            "Requirement already satisfied: nest-asyncio>=1.5 in /usr/local/lib/python3.10/dist-packages (from notebook>=4.4.1->widgetsnbextension~=3.6.0->ipywidgets->ipyfilechooser>=0.6.0->geemap) (1.5.6)\n",
            "Requirement already satisfied: Send2Trash>=1.8.0 in /usr/local/lib/python3.10/dist-packages (from notebook>=4.4.1->widgetsnbextension~=3.6.0->ipywidgets->ipyfilechooser>=0.6.0->geemap) (1.8.2)\n",
            "Requirement already satisfied: terminado>=0.8.3 in /usr/local/lib/python3.10/dist-packages (from notebook>=4.4.1->widgetsnbextension~=3.6.0->ipywidgets->ipyfilechooser>=0.6.0->geemap) (0.17.1)\n",
            "Requirement already satisfied: prometheus-client in /usr/local/lib/python3.10/dist-packages (from notebook>=4.4.1->widgetsnbextension~=3.6.0->ipywidgets->ipyfilechooser>=0.6.0->geemap) (0.17.0)\n",
            "Requirement already satisfied: ptyprocess>=0.5 in /usr/local/lib/python3.10/dist-packages (from pexpect>4.3->ipython>=4.0.0->ipywidgets->ipyfilechooser>=0.6.0->geemap) (0.7.0)\n",
            "Requirement already satisfied: wcwidth in /usr/local/lib/python3.10/dist-packages (from prompt-toolkit!=3.0.0,!=3.0.1,<3.1.0,>=2.0.0->ipython>=4.0.0->ipywidgets->ipyfilechooser>=0.6.0->geemap) (0.2.6)\n",
            "Requirement already satisfied: platformdirs>=2.5 in /usr/local/lib/python3.10/dist-packages (from jupyter-core>=4.6.1->notebook>=4.4.1->widgetsnbextension~=3.6.0->ipywidgets->ipyfilechooser>=0.6.0->geemap) (3.7.0)\n",
            "Requirement already satisfied: argon2-cffi-bindings in /usr/local/lib/python3.10/dist-packages (from argon2-cffi->notebook>=4.4.1->widgetsnbextension~=3.6.0->ipywidgets->ipyfilechooser>=0.6.0->geemap) (21.2.0)\n",
            "Requirement already satisfied: lxml in /usr/local/lib/python3.10/dist-packages (from nbconvert->notebook>=4.4.1->widgetsnbextension~=3.6.0->ipywidgets->ipyfilechooser>=0.6.0->geemap) (4.9.2)\n",
            "Requirement already satisfied: beautifulsoup4 in /usr/local/lib/python3.10/dist-packages (from nbconvert->notebook>=4.4.1->widgetsnbextension~=3.6.0->ipywidgets->ipyfilechooser>=0.6.0->geemap) (4.11.2)\n",
            "Requirement already satisfied: bleach in /usr/local/lib/python3.10/dist-packages (from nbconvert->notebook>=4.4.1->widgetsnbextension~=3.6.0->ipywidgets->ipyfilechooser>=0.6.0->geemap) (6.0.0)\n",
            "Requirement already satisfied: defusedxml in /usr/local/lib/python3.10/dist-packages (from nbconvert->notebook>=4.4.1->widgetsnbextension~=3.6.0->ipywidgets->ipyfilechooser>=0.6.0->geemap) (0.7.1)\n",
            "Requirement already satisfied: entrypoints>=0.2.2 in /usr/local/lib/python3.10/dist-packages (from nbconvert->notebook>=4.4.1->widgetsnbextension~=3.6.0->ipywidgets->ipyfilechooser>=0.6.0->geemap) (0.4)\n",
            "Requirement already satisfied: jupyterlab-pygments in /usr/local/lib/python3.10/dist-packages (from nbconvert->notebook>=4.4.1->widgetsnbextension~=3.6.0->ipywidgets->ipyfilechooser>=0.6.0->geemap) (0.2.2)\n",
            "Requirement already satisfied: mistune<2,>=0.8.1 in /usr/local/lib/python3.10/dist-packages (from nbconvert->notebook>=4.4.1->widgetsnbextension~=3.6.0->ipywidgets->ipyfilechooser>=0.6.0->geemap) (0.8.4)\n",
            "Requirement already satisfied: nbclient>=0.5.0 in /usr/local/lib/python3.10/dist-packages (from nbconvert->notebook>=4.4.1->widgetsnbextension~=3.6.0->ipywidgets->ipyfilechooser>=0.6.0->geemap) (0.8.0)\n",
            "Requirement already satisfied: pandocfilters>=1.4.1 in /usr/local/lib/python3.10/dist-packages (from nbconvert->notebook>=4.4.1->widgetsnbextension~=3.6.0->ipywidgets->ipyfilechooser>=0.6.0->geemap) (1.5.0)\n",
            "Requirement already satisfied: tinycss2 in /usr/local/lib/python3.10/dist-packages (from nbconvert->notebook>=4.4.1->widgetsnbextension~=3.6.0->ipywidgets->ipyfilechooser>=0.6.0->geemap) (1.2.1)\n",
            "Requirement already satisfied: fastjsonschema in /usr/local/lib/python3.10/dist-packages (from nbformat->notebook>=4.4.1->widgetsnbextension~=3.6.0->ipywidgets->ipyfilechooser>=0.6.0->geemap) (2.17.1)\n",
            "Requirement already satisfied: jsonschema>=2.6 in /usr/local/lib/python3.10/dist-packages (from nbformat->notebook>=4.4.1->widgetsnbextension~=3.6.0->ipywidgets->ipyfilechooser>=0.6.0->geemap) (4.3.3)\n",
            "Requirement already satisfied: attrs>=17.4.0 in /usr/local/lib/python3.10/dist-packages (from jsonschema>=2.6->nbformat->notebook>=4.4.1->widgetsnbextension~=3.6.0->ipywidgets->ipyfilechooser>=0.6.0->geemap) (23.1.0)\n",
            "Requirement already satisfied: pyrsistent!=0.17.0,!=0.17.1,!=0.17.2,>=0.14.0 in /usr/local/lib/python3.10/dist-packages (from jsonschema>=2.6->nbformat->notebook>=4.4.1->widgetsnbextension~=3.6.0->ipywidgets->ipyfilechooser>=0.6.0->geemap) (0.19.3)\n",
            "Requirement already satisfied: cffi>=1.0.1 in /usr/local/lib/python3.10/dist-packages (from argon2-cffi-bindings->argon2-cffi->notebook>=4.4.1->widgetsnbextension~=3.6.0->ipywidgets->ipyfilechooser>=0.6.0->geemap) (1.15.1)\n",
            "Requirement already satisfied: soupsieve>1.2 in /usr/local/lib/python3.10/dist-packages (from beautifulsoup4->nbconvert->notebook>=4.4.1->widgetsnbextension~=3.6.0->ipywidgets->ipyfilechooser>=0.6.0->geemap) (2.4.1)\n",
            "Requirement already satisfied: webencodings in /usr/local/lib/python3.10/dist-packages (from bleach->nbconvert->notebook>=4.4.1->widgetsnbextension~=3.6.0->ipywidgets->ipyfilechooser>=0.6.0->geemap) (0.5.1)\n",
            "Requirement already satisfied: pycparser in /usr/local/lib/python3.10/dist-packages (from cffi>=1.0.1->argon2-cffi-bindings->argon2-cffi->notebook>=4.4.1->widgetsnbextension~=3.6.0->ipywidgets->ipyfilechooser>=0.6.0->geemap) (2.21)\n",
            "Building wheels for collected packages: pyperclip\n",
            "  Building wheel for pyperclip (setup.py) ... \u001b[?25l\u001b[?25hdone\n",
            "  Created wheel for pyperclip: filename=pyperclip-1.8.2-py3-none-any.whl size=11124 sha256=40c34f5e099834f3140171ca0caa3c3809dd8f95d3a98ecdc6af665cccc43720\n",
            "  Stored in directory: /root/.cache/pip/wheels/04/24/fe/140a94a7f1036003ede94579e6b4227fe96c840c6f4dcbe307\n",
            "Successfully built pyperclip\n",
            "Installing collected packages: pyperclip, colour, xyzservices, traittypes, scooby, ratelim, python-box, pyshp, jedi, geocoder, eerepr, ipytree, ipyleaflet, ipyfilechooser, ipyevents, bqplot, geemap\n",
            "Successfully installed bqplot-0.12.39 colour-0.1.5 eerepr-0.0.4 geemap-0.23.2 geocoder-1.38.1 ipyevents-2.0.1 ipyfilechooser-0.6.0 ipyleaflet-0.17.3 ipytree-0.2.2 jedi-0.18.2 pyperclip-1.8.2 pyshp-2.3.1 python-box-7.0.1 ratelim-0.1.6 scooby-0.7.2 traittypes-0.2.1 xyzservices-2023.5.0\n"
          ]
        }
      ]
    },
    {
      "cell_type": "code",
      "source": [
        "import geemap\n",
        "\n",
        "import ee"
      ],
      "metadata": {
        "id": "AO03ARWzssW4"
      },
      "id": "AO03ARWzssW4",
      "execution_count": 17,
      "outputs": []
    },
    {
      "cell_type": "code",
      "source": [
        "import geopandas as gpd"
      ],
      "metadata": {
        "id": "ESK35k5kug6V"
      },
      "id": "ESK35k5kug6V",
      "execution_count": 4,
      "outputs": []
    },
    {
      "cell_type": "code",
      "execution_count": null,
      "id": "1f3c5b93",
      "metadata": {
        "id": "1f3c5b93"
      },
      "outputs": [],
      "source": [
        "# Trigger the authentication flow.\n",
        "ee.Authenticate()\n",
        "\n",
        "# Initialize the library.\n",
        "ee.Initialize()"
      ]
    },
    {
      "cell_type": "code",
      "source": [
        "# Code to read csv file into Colaboratory:\n",
        "\n",
        "from pydrive.auth import GoogleAuth\n",
        "from pydrive.drive import GoogleDrive\n",
        "from google.colab import auth\n",
        "from oauth2client.client import GoogleCredentials\n",
        "\n",
        "# Authenticate and create the PyDrive client.\n",
        "\n",
        "auth.authenticate_user()\n",
        "gauth = GoogleAuth()\n",
        "gauth.credentials = GoogleCredentials.get_application_default()\n",
        "drive = GoogleDrive(gauth)"
      ],
      "metadata": {
        "id": "UoGRGQN3xfUp",
        "outputId": "8b49aebc-4073-4833-e8c8-f2a6bce60ef5",
        "colab": {
          "base_uri": "https://localhost:8080/",
          "height": 380
        }
      },
      "id": "UoGRGQN3xfUp",
      "execution_count": 20,
      "outputs": [
        {
          "output_type": "error",
          "ename": "MessageError",
          "evalue": "ignored",
          "traceback": [
            "\u001b[0;31m---------------------------------------------------------------------------\u001b[0m",
            "\u001b[0;31mMessageError\u001b[0m                              Traceback (most recent call last)",
            "\u001b[0;32m<ipython-input-20-a947e090f1bb>\u001b[0m in \u001b[0;36m<cell line: 10>\u001b[0;34m()\u001b[0m\n\u001b[1;32m      8\u001b[0m \u001b[0;31m# Authenticate and create the PyDrive client.\u001b[0m\u001b[0;34m\u001b[0m\u001b[0;34m\u001b[0m\u001b[0m\n\u001b[1;32m      9\u001b[0m \u001b[0;34m\u001b[0m\u001b[0m\n\u001b[0;32m---> 10\u001b[0;31m \u001b[0mauth\u001b[0m\u001b[0;34m.\u001b[0m\u001b[0mauthenticate_user\u001b[0m\u001b[0;34m(\u001b[0m\u001b[0;34m)\u001b[0m\u001b[0;34m\u001b[0m\u001b[0;34m\u001b[0m\u001b[0m\n\u001b[0m\u001b[1;32m     11\u001b[0m \u001b[0mgauth\u001b[0m \u001b[0;34m=\u001b[0m \u001b[0mGoogleAuth\u001b[0m\u001b[0;34m(\u001b[0m\u001b[0;34m)\u001b[0m\u001b[0;34m\u001b[0m\u001b[0;34m\u001b[0m\u001b[0m\n\u001b[1;32m     12\u001b[0m \u001b[0mgauth\u001b[0m\u001b[0;34m.\u001b[0m\u001b[0mcredentials\u001b[0m \u001b[0;34m=\u001b[0m \u001b[0mGoogleCredentials\u001b[0m\u001b[0;34m.\u001b[0m\u001b[0mget_application_default\u001b[0m\u001b[0;34m(\u001b[0m\u001b[0;34m)\u001b[0m\u001b[0;34m\u001b[0m\u001b[0;34m\u001b[0m\u001b[0m\n",
            "\u001b[0;32m/usr/local/lib/python3.10/dist-packages/google/colab/auth.py\u001b[0m in \u001b[0;36mauthenticate_user\u001b[0;34m(clear_output, project_id)\u001b[0m\n\u001b[1;32m    279\u001b[0m   \u001b[0;32mif\u001b[0m \u001b[0;32mnot\u001b[0m \u001b[0m_check_adc\u001b[0m\u001b[0;34m(\u001b[0m\u001b[0m_CredentialType\u001b[0m\u001b[0;34m.\u001b[0m\u001b[0mUSER\u001b[0m\u001b[0;34m)\u001b[0m\u001b[0;34m:\u001b[0m\u001b[0;34m\u001b[0m\u001b[0;34m\u001b[0m\u001b[0m\n\u001b[1;32m    280\u001b[0m     \u001b[0;32mif\u001b[0m \u001b[0muse_auth_ephem\u001b[0m\u001b[0;34m:\u001b[0m\u001b[0;34m\u001b[0m\u001b[0;34m\u001b[0m\u001b[0m\n\u001b[0;32m--> 281\u001b[0;31m       _message.blocking_request(\n\u001b[0m\u001b[1;32m    282\u001b[0m           \u001b[0;34m'request_auth'\u001b[0m\u001b[0;34m,\u001b[0m\u001b[0;34m\u001b[0m\u001b[0;34m\u001b[0m\u001b[0m\n\u001b[1;32m    283\u001b[0m           \u001b[0mrequest\u001b[0m\u001b[0;34m=\u001b[0m\u001b[0;34m{\u001b[0m\u001b[0;34m'authType'\u001b[0m\u001b[0;34m:\u001b[0m \u001b[0;34m'auth_user_ephemeral'\u001b[0m\u001b[0;34m}\u001b[0m\u001b[0;34m,\u001b[0m\u001b[0;34m\u001b[0m\u001b[0;34m\u001b[0m\u001b[0m\n",
            "\u001b[0;32m/usr/local/lib/python3.10/dist-packages/google/colab/_message.py\u001b[0m in \u001b[0;36mblocking_request\u001b[0;34m(request_type, request, timeout_sec, parent)\u001b[0m\n\u001b[1;32m    174\u001b[0m       \u001b[0mrequest_type\u001b[0m\u001b[0;34m,\u001b[0m \u001b[0mrequest\u001b[0m\u001b[0;34m,\u001b[0m \u001b[0mparent\u001b[0m\u001b[0;34m=\u001b[0m\u001b[0mparent\u001b[0m\u001b[0;34m,\u001b[0m \u001b[0mexpect_reply\u001b[0m\u001b[0;34m=\u001b[0m\u001b[0;32mTrue\u001b[0m\u001b[0;34m\u001b[0m\u001b[0;34m\u001b[0m\u001b[0m\n\u001b[1;32m    175\u001b[0m   )\n\u001b[0;32m--> 176\u001b[0;31m   \u001b[0;32mreturn\u001b[0m \u001b[0mread_reply_from_input\u001b[0m\u001b[0;34m(\u001b[0m\u001b[0mrequest_id\u001b[0m\u001b[0;34m,\u001b[0m \u001b[0mtimeout_sec\u001b[0m\u001b[0;34m)\u001b[0m\u001b[0;34m\u001b[0m\u001b[0;34m\u001b[0m\u001b[0m\n\u001b[0m",
            "\u001b[0;32m/usr/local/lib/python3.10/dist-packages/google/colab/_message.py\u001b[0m in \u001b[0;36mread_reply_from_input\u001b[0;34m(message_id, timeout_sec)\u001b[0m\n\u001b[1;32m    101\u001b[0m     ):\n\u001b[1;32m    102\u001b[0m       \u001b[0;32mif\u001b[0m \u001b[0;34m'error'\u001b[0m \u001b[0;32min\u001b[0m \u001b[0mreply\u001b[0m\u001b[0;34m:\u001b[0m\u001b[0;34m\u001b[0m\u001b[0;34m\u001b[0m\u001b[0m\n\u001b[0;32m--> 103\u001b[0;31m         \u001b[0;32mraise\u001b[0m \u001b[0mMessageError\u001b[0m\u001b[0;34m(\u001b[0m\u001b[0mreply\u001b[0m\u001b[0;34m[\u001b[0m\u001b[0;34m'error'\u001b[0m\u001b[0;34m]\u001b[0m\u001b[0;34m)\u001b[0m\u001b[0;34m\u001b[0m\u001b[0;34m\u001b[0m\u001b[0m\n\u001b[0m\u001b[1;32m    104\u001b[0m       \u001b[0;32mreturn\u001b[0m \u001b[0mreply\u001b[0m\u001b[0;34m.\u001b[0m\u001b[0mget\u001b[0m\u001b[0;34m(\u001b[0m\u001b[0;34m'data'\u001b[0m\u001b[0;34m,\u001b[0m \u001b[0;32mNone\u001b[0m\u001b[0;34m)\u001b[0m\u001b[0;34m\u001b[0m\u001b[0;34m\u001b[0m\u001b[0m\n\u001b[1;32m    105\u001b[0m \u001b[0;34m\u001b[0m\u001b[0m\n",
            "\u001b[0;31mMessageError\u001b[0m: Error: credential propagation was unsuccessful"
          ]
        }
      ]
    },
    {
      "cell_type": "code",
      "source": [
        "def getCoordsSHP(gdfshpFile):\n",
        "  '''\n",
        "  This function takes a polygon vector layer file passed as a GeoDataFrame. Then\n",
        "  it gets all longitude and latitude values and return it as numpy arrays.\n",
        "  '''\n",
        "\n",
        "  gdfiterf = gdfshpFile.iterfeatures()\n",
        "  tupleFile = next(gdfiterf)['geometry']['coordinates']\n",
        "\n",
        "  #arrayCoords = np.array([list(tupleFile[0][i]) for i in range(len(tupleFile[0]))])\n",
        "\n",
        "  return tupleFile"
      ],
      "metadata": {
        "id": "JM8zrRot5-hK"
      },
      "id": "JM8zrRot5-hK",
      "execution_count": 7,
      "outputs": []
    },
    {
      "cell_type": "code",
      "source": [
        "def FileDataDf(dictFiles, i, source):\n",
        "\n",
        "  if source == 'gdrive': # Files hosted in Google Drive.\n",
        "    FilesPath = list(dictFiles.values())[i]\n",
        "    idPath = FilesPath.split('/', 6)\n",
        "    downloadedFiles = drive.CreateFile({'id':idPath[5]})\n",
        "    downloadedFiles.GetContentFile(list(dictFiles.keys())[i])\n",
        "    dfData = pd.read_csv(list(dictFiles.keys())[i])\n",
        "\n",
        "  elif source == 'other': # Files imported from device or Colab files\n",
        "    dfData = pd.read_csv(list(dictFiles.values())[i])\n",
        "\n",
        "  return dfData"
      ],
      "metadata": {
        "id": "8k_GBg5bw_Zl"
      },
      "id": "8k_GBg5bw_Zl",
      "execution_count": 16,
      "outputs": []
    },
    {
      "cell_type": "code",
      "source": [
        "# Load the shapefile\n",
        "shapefile_path = '/content/DeltaParana.shp'\n",
        "gdf = gpd.read_file(shapefile_path)\n",
        "\n",
        "# Extract the polygon\n",
        "polygon = gdf.geometry.values[0]\n",
        "\n",
        "# Print the polygon\n",
        "print(polygon)\n"
      ],
      "metadata": {
        "id": "5L1x1dNJ446l",
        "outputId": "84a432fd-894d-4739-ee42-2e19dd8f7be1",
        "colab": {
          "base_uri": "https://localhost:8080/"
        }
      },
      "id": "5L1x1dNJ446l",
      "execution_count": 6,
      "outputs": [
        {
          "output_type": "stream",
          "name": "stdout",
          "text": [
            "POLYGON Z ((-60.256769 -33.268629 0, -60.257571 -33.26818 0, -60.258462 -33.268045 0, -60.259577 -33.267517 0, -60.262146 -33.266485 0, -60.263861 -33.265576 0, -60.265684 -33.264619 0, -60.266487 -33.264372 0, -60.26707 -33.26391 0, -60.2686 -33.262831 0, -60.269695 -33.262337 0, -60.270715 -33.261598 0, -60.271736 -33.261042 0, -60.272393 -33.260795 0, -60.273049 -33.260302 0, -60.273705 -33.260116 0, -60.277272 -33.261 0, -60.287335 -33.253839 0, -60.291571 -33.25282 0, -60.293759 -33.251925 0, -60.295775 -33.246619 0, -60.299672 -33.245559 0, -60.302706 -33.244483 0, -60.30602 -33.242575 0, -60.308626 -33.240194 0, -60.311156 -33.236566 0, -60.313336 -33.233652 0, -60.316507 -33.231447 0, -60.319114 -33.229719 0, -60.321578 -33.227457 0, -60.323832 -33.22567 0, -60.327637 -33.223167 0, -60.329678 -33.22138 0, -60.333057 -33.218403 0, -60.33899 -33.218387 0, -60.344843 -33.216115 0, -60.347022 -33.213378 0, -60.348006 -33.212247 0, -60.350547 -33.211825 0, -60.353157 -33.211105 0, -60.358028 -33.210616 0, -60.365151 -33.20828 0, -60.373794 -33.207628 0, -60.38387 -33.204335 0, -60.388502 -33.198775 0, -60.387822 -33.19315 0, -60.389569 -33.191768 0, -60.393744 -33.190901 0, -60.398857 -33.189699 0, -60.404917 -33.186262 0, -60.411027 -33.183565 0, -60.415542 -33.181508 0, -60.428164 -33.178171 0, -60.43576 -33.174164 0, -60.442526 -33.169953 0, -60.446543 -33.167758 0, -60.452214 -33.165417 0, -60.456012 -33.16364 0, -60.465956 -33.156342 0, -60.473544 -33.150766 0, -60.477887 -33.148012 0, -60.481461 -33.145863 0, -60.485035 -33.143761 0, -60.488962 -33.141739 0, -60.492679 -33.139462 0, -60.495595 -33.138197 0, -60.497624 -33.136147 0, -60.49916 -33.134563 0, -60.502145 -33.132136 0, -60.504695 -33.129595 0, -60.507397 -33.128219 0, -60.509587 -33.125425 0, -60.513415 -33.120977 0, -60.516385 -33.118529 0, -60.518418 -33.117175 0, -60.520497 -33.114475 0, -60.522582 -33.11261 0, -60.526251 -33.108372 0, -60.52821 -33.103873 0, -60.529963 -33.102097 0, -60.534054 -33.099742 0, -60.536336 -33.097578 0, -60.537894 -33.09566 0, -60.53815 -33.094073 0, -60.53901 -33.092504 0, -60.539848 -33.091383 0, -60.541307 -33.08984 0, -60.54306 -33.088164 0, -60.546269 -33.085434 0, -60.548928 -33.082512 0, -60.551934 -33.079765 0, -60.555582 -33.07619 0, -60.558018 -33.073551 0, -60.560687 -33.070806 0, -60.563668 -33.067799 0, -60.564596 -33.066658 0, -60.564928 -33.065544 0, -60.566854 -33.062921 0, -60.567841 -33.061706 0, -60.569139 -33.059676 0, -60.570018 -33.057799 0, -60.57117 -33.055831 0, -60.570844 -33.053614 0, -60.571748 -33.050954 0, -60.57323 -33.048235 0, -60.57513 -33.046322 0, -60.577219 -33.043322 0, -60.579312 -33.040692 0, -60.581709 -33.036785 0, -60.582939 -33.03374 0, -60.584141 -33.032311 0, -60.586112 -33.031114 0, -60.586602 -33.030863 0, -60.590858 -33.026213 0, -60.594262 -33.022281 0, -60.595907 -33.019565 0, -60.597995 -33.016564 0, -60.598902 -33.01474 0, -60.600929 -33.012713 0, -60.602708 -33.010629 0, -60.604381 -33.009106 0, -60.605307 -33.008141 0, -60.60617 -33.006017 0, -60.607959 -33.002958 0, -60.609597 -33.00072 0, -60.610589 -32.998272 0, -60.612026 -32.99619 0, -60.612807 -32.994575 0, -60.614277 -32.99283 0, -60.615413 -32.991419 0, -60.615715 -32.988815 0, -60.615927 -32.985471 0, -60.616899 -32.983221 0, -60.61676 -32.97877 0, -60.617496 -32.972161 0, -60.618018 -32.966202 0, -60.619885 -32.95974 0, -60.62166 -32.95574 0, -60.623871 -32.951763 0, -60.625332 -32.949079 0, -60.628017 -32.946112 0, -60.630573 -32.943267 0, -60.633717 -32.940298 0, -60.637621 -32.93744 0, -60.641968 -32.934301 0, -60.646439 -32.931626 0, -60.650255 -32.929612 0, -60.654816 -32.927706 0, -60.657642 -32.926311 0, -60.661362 -32.923507 0, -60.665255 -32.921005 0, -60.667623 -32.918718 0, -60.670445 -32.914257 0, -60.673202 -32.91131 0, -60.674265 -32.908872 0, -60.675687 -32.90628 0, -60.676484 -32.904451 0, -60.678185 -32.902232 0, -60.681001 -32.898058 0, -60.683695 -32.893087 0, -60.685557 -32.889201 0, -60.686336 -32.885092 0, -60.686219 -32.881673 0, -60.686266 -32.878022 0, -60.687341 -32.875282 0, -60.687551 -32.871925 0, -60.688452 -32.867524 0, -60.6887 -32.86471 0, -60.690016 -32.862975 0, -60.692444 -32.859749 0, -60.693596 -32.857386 0, -60.693769 -32.853906 0, -60.69486 -32.850781 0, -60.695708 -32.846499 0, -60.696012 -32.843047 0, -60.696112 -32.840851 0, -60.696563 -32.839273 0, -60.697637 -32.836771 0, -60.697834 -32.832259 0, -60.69958 -32.828096 0, -60.700011 -32.824695 0, -60.701603 -32.822075 0, -60.701286 -32.819402 0, -60.701838 -32.816025 0, -60.703365 -32.813009 0, -60.704222 -32.811648 0, -60.704798 -32.809542 0, -60.705248 -32.80702 0, -60.707225 -32.804824 0, -60.708495 -32.800503 0, -60.709133 -32.797615 0, -60.709568 -32.794272 0, -60.711146 -32.791346 0, -60.713454 -32.788233 0, -60.715404 -32.784317 0, -60.716063 -32.782803 0, -60.717481 -32.780174 0, -60.718998 -32.775862 0, -60.720746 -32.771424 0, -60.72281 -32.766453 0, -60.723551 -32.763495 0, -60.723873 -32.760545 0, -60.725418 -32.757289 0, -60.726486 -32.754329 0, -60.726789 -32.75235 0, -60.726366 -32.745624 0, -60.725891 -32.742434 0, -60.726452 -32.737755 0, -60.726719 -32.733689 0, -60.727512 -32.731021 0, -60.727589 -32.727294 0, -60.726576 -32.723604 0, -60.725201 -32.719528 0, -60.725179 -32.717856 0, -60.72525 -32.712967 0, -60.725219 -32.709137 0, -60.724744 -32.705121 0, -60.723801 -32.698101 0, -60.723115 -32.695385 0, -60.72366 -32.69389 0, -60.72408 -32.690605 0, -60.724833 -32.688451 0, -60.725112 -32.682009 0, -60.725426 -32.678768 0, -60.726184 -32.675927 0, -60.727152 -32.670817 0, -60.728995 -32.666404 0, -60.729219 -32.664304 0, -60.731684 -32.660233 0, -60.733587 -32.657926 0, -60.736779 -32.654714 0, -60.739914 -32.650702 0, -60.740092 -32.650598 0, -60.741169 -32.650315 0, -60.743107 -32.649264 0, -60.744986 -32.646661 0, -60.747458 -32.639951 0, -60.748775 -32.634622 0, -60.748862 -32.634497 0, -60.749822 -32.633671 0, -60.752721 -32.628956 0, -60.755516 -32.621024 0, -60.756048 -32.617439 0, -60.758571 -32.611827 0, -60.760533 -32.606821 0, -60.762357 -32.603227 0, -60.768502 -32.598766 0, -60.773109 -32.593155 0, -60.77732 -32.586885 0, -60.783682 -32.58036 0, -60.786111 -32.577433 0, -60.78818 -32.574492 0, -60.789728 -32.570552 0, -60.791401 -32.566195 0, -60.792884 -32.562987 0, -60.798233 -32.553754 0, -60.799578 -32.549516 0, -60.800294 -32.547918 0, -60.800889 -32.543064 0, -60.802653 -32.536871 0, -60.803755 -32.528079 0, -60.803118 -32.5229 0, -60.803655 -32.517703 0, -60.801836 -32.510523 0, -60.80091 -32.50555 0, -60.798218 -32.498604 0, -60.79648 -32.492222 0, -60.797475 -32.490859 0, -60.798778 -32.485114 0, -60.804264 -32.471475 0, -60.804429 -32.462565 0, -60.804233 -32.455556 0, -60.805515 -32.449781 0, -60.802128 -32.443697 0, -60.805331 -32.440138 0, -60.806879 -32.436953 0, -60.810201 -32.433756 0, -60.818379 -32.422672 0, -60.832822 -32.428928 0, -60.862895 -32.435608 0, -60.875575 -32.435318 0, -60.90465 -32.423352 0, -60.910897 -32.423576 0, -60.906819 -32.416404 0, -60.89942 -32.4087 0, -60.898282 -32.404674 0, -60.88869 -32.395899 0, -60.884623 -32.39298 0, -60.880359 -32.389711 0, -60.876879 -32.385743 0, -60.875745 -32.383268 0, -60.87384 -32.375524 0, -60.871957 -32.369952 0, -60.871359 -32.364837 0, -60.868786 -32.358799 0, -60.868206 -32.349746 0, -60.870445 -32.343392 0, -60.871103 -32.334889 0, -60.871604 -32.332517 0, -60.873244 -32.332296 0, -60.875464 -32.332629 0, -60.877316 -32.333963 0, -60.878711 -32.336124 0, -60.884032 -32.345856 0, -60.889682 -32.353436 0, -60.895225 -32.360403 0, -60.900126 -32.365186 0, -60.902612 -32.367007 0, -60.905942 -32.368385 0, -60.914106 -32.368764 0, -60.924726 -32.369894 0, -60.938734 -32.369552 0, -60.947658 -32.367933 0, -60.958511 -32.368925 0, -60.96381 -32.364108 0, -60.971292 -32.352705 0, -60.976533 -32.344736 0, -60.982463 -32.33926 0, -60.987764 -32.332912 0, -60.990849 -32.330786 0, -60.998458 -32.327923 0, -61.00356 -32.322453 0, -61.006608 -32.3191 0, -61.007223 -32.313295 0, -61.006751 -32.305985 0, -61.003983 -32.2983 0, -61.008587 -32.289402 0, -61.01571 -32.277361 0, -61.016685 -32.272274 0, -61.012699 -32.26635 0, -61.011869 -32.261958 0, -61.011234 -32.257564 0, -61.01184 -32.249178 0, -61.009289 -32.242392 0, -61.008244 -32.233191 0, -61.007948 -32.227688 0, -61.007889 -32.222384 0, -61.012032 -32.218697 0, -61.020371 -32.214476 0, -61.025922 -32.208725 0, -61.027442 -32.205405 0, -61.030095 -32.198933 0, -61.02985 -32.194469 0, -61.028602 -32.187368 0, -61.026775 -32.180436 0, -61.024922 -32.171354 0, -61.022285 -32.161783 0, -61.01932 -32.157672 0, -61.018868 -32.152052 0, -61.019211 -32.147915 0, -61.016181 -32.13785 0, -61.016211 -32.135327 0, -61.000831 -32.104191 0, -60.983901 -32.07665 0, -60.953316 -32.042775 0, -60.929709 -32.025956 0, -60.930917 -31.994673 0, -60.922205 -31.954191 0, -60.917478 -31.934274 0, -60.907522 -31.919542 0, -60.895905 -31.888732 0, -60.875223 -31.855409 0, -60.873527 -31.835469 0, -60.868177 -31.827783 0, -60.855637 -31.817465 0, -60.850786 -31.795825 0, -60.84472 -31.779972 0, -60.836976 -31.765214 0, -60.816023 -31.738259 0, -60.810851 -31.726733 0, -60.785119 -31.675905 0, -60.744086 -31.66974 0, -60.724354 -31.670922 0, -60.705673 -31.664631 0, -60.701647 -31.670107 0, -60.694035 -31.677872 0, -60.68229 -31.688704 0, -60.675137 -31.697934 0, -60.669051 -31.710089 0, -60.665474 -31.721167 0, -60.656251 -31.735853 0, -60.641153 -31.734378 0, -60.62404 -31.732976 0, -60.618592 -31.731221 0, -60.609227 -31.723634 0, -60.602947 -31.720663 0, -60.59567 -31.718456 0, -60.586475 -31.716244 0, -60.582481 -31.716921 0, -60.577358 -31.720449 0, -60.571739 -31.724911 0, -60.56794 -31.727381 0, -60.564522 -31.72962 0, -60.559792 -31.732679 0, -60.556171 -31.736879 0, -60.556718 -31.739789 0, -60.565265 -31.764861 0, -60.56684 -31.793551 0, -60.566942 -31.81029 0, -60.595045 -31.825706 0, -60.607551 -31.829444 0, -60.616171 -31.832758 0, -60.623205 -31.848289 0, -60.642849 -31.852974 0, -60.647208 -31.863414 0, -60.646458 -31.878788 0, -60.643976 -31.891976 0, -60.647513 -31.906963 0, -60.651896 -31.920116 0, -60.671318 -31.935751 0, -60.68417 -31.947215 0, -60.680933 -31.958849 0, -60.675695 -31.969503 0, -60.675734 -31.974815 0, -60.653311 -31.992433 0, -60.637086 -32.012415 0, -60.62645 -32.027472 0, -60.62353 -32.040296 0, -60.63002 -32.046851 0, -60.640807 -32.053384 0, -60.650356 -32.066876 0, -60.651765 -32.083703 0, -60.640858 -32.107581 0, -60.636554 -32.116899 0, -60.619153 -32.128141 0, -60.596248 -32.133829 0, -60.582158 -32.151557 0, -60.574643 -32.172973 0, -60.570382 -32.190655 0, -60.576006 -32.215729 0, -60.56845 -32.231566 0, -60.553251 -32.250226 0, -60.531428 -32.259616 0, -60.523807 -32.266155 0, -60.51951 -32.280117 0, -60.518479 -32.291276 0, -60.517464 -32.305225 0, -60.50547 -32.31364 0, -60.490215 -32.326714 0, -60.482611 -32.337899 0, -60.479444 -32.360221 0, -60.474021 -32.370467 0, -60.442337 -32.387315 0, -60.43143 -32.397579 0, -60.42163 -32.410626 0, -60.407388 -32.411603 0, -60.399791 -32.42836 0, -60.38124 -32.447939 0, -60.370323 -32.459126 0, -60.361589 -32.468448 0, -60.347355 -32.474065 0, -60.334226 -32.482467 0, -60.334261 -32.491763 0, -60.324433 -32.503873 0, -60.311355 -32.529005 0, -60.292702 -32.52905 0, -60.285018 -32.528138 0, -60.259823 -32.543066 0, -60.254352 -32.548654 0, -60.26424 -32.552352 0, -60.258763 -32.556082 0, -60.243431 -32.569127 0, -60.224806 -32.584035 0, -60.19958 -32.596162 0, -60.17874 -32.608278 0, -60.16889 -32.626883 0, -60.150247 -32.645498 0, -60.123892 -32.655752 0, -60.114013 -32.664127 0, -60.092039 -32.668793 0, -60.075561 -32.67717 0, -60.048088 -32.687409 0, -60.031606 -32.704146 0, -60.014017 -32.719952 0, -59.992024 -32.727389 0, -59.979926 -32.731106 0, -59.973324 -32.743189 0, -59.974421 -32.754344 0, -59.964513 -32.772003 0, -59.949103 -32.784082 0, -59.943589 -32.80267 0, -59.923767 -32.813814 0, -59.902837 -32.827743 0, -59.884111 -32.835164 0, -59.862064 -32.845769 0, -59.826906 -32.882897 0, -59.766101 -32.956176 0, -59.739739 -32.951677 0, -59.731915 -32.922754 0, -59.652803 -32.927006 0, -59.554849 -33.006744 0, -59.493836 -33.0621 0, -59.462258 -33.04418 0, -59.430392 -33.072944 0, -59.448656 -33.108602 0, -59.421945 -33.152951 0, -59.363554 -33.186018 0, -59.342067 -33.230375 0, -59.271284 -33.15216 0, -59.126003 -33.142332 0, -59.012165 -33.139772 0, -58.944185 -33.185811 0, -58.902913 -33.2295 0, -58.854692 -33.275755 0, -58.782958 -33.295083 0, -58.755604 -33.357063 0, -58.670198 -33.398419 0, -58.627413 -33.422408 0, -58.586611 -33.396999 0, -58.541129 -33.350282 0, -58.501833 -33.37336 0, -58.502899 -33.396741 0, -58.51558 -33.427641 0, -58.542664 -33.475927 0, -58.527232 -33.545753 0, -58.539231 -33.62148 0, -58.532182 -33.723657 0, -58.4939 -33.83474 0, -58.485771 -33.847359 0, -58.478531 -33.84774 0, -58.469929 -33.851238 0, -58.46706 -33.857422 0, -58.4674 -33.863331 0, -58.47168 -33.874229 0, -58.47364 -33.88448 0, -58.477779 -33.88921 0, -58.4786 -33.896431 0, -58.47739 -33.903141 0, -58.46698 -33.90863 0, -58.460758 -33.91214 0, -58.461441 -33.917511 0, -58.463551 -33.922321 0, -58.464111 -33.925991 0, -58.46384 -33.930801 0, -58.464401 -33.934471 0, -58.466991 -33.938141 0, -58.463718 -33.940788 0, -58.45916 -33.940971 0, -58.455299 -33.944641 0, -58.45026 -33.948219 0, -58.452579 -33.950489 0, -58.455109 -33.95425 0, -58.455318 -33.957932 0, -58.454041 -33.96273 0, -58.450241 -33.965839 0, -58.446381 -33.969509 0, -58.445648 -33.972618 0, -58.445419 -33.977139 0, -58.446281 -33.981098 0, -58.44487 -33.98597 0, -58.446651 -33.99247 0, -58.446819 -33.995049 0, -58.447491 -33.999489 0, -58.446281 -34.005161 0, -58.447208 -34.007641 0, -58.44767 -34.01083 0, -58.446838 -34.01445 0, -58.433868 -34.018532 0, -58.41304 -34.018768 0, -58.405209 -34.01981 0, -58.400318 -34.023109 0, -58.396049 -34.025478 0, -58.389839 -34.029591 0, -58.391071 -34.032669 0, -58.390869 -34.033329 0, -58.39061 -34.034592 0, -58.390209 -34.03746 0, -58.390228 -34.040668 0, -58.390511 -34.041931 0, -58.391079 -34.043201 0, -58.391499 -34.045261 0, -58.39193 -34.0471 0, -58.392639 -34.049511 0, -58.392921 -34.050652 0, -58.392941 -34.0541 0, -58.392529 -34.05513 0, -58.39185 -34.05719 0, -58.391861 -34.057991 0, -58.392578 -34.06213 0, -58.39341 -34.063042 0, -58.395489 -34.063629 0, -58.396461 -34.063969 0, -58.398949 -34.065121 0, -58.399651 -34.066608 0, -58.399658 -34.067421 0, -58.39967 -34.06879 0, -58.399261 -34.070171 0, -58.398861 -34.073151 0, -58.398869 -34.074299 0, -58.39875 -34.076248 0, -58.398769 -34.07935 0, -58.39864 -34.080151 0, -58.397812 -34.081299 0, -58.397549 -34.08313 0, -58.39632 -34.085651 0, -58.396191 -34.087372 0, -58.395088 -34.088402 0, -58.39455 -34.089321 0, -58.394001 -34.09024 0, -58.39484 -34.091961 0, -58.395119 -34.09333 0, -58.39555 -34.095169 0, -58.394741 -34.098728 0, -58.39447 -34.10022 0, -58.394341 -34.101589 0, -58.394211 -34.102619 0, -58.394081 -34.103432 0, -58.393669 -34.105148 0, -58.393269 -34.10709 0, -58.393139 -34.108471 0, -58.393009 -34.109852 0, -58.392609 -34.112598 0, -58.39249 -34.11478 0, -58.392639 -34.11639 0, -58.392651 -34.11776 0, -58.392651 -34.119141 0, -58.392941 -34.120861 0, -58.39323 -34.12339 0, -58.39352 -34.124989 0, -58.393799 -34.126259 0, -58.394508 -34.12809 0, -58.395489 -34.13039 0, -58.3955 -34.132111 0, -58.394821 -34.133831 0, -58.394001 -34.136581 0, -58.39402 -34.138988 0, -58.394032 -34.140942 0, -58.394459 -34.14312 0, -58.39489 -34.145069 0, -58.395039 -34.147591 0, -58.395741 -34.149551 0, -58.39603 -34.15081 0, -58.397572 -34.154251 0, -58.39785 -34.155399 0, -58.39883 -34.156891 0, -58.400082 -34.1577 0, -58.400921 -34.158852 0, -58.401619 -34.160801 0, -58.401348 -34.161949 0, -58.400261 -34.16367 0, -58.398331 -34.165958 0, -58.397381 -34.167789 0, -58.39669 -34.169281 0, -58.396278 -34.170311 0, -58.395191 -34.172371 0, -58.394508 -34.17432 0, -58.39341 -34.17627 0, -58.392731 -34.177071 0, -58.391491 -34.17902 0, -58.390949 -34.180161 0, -58.390121 -34.181309 0, -58.389709 -34.182461 0, -58.389309 -34.183262 0, -58.389309 -34.184521 0, -58.38932 -34.186359 0, -58.389332 -34.18774 0, -58.389339 -34.190029 0, -58.389629 -34.192211 0, -58.39019 -34.193939 0, -58.39048 -34.194969 0, -58.39146 -34.196461 0, -58.39299 -34.198639 0, -58.39328 -34.200939 0, -58.39426 -34.203121 0, -58.39497 -34.20438 0, -58.395939 -34.206219 0, -58.396919 -34.20771 0, -58.397621 -34.2099 0, -58.397911 -34.210812 0, -58.398472 -34.21299 0, -58.39917 -34.214031 0, -58.400291 -34.215858 0, -58.40168 -34.21735 0, -58.403221 -34.2192 0, -58.404469 -34.220459 0, -58.40601 -34.22184 0, -58.40712 -34.223911 0, -58.4081 -34.225288 0, -58.408798 -34.22644 0, -58.410061 -34.228161 0, -58.41061 -34.228958 0, -58.412151 -34.230919 0, -58.41341 -34.232868 0, -58.414391 -34.234711 0, -58.415089 -34.235859 0, -58.415649 -34.237 0, -58.41663 -34.239189 0, -58.417191 -34.240452 0, -58.41748 -34.24194 0, -58.418179 -34.242859 0, -58.4193 -34.245392 0, -58.420841 -34.247452 0, -58.420849 -34.24894 0, -58.421131 -34.250549 0, -58.42128 -34.251808 0, -58.421291 -34.252731 0, -58.421711 -34.254681 0, -58.422001 -34.256748 0, -58.42271 -34.258469 0, -58.424099 -34.260311 0, -58.425499 -34.26157 0, -58.427448 -34.26376 0, -58.428581 -34.267658 0, -58.43108 -34.268589 0, -58.432468 -34.269039 0, -58.434971 -34.269741 0, -58.436069 -34.269852 0, -58.43885 -34.270439 0, -58.44051 -34.270779 0, -58.442181 -34.27124 0, -58.44495 -34.271938 0, -58.446201 -34.271938 0, -58.447449 -34.271721 0, -58.44883 -34.271599 0, -58.450069 -34.270802 0, -58.452148 -34.270229 0, -58.45451 -34.270691 0, -58.45562 -34.27058 0, -58.458389 -34.270359 0, -58.4599 -34.269562 0, -58.4617 -34.268761 0, -58.462952 -34.26968 0, -58.463509 -34.27037 0, -58.464211 -34.271179 0, -58.464909 -34.271751 0, -58.466862 -34.273251 0, -58.468109 -34.274391 0, -58.469501 -34.275429 0, -58.470482 -34.276001 0, -58.47131 -34.276699 0, -58.472839 -34.277729 0, -58.47438 -34.278542 0, -58.475349 -34.27877 0, -58.476601 -34.27935 0, -58.478821 -34.280151 0, -58.481178 -34.280739 0, -58.482288 -34.280739 0, -58.48381 -34.280739 0, -58.485199 -34.280739 0, -58.48658 -34.280739 0, -58.48769 -34.280628 0, -58.489208 -34.280399 0, -58.491291 -34.280071 0, -58.493641 -34.27961 0, -58.496132 -34.27858 0, -58.497791 -34.277901 0, -58.499729 -34.2771 0, -58.502209 -34.275501 0, -58.50359 -34.2747 0, -58.50552 -34.27367 0, -58.506618 -34.272869 0, -58.507729 -34.27219 0, -58.509239 -34.27116 0, -58.51062 -34.270359 0, -58.512138 -34.269779 0, -58.51366 -34.269329 0, -58.515331 -34.269329 0, -58.516441 -34.269329 0, -58.518379 -34.269791 0, -58.519459 -34.270741 0, -58.520012 -34.27177 0, -58.520351 -34.27261 0, -58.520451 -34.27364 0, -58.52042 -34.274761 0, -58.519741 -34.276539 0, -58.519409 -34.277382 0, -58.519058 -34.27832 0, -58.518391 -34.279999 0, -58.517719 -34.280849 0, -58.516121 -34.281872 0, -58.51384 -34.284771 0, -58.512932 -34.286549 0, -58.512032 -34.289169 0, -58.512131 -34.29282 0, -58.51498 -34.294411 0, -58.51693 -34.296841 0, -58.51738 -34.300919 0, -58.516579 -34.30489 0, -58.516701 -34.306271 0, -58.515881 -34.307652 0, -58.51519 -34.30891 0, -58.51479 -34.31028 0, -58.51466 -34.31131 0, -58.51453 -34.31292 0, -58.51453 -34.313839 0, -58.514542 -34.314991 0, -58.51511 -34.316479 0, -58.516918 -34.318089 0, -58.516739 -34.331741 0, -58.515079 -34.332878 0, -58.514259 -34.333679 0, -58.51371 -34.334599 0, -58.512741 -34.33551 0, -58.511501 -34.336319 0, -58.510399 -34.336891 0, -58.50943 -34.338032 0, -58.508469 -34.339409 0, -58.507919 -34.340672 0, -58.507511 -34.342041 0, -58.507381 -34.34285 0, -58.506149 -34.345249 0, -58.505199 -34.347431 0, -58.504509 -34.348351 0, -58.50272 -34.35006 0, -58.502029 -34.350979 0, -58.50079 -34.35281 0, -58.500519 -34.353611 0, -58.499561 -34.355221 0, -58.498741 -34.356819 0, -58.49889 -34.357971 0, -58.500408 -34.3582 0, -58.501518 -34.357639 0, -58.503448 -34.35638 0, -58.504829 -34.355 0, -58.50621 -34.354092 0, -58.50745 -34.353401 0, -58.508419 -34.353062 0, -58.510231 -34.353291 0, -58.5112 -34.353642 0, -58.512039 -34.35421 0, -58.513149 -34.354679 0, -58.514549 -34.355942 0, -58.515518 -34.356739 0, -58.516079 -34.357658 0, -58.516781 -34.358471 0, -58.517761 -34.359501 0, -58.518211 -34.360229 0, -58.518879 -34.361351 0, -58.519459 -34.362011 0, -58.519951 -34.363461 0, -58.520191 -34.364792 0, -58.519482 -34.366131 0, -58.518391 -34.367241 0, -58.517208 -34.369129 0, -58.51619 -34.3708 0, -58.516201 -34.37228 0, -58.517891 -34.383179 0, -58.517658 -34.38504 0, -58.516739 -34.386871 0, -58.516659 -34.38908 0, -58.51598 -34.390678 0, -58.515572 -34.391949 0, -58.515541 -34.39299 0, -58.51593 -34.393681 0, -58.516998 -34.39518 0, -58.518341 -34.39679 0, -58.519829 -34.397949 0, -58.521061 -34.398411 0, -58.521881 -34.398869 0, -58.523109 -34.399342 0, -58.524071 -34.399799 0, -58.52544 -34.40049 0, -58.526508 -34.401531 0, -58.52829 -34.40258 0, -58.529652 -34.403271 0, -58.530602 -34.404079 0, -58.532219 -34.40546 0, -58.533161 -34.406502 0, -58.534241 -34.407421 0, -58.535061 -34.408001 0, -58.536671 -34.409611 0, -58.537331 -34.41077 0, -58.537701 -34.412491 0, -58.537231 -34.414219 0, -58.536518 -34.414909 0, -58.536499 -34.41571 0, -58.53632 -34.416969 0, -58.535149 -34.419151 0, -58.53429 -34.4203 0, -58.533569 -34.421219 0, -58.532848 -34.421902 0, -58.530998 -34.423618 0, -58.53001 -34.424419 0, -58.528728 -34.425678 0, -58.528412 -34.426941 0, -58.528389 -34.42786 0, -58.528751 -34.429588 0, -58.529099 -34.43177 0, -58.529499 -34.432461 0, -58.5303 -34.433731 0, -58.531219 -34.43512 0, -58.53204 -34.43581 0, -58.5327 -34.436852 0, -58.533661 -34.437309 0, -58.534599 -34.438351 0, -58.535549 -34.438808 0, -58.5368 -34.438931 0, -58.53817 -34.43951 0, -58.539131 -34.439861 0, -58.540089 -34.44009 0, -58.542019 -34.440441 0, -58.544102 -34.440559 0, -58.545059 -34.440681 0, -58.54615 -34.44138 0, -58.547089 -34.44265 0, -58.546921 -34.443451 0, -58.5466 -34.444939 0, -58.546299 -34.446091 0, -58.545712 -34.447121 0, -58.545109 -34.44873 0, -58.54369 -34.449989 0, -58.54261 -34.451069 0, -58.541569 -34.451359 0, -58.54002 -34.452049 0, -58.538898 -34.45261 0, -58.53791 -34.453072 0, -58.53706 -34.45364 0, -58.536091 -34.453869 0, -58.534962 -34.45467 0, -58.533691 -34.455471 0, -58.531689 -34.45718 0, -58.530399 -34.459019 0, -58.528381 -34.46154 0, -58.540619 -34.457081 0, -58.55027 -34.452301 0, -58.563221 -34.444569 0, -58.574928 -34.437561 0, -58.58783 -34.432079 0, -58.598629 -34.42318 0, -58.609501 -34.41618 0, -58.622719 -34.40937 0, -58.63485 -34.40419 0, -58.644211 -34.40102 0, -58.650822 -34.396061 0, -58.658379 -34.390732 0, -58.665119 -34.385422 0, -58.67226 -34.379532 0, -58.682861 -34.373001 0, -58.693851 -34.368309 0, -58.699341 -34.35886 0, -58.707241 -34.35268 0, -58.713531 -34.3461 0, -58.718109 -34.33617 0, -58.725929 -34.32935 0, -58.734989 -34.32238 0, -58.745159 -34.31609 0, -58.75285 -34.311562 0, -58.76067 -34.305771 0, -58.770569 -34.300869 0, -58.778011 -34.300152 0, -58.784458 -34.296459 0, -58.792561 -34.29147 0, -58.80204 -34.286678 0, -58.811829 -34.28788 0, -58.821362 -34.290009 0, -58.829651 -34.293659 0, -58.83754 -34.297649 0, -58.845139 -34.299931 0, -58.854229 -34.29884 0, -58.86095 -34.294449 0, -58.867401 -34.29018 0, -58.875759 -34.284962 0, -58.884941 -34.27718 0, -58.8955 -34.270538 0, -58.898899 -34.265289 0, -58.903099 -34.256569 0, -58.906052 -34.2458 0, -58.908741 -34.23896 0, -58.909389 -34.233299 0, -58.911079 -34.222321 0, -58.913639 -34.214211 0, -58.917332 -34.21104 0, -58.919739 -34.203739 0, -58.923382 -34.19759 0, -58.928761 -34.193081 0, -58.93716 -34.18858 0, -58.94326 -34.183071 0, -58.944599 -34.177059 0, -58.949669 -34.170052 0, -58.952839 -34.162682 0, -58.958309 -34.159359 0, -58.965569 -34.155769 0, -58.974491 -34.15453 0, -58.987148 -34.15271 0, -58.99773 -34.15078 0, -59.002392 -34.1492 0, -59.005341 -34.141651 0, -59.00663 -34.132301 0, -59.010658 -34.122551 0, -59.015419 -34.116581 0, -59.022381 -34.110931 0, -59.029179 -34.103771 0, -59.039421 -34.10146 0, -59.04937 -34.093948 0, -59.058769 -34.080929 0, -59.063049 -34.07542 0, -59.068951 -34.06641 0, -59.07629 -34.059109 0, -59.08902 -34.05381 0, -59.101669 -34.053799 0, -59.11375 -34.052769 0, -59.125359 -34.053391 0, -59.13773 -34.046211 0, -59.145931 -34.041679 0, -59.156021 -34.038879 0, -59.167099 -34.031872 0, -59.17828 -34.018848 0, -59.18718 -34.009838 0, -59.189381 -33.998932 0, -59.19429 -33.990311 0, -59.2006 -33.9828 0, -59.207569 -33.973999 0, -59.216301 -33.968208 0, -59.22274 -33.96669 0, -59.233002 -33.962009 0, -59.242699 -33.956421 0, -59.251011 -33.950531 0, -59.25742 -33.946499 0, -59.265541 -33.946659 0, -59.273651 -33.946152 0, -59.277191 -33.943439 0, -59.284 -33.938709 0, -59.290798 -33.933071 0, -59.29446 -33.92992 0, -59.29829 -33.927269 0, -59.30864 -33.920799 0, -59.311211 -33.917648 0, -59.314331 -33.915298 0, -59.320782 -33.913559 0, -59.32513 -33.910141 0, -59.328789 -33.907089 0, -59.333309 -33.905392 0, -59.33778 -33.9006 0, -59.33976 -33.895409 0, -59.34288 -33.892719 0, -59.347382 -33.890221 0, -59.35297 -33.88723 0, -59.35416 -33.88343 0, -59.3578 -33.87912 0, -59.366089 -33.873001 0, -59.370522 -33.865471 0, -59.374561 -33.860119 0, -59.386559 -33.854359 0, -59.39146 -33.850941 0, -59.39566 -33.84742 0, -59.402988 -33.841541 0, -59.413029 -33.83366 0, -59.420719 -33.83326 0, -59.427681 -33.830601 0, -59.432171 -33.827751 0, -59.437969 -33.829681 0, -59.44622 -33.829731 0, -59.4524 -33.829491 0, -59.46244 -33.830181 0, -59.476372 -33.825191 0, -59.489578 -33.818272 0, -59.49799 -33.812248 0, -59.504421 -33.810398 0, -59.51062 -33.80386 0, -59.519138 -33.796009 0, -59.530819 -33.788551 0, -59.537479 -33.784279 0, -59.542919 -33.781071 0, -59.549751 -33.779209 0, -59.56015 -33.777161 0, -59.569481 -33.777069 0, -59.575981 -33.779671 0, -59.582241 -33.78434 0, -59.586571 -33.78825 0, -59.590481 -33.792049 0, -59.596321 -33.795811 0, -59.60405 -33.797932 0, -59.609081 -33.79496 0, -59.613972 -33.79211 0, -59.618992 -33.788799 0, -59.622601 -33.783352 0, -59.622589 -33.775459 0, -59.62228 -33.76619 0, -59.623711 -33.754379 0, -59.62534 -33.746231 0, -59.626709 -33.7383 0, -59.62822 -33.73106 0, -59.629299 -33.722809 0, -59.63327 -33.714939 0, -59.63879 -33.709209 0, -59.64222 -33.70216 0, -59.650742 -33.69569 0, -59.659401 -33.689541 0, -59.66954 -33.682011 0, -59.677639 -33.67519 0, -59.685181 -33.668171 0, -59.69305 -33.66399 0, -59.7048 -33.661331 0, -59.71611 -33.65823 0, -59.731628 -33.652401 0, -59.74427 -33.650928 0, -59.760262 -33.64555 0, -59.77005 -33.640499 0, -59.777229 -33.63464 0, -59.78371 -33.62495 0, -59.790199 -33.620239 0, -59.80444 -33.613411 0, -59.81712 -33.610271 0, -59.821659 -33.60479 0, -59.826931 -33.60136 0, -59.836529 -33.594971 0, -59.84721 -33.588219 0, -59.85392 -33.582008 0, -59.858181 -33.576542 0, -59.862049 -33.565128 0, -59.868172 -33.563171 0, -59.876339 -33.554642 0, -59.884991 -33.549648 0, -59.893608 -33.543159 0, -59.90358 -33.535969 0, -59.913311 -33.529919 0, -59.92168 -33.524712 0, -59.934021 -33.51997 0, -59.94651 -33.51524 0, -59.95673 -33.513081 0, -59.968021 -33.50985 0, -59.978199 -33.50631 0, -59.98386 -33.5023 0, -59.99279 -33.49799 0, -59.999969 -33.49474 0, -60.004951 -33.491199 0, -60.010422 -33.485249 0, -60.021412 -33.47562 0, -60.034149 -33.470661 0, -60.04467 -33.464359 0, -60.05085 -33.459541 0, -60.05772 -33.455269 0, -60.06279 -33.44978 0, -60.07095 -33.442509 0, -60.080582 -33.43898 0, -60.090752 -33.435558 0, -60.09819 -33.432079 0, -60.105549 -33.42551 0, -60.11129 -33.42012 0, -60.115372 -33.413631 0, -60.121349 -33.406971 0, -60.12635 -33.39909 0, -60.135269 -33.389851 0, -60.143559 -33.38258 0, -60.15094 -33.377159 0, -60.15823 -33.373562 0, -60.1675 -33.367298 0, -60.177731 -33.361469 0, -60.184158 -33.3564 0, -60.19286 -33.35461 0, -60.202091 -33.352348 0, -60.208679 -33.348431 0, -60.21563 -33.342331 0, -60.220329 -33.334339 0, -60.226269 -33.326649 0, -60.231789 -33.323441 0, -60.237591 -33.31554 0, -60.245838 -33.307579 0, -60.249981 -33.299019 0, -60.257629 -33.28912 0, -60.264259 -33.282001 0, -60.26463 -33.281275 0, -60.264657 -33.280618 0, -60.26519 -33.280203 0, -60.265899 -33.280044 0, -60.266405 -33.280043 0, -60.267056 -33.280066 0, -60.267547 -33.279894 0, -60.267849 -33.279431 0, -60.268137 -33.27843 0, -60.268425 -33.277943 0, -60.268496 -33.277444 0, -60.26848 -33.276982 0, -60.268204 -33.276557 0, -60.267813 -33.276253 0, -60.267321 -33.276145 0, -60.266728 -33.276305 0, -60.266194 -33.276683 0, -60.265833 -33.276793 0, -60.265573 -33.276806 0, -60.265211 -33.27666 0, -60.264992 -33.276396 0, -60.264919 -33.276104 0, -60.265019 -33.275751 0, -60.265452 -33.275409 0, -60.265957 -33.275129 0, -60.266188 -33.274812 0, -60.266129 -33.274483 0, -60.265752 -33.274107 0, -60.265635 -33.273706 0, -60.265835 -33.273481 0, -60.26621 -33.27303 0, -60.266296 -33.272665 0, -60.266165 -33.272325 0, -60.265773 -33.271827 0, -60.26541 -33.271438 0, -60.265351 -33.270976 0, -60.265448 -33.270497 0, -60.265779 -33.269961 0, -60.266241 -33.269607 0, -60.26702 -33.269167 0, -60.268043 -33.268836 0, -60.268433 -33.268702 0, -60.268881 -33.268774 0, -60.269186 -33.26898 0, -60.269418 -33.26932 0, -60.269434 -33.269734 0, -60.269782 -33.270049 0, -60.270071 -33.270146 0, -60.270433 -33.270072 0, -60.270721 -33.269816 0, -60.271023 -33.269256 0, -60.271138 -33.268664 0, -60.271092 -33.26808 0, -60.27083 -33.267411 0, -60.270583 -33.267011 0, -60.27012 -33.266793 0, -60.269541 -33.266624 0, -60.26905 -33.266374 0, -60.268904 -33.265912 0, -60.269293 -33.265425 0, -60.269654 -33.265266 0, -60.269943 -33.265229 0, -60.270364 -33.265544 0, -60.270697 -33.265823 0, -60.271161 -33.266102 0, -60.271841 -33.26621 0, -60.272346 -33.266075 0, -60.272894 -33.265672 0, -60.273197 -33.265295 0, -60.273354 -33.264735 0, -60.273425 -33.26426 0, -60.27325 -33.263883 0, -60.273004 -33.263592 0, -60.272613 -33.26341 0, -60.272063 -33.263266 0, -60.271572 -33.263388 0, -60.270734 -33.263804 0, -60.269782 -33.26439 0, -60.269251 -33.264606 0, -60.268442 -33.26496 0, -60.267331 -33.265729 0, -60.266743 -33.266639 0, -60.265533 -33.26815 0, -60.265003 -33.268682 0, -60.264008 -33.269414 0, -60.2633 -33.269707 0, -60.26291 -33.269733 0, -60.262332 -33.269941 0, -60.260762 -33.270889 0, -60.258884 -33.271696 0, -60.257946 -33.272306 0, -60.256657 -33.273335 0, -60.255257 -33.274141 0, -60.253741 -33.274996 0, -60.253149 -33.275447 0, -60.252904 -33.275593 0, -60.252629 -33.275594 0, -60.252382 -33.275412 0, -60.252309 -33.275157 0, -60.253674 -33.272948 0, -60.255127 -33.27082 0, -60.256034 -33.269555 0, -60.256769 -33.268629 0))\n"
          ]
        }
      ]
    },
    {
      "cell_type": "code",
      "source": [
        "type(polygon_layer)"
      ],
      "metadata": {
        "id": "uRMOJ0KW4ePi",
        "outputId": "628dc8f3-b9c2-4808-df93-cb10cb8cc2a3",
        "colab": {
          "base_uri": "https://localhost:8080/"
        }
      },
      "id": "uRMOJ0KW4ePi",
      "execution_count": null,
      "outputs": [
        {
          "output_type": "execute_result",
          "data": {
            "text/plain": [
              "NoneType"
            ]
          },
          "metadata": {},
          "execution_count": 32
        }
      ]
    },
    {
      "cell_type": "code",
      "source": [
        "StudyArea = gpd.read_file('/content/DeltaParana.shp')\n",
        "getCoordsSHP(StudyArea)[0]"
      ],
      "metadata": {
        "id": "mbDqrcTa6Cw6"
      },
      "id": "mbDqrcTa6Cw6",
      "execution_count": null,
      "outputs": []
    },
    {
      "cell_type": "code",
      "source": [
        "# Sample tuple of tuples\n",
        "tuple_of_tuples = getCoordsSHP(StudyArea)[0]\n",
        "\n",
        "# Convert to a list of lists with only the first 2 elements\n",
        "list_of_lists = [list(t[:2]) for t in tuple_of_tuples]\n",
        "\n",
        "# Print the result\n",
        "print(list_of_lists)\n"
      ],
      "metadata": {
        "id": "YYduPqci7Qk1",
        "outputId": "7864f57d-dfa4-43d3-af2e-440b94779d06",
        "colab": {
          "base_uri": "https://localhost:8080/"
        }
      },
      "id": "YYduPqci7Qk1",
      "execution_count": 9,
      "outputs": [
        {
          "output_type": "stream",
          "name": "stdout",
          "text": [
            "[[-60.256769, -33.268629], [-60.257571, -33.26818], [-60.258462, -33.268045], [-60.259577, -33.267517], [-60.262146, -33.266485], [-60.263861, -33.265576], [-60.265684, -33.264619], [-60.266487, -33.264372], [-60.26707, -33.26391], [-60.2686, -33.262831], [-60.269695, -33.262337], [-60.270715, -33.261598], [-60.271736, -33.261042], [-60.272393, -33.260795], [-60.273049, -33.260302], [-60.273705, -33.260116], [-60.277272, -33.261], [-60.287335, -33.253839], [-60.291571, -33.25282], [-60.293759, -33.251925], [-60.295775, -33.246619], [-60.299672, -33.245559], [-60.302706, -33.244483], [-60.30602, -33.242575], [-60.308626, -33.240194], [-60.311156, -33.236566], [-60.313336, -33.233652], [-60.316507, -33.231447], [-60.319114, -33.229719], [-60.321578, -33.227457], [-60.323832, -33.22567], [-60.327637, -33.223167], [-60.329678, -33.22138], [-60.333057, -33.218403], [-60.33899, -33.218387], [-60.344843, -33.216115], [-60.347022, -33.213378], [-60.348006, -33.212247], [-60.350547, -33.211825], [-60.353157, -33.211105], [-60.358028, -33.210616], [-60.365151, -33.20828], [-60.373794, -33.207628], [-60.38387, -33.204335], [-60.388502, -33.198775], [-60.387822, -33.19315], [-60.389569, -33.191768], [-60.393744, -33.190901], [-60.398857, -33.189699], [-60.404917, -33.186262], [-60.411027, -33.183565], [-60.415542, -33.181508], [-60.428164, -33.178171], [-60.43576, -33.174164], [-60.442526, -33.169953], [-60.446543, -33.167758], [-60.452214, -33.165417], [-60.456012, -33.16364], [-60.465956, -33.156342], [-60.473544, -33.150766], [-60.477887, -33.148012], [-60.481461, -33.145863], [-60.485035, -33.143761], [-60.488962, -33.141739], [-60.492679, -33.139462], [-60.495595, -33.138197], [-60.497624, -33.136147], [-60.49916, -33.134563], [-60.502145, -33.132136], [-60.504695, -33.129595], [-60.507397, -33.128219], [-60.509587, -33.125425], [-60.513415, -33.120977], [-60.516385, -33.118529], [-60.518418, -33.117175], [-60.520497, -33.114475], [-60.522582, -33.11261], [-60.526251, -33.108372], [-60.52821, -33.103873], [-60.529963, -33.102097], [-60.534054, -33.099742], [-60.536336, -33.097578], [-60.537894, -33.09566], [-60.53815, -33.094073], [-60.53901, -33.092504], [-60.539848, -33.091383], [-60.541307, -33.08984], [-60.54306, -33.088164], [-60.546269, -33.085434], [-60.548928, -33.082512], [-60.551934, -33.079765], [-60.555582, -33.07619], [-60.558018, -33.073551], [-60.560687, -33.070806], [-60.563668, -33.067799], [-60.564596, -33.066658], [-60.564928, -33.065544], [-60.566854, -33.062921], [-60.567841, -33.061706], [-60.569139, -33.059676], [-60.570018, -33.057799], [-60.57117, -33.055831], [-60.570844, -33.053614], [-60.571748, -33.050954], [-60.57323, -33.048235], [-60.57513, -33.046322], [-60.577219, -33.043322], [-60.579312, -33.040692], [-60.581709, -33.036785], [-60.582939, -33.03374], [-60.584141, -33.032311], [-60.586112, -33.031114], [-60.586602, -33.030863], [-60.590858, -33.026213], [-60.594262, -33.022281], [-60.595907, -33.019565], [-60.597995, -33.016564], [-60.598902, -33.01474], [-60.600929, -33.012713], [-60.602708, -33.010629], [-60.604381, -33.009106], [-60.605307, -33.008141], [-60.60617, -33.006017], [-60.607959, -33.002958], [-60.609597, -33.00072], [-60.610589, -32.998272], [-60.612026, -32.99619], [-60.612807, -32.994575], [-60.614277, -32.99283], [-60.615413, -32.991419], [-60.615715, -32.988815], [-60.615927, -32.985471], [-60.616899, -32.983221], [-60.61676, -32.97877], [-60.617496, -32.972161], [-60.618018, -32.966202], [-60.619885, -32.95974], [-60.62166, -32.95574], [-60.623871, -32.951763], [-60.625332, -32.949079], [-60.628017, -32.946112], [-60.630573, -32.943267], [-60.633717, -32.940298], [-60.637621, -32.93744], [-60.641968, -32.934301], [-60.646439, -32.931626], [-60.650255, -32.929612], [-60.654816, -32.927706], [-60.657642, -32.926311], [-60.661362, -32.923507], [-60.665255, -32.921005], [-60.667623, -32.918718], [-60.670445, -32.914257], [-60.673202, -32.91131], [-60.674265, -32.908872], [-60.675687, -32.90628], [-60.676484, -32.904451], [-60.678185, -32.902232], [-60.681001, -32.898058], [-60.683695, -32.893087], [-60.685557, -32.889201], [-60.686336, -32.885092], [-60.686219, -32.881673], [-60.686266, -32.878022], [-60.687341, -32.875282], [-60.687551, -32.871925], [-60.688452, -32.867524], [-60.6887, -32.86471], [-60.690016, -32.862975], [-60.692444, -32.859749], [-60.693596, -32.857386], [-60.693769, -32.853906], [-60.69486, -32.850781], [-60.695708, -32.846499], [-60.696012, -32.843047], [-60.696112, -32.840851], [-60.696563, -32.839273], [-60.697637, -32.836771], [-60.697834, -32.832259], [-60.69958, -32.828096], [-60.700011, -32.824695], [-60.701603, -32.822075], [-60.701286, -32.819402], [-60.701838, -32.816025], [-60.703365, -32.813009], [-60.704222, -32.811648], [-60.704798, -32.809542], [-60.705248, -32.80702], [-60.707225, -32.804824], [-60.708495, -32.800503], [-60.709133, -32.797615], [-60.709568, -32.794272], [-60.711146, -32.791346], [-60.713454, -32.788233], [-60.715404, -32.784317], [-60.716063, -32.782803], [-60.717481, -32.780174], [-60.718998, -32.775862], [-60.720746, -32.771424], [-60.72281, -32.766453], [-60.723551, -32.763495], [-60.723873, -32.760545], [-60.725418, -32.757289], [-60.726486, -32.754329], [-60.726789, -32.75235], [-60.726366, -32.745624], [-60.725891, -32.742434], [-60.726452, -32.737755], [-60.726719, -32.733689], [-60.727512, -32.731021], [-60.727589, -32.727294], [-60.726576, -32.723604], [-60.725201, -32.719528], [-60.725179, -32.717856], [-60.72525, -32.712967], [-60.725219, -32.709137], [-60.724744, -32.705121], [-60.723801, -32.698101], [-60.723115, -32.695385], [-60.72366, -32.69389], [-60.72408, -32.690605], [-60.724833, -32.688451], [-60.725112, -32.682009], [-60.725426, -32.678768], [-60.726184, -32.675927], [-60.727152, -32.670817], [-60.728995, -32.666404], [-60.729219, -32.664304], [-60.731684, -32.660233], [-60.733587, -32.657926], [-60.736779, -32.654714], [-60.739914, -32.650702], [-60.740092, -32.650598], [-60.741169, -32.650315], [-60.743107, -32.649264], [-60.744986, -32.646661], [-60.747458, -32.639951], [-60.748775, -32.634622], [-60.748862, -32.634497], [-60.749822, -32.633671], [-60.752721, -32.628956], [-60.755516, -32.621024], [-60.756048, -32.617439], [-60.758571, -32.611827], [-60.760533, -32.606821], [-60.762357, -32.603227], [-60.768502, -32.598766], [-60.773109, -32.593155], [-60.77732, -32.586885], [-60.783682, -32.58036], [-60.786111, -32.577433], [-60.78818, -32.574492], [-60.789728, -32.570552], [-60.791401, -32.566195], [-60.792884, -32.562987], [-60.798233, -32.553754], [-60.799578, -32.549516], [-60.800294, -32.547918], [-60.800889, -32.543064], [-60.802653, -32.536871], [-60.803755, -32.528079], [-60.803118, -32.5229], [-60.803655, -32.517703], [-60.801836, -32.510523], [-60.80091, -32.50555], [-60.798218, -32.498604], [-60.79648, -32.492222], [-60.797475, -32.490859], [-60.798778, -32.485114], [-60.804264, -32.471475], [-60.804429, -32.462565], [-60.804233, -32.455556], [-60.805515, -32.449781], [-60.802128, -32.443697], [-60.805331, -32.440138], [-60.806879, -32.436953], [-60.810201, -32.433756], [-60.818379, -32.422672], [-60.832822, -32.428928], [-60.862895, -32.435608], [-60.875575, -32.435318], [-60.90465, -32.423352], [-60.910897, -32.423576], [-60.906819, -32.416404], [-60.89942, -32.4087], [-60.898282, -32.404674], [-60.88869, -32.395899], [-60.884623, -32.39298], [-60.880359, -32.389711], [-60.876879, -32.385743], [-60.875745, -32.383268], [-60.87384, -32.375524], [-60.871957, -32.369952], [-60.871359, -32.364837], [-60.868786, -32.358799], [-60.868206, -32.349746], [-60.870445, -32.343392], [-60.871103, -32.334889], [-60.871604, -32.332517], [-60.873244, -32.332296], [-60.875464, -32.332629], [-60.877316, -32.333963], [-60.878711, -32.336124], [-60.884032, -32.345856], [-60.889682, -32.353436], [-60.895225, -32.360403], [-60.900126, -32.365186], [-60.902612, -32.367007], [-60.905942, -32.368385], [-60.914106, -32.368764], [-60.924726, -32.369894], [-60.938734, -32.369552], [-60.947658, -32.367933], [-60.958511, -32.368925], [-60.96381, -32.364108], [-60.971292, -32.352705], [-60.976533, -32.344736], [-60.982463, -32.33926], [-60.987764, -32.332912], [-60.990849, -32.330786], [-60.998458, -32.327923], [-61.00356, -32.322453], [-61.006608, -32.3191], [-61.007223, -32.313295], [-61.006751, -32.305985], [-61.003983, -32.2983], [-61.008587, -32.289402], [-61.01571, -32.277361], [-61.016685, -32.272274], [-61.012699, -32.26635], [-61.011869, -32.261958], [-61.011234, -32.257564], [-61.01184, -32.249178], [-61.009289, -32.242392], [-61.008244, -32.233191], [-61.007948, -32.227688], [-61.007889, -32.222384], [-61.012032, -32.218697], [-61.020371, -32.214476], [-61.025922, -32.208725], [-61.027442, -32.205405], [-61.030095, -32.198933], [-61.02985, -32.194469], [-61.028602, -32.187368], [-61.026775, -32.180436], [-61.024922, -32.171354], [-61.022285, -32.161783], [-61.01932, -32.157672], [-61.018868, -32.152052], [-61.019211, -32.147915], [-61.016181, -32.13785], [-61.016211, -32.135327], [-61.000831, -32.104191], [-60.983901, -32.07665], [-60.953316, -32.042775], [-60.929709, -32.025956], [-60.930917, -31.994673], [-60.922205, -31.954191], [-60.917478, -31.934274], [-60.907522, -31.919542], [-60.895905, -31.888732], [-60.875223, -31.855409], [-60.873527, -31.835469], [-60.868177, -31.827783], [-60.855637, -31.817465], [-60.850786, -31.795825], [-60.84472, -31.779972], [-60.836976, -31.765214], [-60.816023, -31.738259], [-60.810851, -31.726733], [-60.785119, -31.675905], [-60.744086, -31.66974], [-60.724354, -31.670922], [-60.705673, -31.664631], [-60.701647, -31.670107], [-60.694035, -31.677872], [-60.68229, -31.688704], [-60.675137, -31.697934], [-60.669051, -31.710089], [-60.665474, -31.721167], [-60.656251, -31.735853], [-60.641153, -31.734378], [-60.62404, -31.732976], [-60.618592, -31.731221], [-60.609227, -31.723634], [-60.602947, -31.720663], [-60.59567, -31.718456], [-60.586475, -31.716244], [-60.582481, -31.716921], [-60.577358, -31.720449], [-60.571739, -31.724911], [-60.56794, -31.727381], [-60.564522, -31.72962], [-60.559792, -31.732679], [-60.556171, -31.736879], [-60.556718, -31.739789], [-60.565265, -31.764861], [-60.56684, -31.793551], [-60.566942, -31.81029], [-60.595045, -31.825706], [-60.607551, -31.829444], [-60.616171, -31.832758], [-60.623205, -31.848289], [-60.642849, -31.852974], [-60.647208, -31.863414], [-60.646458, -31.878788], [-60.643976, -31.891976], [-60.647513, -31.906963], [-60.651896, -31.920116], [-60.671318, -31.935751], [-60.68417, -31.947215], [-60.680933, -31.958849], [-60.675695, -31.969503], [-60.675734, -31.974815], [-60.653311, -31.992433], [-60.637086, -32.012415], [-60.62645, -32.027472], [-60.62353, -32.040296], [-60.63002, -32.046851], [-60.640807, -32.053384], [-60.650356, -32.066876], [-60.651765, -32.083703], [-60.640858, -32.107581], [-60.636554, -32.116899], [-60.619153, -32.128141], [-60.596248, -32.133829], [-60.582158, -32.151557], [-60.574643, -32.172973], [-60.570382, -32.190655], [-60.576006, -32.215729], [-60.56845, -32.231566], [-60.553251, -32.250226], [-60.531428, -32.259616], [-60.523807, -32.266155], [-60.51951, -32.280117], [-60.518479, -32.291276], [-60.517464, -32.305225], [-60.50547, -32.31364], [-60.490215, -32.326714], [-60.482611, -32.337899], [-60.479444, -32.360221], [-60.474021, -32.370467], [-60.442337, -32.387315], [-60.43143, -32.397579], [-60.42163, -32.410626], [-60.407388, -32.411603], [-60.399791, -32.42836], [-60.38124, -32.447939], [-60.370323, -32.459126], [-60.361589, -32.468448], [-60.347355, -32.474065], [-60.334226, -32.482467], [-60.334261, -32.491763], [-60.324433, -32.503873], [-60.311355, -32.529005], [-60.292702, -32.52905], [-60.285018, -32.528138], [-60.259823, -32.543066], [-60.254352, -32.548654], [-60.26424, -32.552352], [-60.258763, -32.556082], [-60.243431, -32.569127], [-60.224806, -32.584035], [-60.19958, -32.596162], [-60.17874, -32.608278], [-60.16889, -32.626883], [-60.150247, -32.645498], [-60.123892, -32.655752], [-60.114013, -32.664127], [-60.092039, -32.668793], [-60.075561, -32.67717], [-60.048088, -32.687409], [-60.031606, -32.704146], [-60.014017, -32.719952], [-59.992024, -32.727389], [-59.979926, -32.731106], [-59.973324, -32.743189], [-59.974421, -32.754344], [-59.964513, -32.772003], [-59.949103, -32.784082], [-59.943589, -32.80267], [-59.923767, -32.813814], [-59.902837, -32.827743], [-59.884111, -32.835164], [-59.862064, -32.845769], [-59.826906, -32.882897], [-59.766101, -32.956176], [-59.739739, -32.951677], [-59.731915, -32.922754], [-59.652803, -32.927006], [-59.554849, -33.006744], [-59.493836, -33.0621], [-59.462258, -33.04418], [-59.430392, -33.072944], [-59.448656, -33.108602], [-59.421945, -33.152951], [-59.363554, -33.186018], [-59.342067, -33.230375], [-59.271284, -33.15216], [-59.126003, -33.142332], [-59.012165, -33.139772], [-58.944185, -33.185811], [-58.902913, -33.2295], [-58.854692, -33.275755], [-58.782958, -33.295083], [-58.755604, -33.357063], [-58.670198, -33.398419], [-58.627413, -33.422408], [-58.586611, -33.396999], [-58.541129, -33.350282], [-58.501833, -33.37336], [-58.502899, -33.396741], [-58.51558, -33.427641], [-58.542664, -33.475927], [-58.527232, -33.545753], [-58.539231, -33.62148], [-58.532182, -33.723657], [-58.4939, -33.83474], [-58.485771, -33.847359], [-58.478531, -33.84774], [-58.469929, -33.851238], [-58.46706, -33.857422], [-58.4674, -33.863331], [-58.47168, -33.874229], [-58.47364, -33.88448], [-58.477779, -33.88921], [-58.4786, -33.896431], [-58.47739, -33.903141], [-58.46698, -33.90863], [-58.460758, -33.91214], [-58.461441, -33.917511], [-58.463551, -33.922321], [-58.464111, -33.925991], [-58.46384, -33.930801], [-58.464401, -33.934471], [-58.466991, -33.938141], [-58.463718, -33.940788], [-58.45916, -33.940971], [-58.455299, -33.944641], [-58.45026, -33.948219], [-58.452579, -33.950489], [-58.455109, -33.95425], [-58.455318, -33.957932], [-58.454041, -33.96273], [-58.450241, -33.965839], [-58.446381, -33.969509], [-58.445648, -33.972618], [-58.445419, -33.977139], [-58.446281, -33.981098], [-58.44487, -33.98597], [-58.446651, -33.99247], [-58.446819, -33.995049], [-58.447491, -33.999489], [-58.446281, -34.005161], [-58.447208, -34.007641], [-58.44767, -34.01083], [-58.446838, -34.01445], [-58.433868, -34.018532], [-58.41304, -34.018768], [-58.405209, -34.01981], [-58.400318, -34.023109], [-58.396049, -34.025478], [-58.389839, -34.029591], [-58.391071, -34.032669], [-58.390869, -34.033329], [-58.39061, -34.034592], [-58.390209, -34.03746], [-58.390228, -34.040668], [-58.390511, -34.041931], [-58.391079, -34.043201], [-58.391499, -34.045261], [-58.39193, -34.0471], [-58.392639, -34.049511], [-58.392921, -34.050652], [-58.392941, -34.0541], [-58.392529, -34.05513], [-58.39185, -34.05719], [-58.391861, -34.057991], [-58.392578, -34.06213], [-58.39341, -34.063042], [-58.395489, -34.063629], [-58.396461, -34.063969], [-58.398949, -34.065121], [-58.399651, -34.066608], [-58.399658, -34.067421], [-58.39967, -34.06879], [-58.399261, -34.070171], [-58.398861, -34.073151], [-58.398869, -34.074299], [-58.39875, -34.076248], [-58.398769, -34.07935], [-58.39864, -34.080151], [-58.397812, -34.081299], [-58.397549, -34.08313], [-58.39632, -34.085651], [-58.396191, -34.087372], [-58.395088, -34.088402], [-58.39455, -34.089321], [-58.394001, -34.09024], [-58.39484, -34.091961], [-58.395119, -34.09333], [-58.39555, -34.095169], [-58.394741, -34.098728], [-58.39447, -34.10022], [-58.394341, -34.101589], [-58.394211, -34.102619], [-58.394081, -34.103432], [-58.393669, -34.105148], [-58.393269, -34.10709], [-58.393139, -34.108471], [-58.393009, -34.109852], [-58.392609, -34.112598], [-58.39249, -34.11478], [-58.392639, -34.11639], [-58.392651, -34.11776], [-58.392651, -34.119141], [-58.392941, -34.120861], [-58.39323, -34.12339], [-58.39352, -34.124989], [-58.393799, -34.126259], [-58.394508, -34.12809], [-58.395489, -34.13039], [-58.3955, -34.132111], [-58.394821, -34.133831], [-58.394001, -34.136581], [-58.39402, -34.138988], [-58.394032, -34.140942], [-58.394459, -34.14312], [-58.39489, -34.145069], [-58.395039, -34.147591], [-58.395741, -34.149551], [-58.39603, -34.15081], [-58.397572, -34.154251], [-58.39785, -34.155399], [-58.39883, -34.156891], [-58.400082, -34.1577], [-58.400921, -34.158852], [-58.401619, -34.160801], [-58.401348, -34.161949], [-58.400261, -34.16367], [-58.398331, -34.165958], [-58.397381, -34.167789], [-58.39669, -34.169281], [-58.396278, -34.170311], [-58.395191, -34.172371], [-58.394508, -34.17432], [-58.39341, -34.17627], [-58.392731, -34.177071], [-58.391491, -34.17902], [-58.390949, -34.180161], [-58.390121, -34.181309], [-58.389709, -34.182461], [-58.389309, -34.183262], [-58.389309, -34.184521], [-58.38932, -34.186359], [-58.389332, -34.18774], [-58.389339, -34.190029], [-58.389629, -34.192211], [-58.39019, -34.193939], [-58.39048, -34.194969], [-58.39146, -34.196461], [-58.39299, -34.198639], [-58.39328, -34.200939], [-58.39426, -34.203121], [-58.39497, -34.20438], [-58.395939, -34.206219], [-58.396919, -34.20771], [-58.397621, -34.2099], [-58.397911, -34.210812], [-58.398472, -34.21299], [-58.39917, -34.214031], [-58.400291, -34.215858], [-58.40168, -34.21735], [-58.403221, -34.2192], [-58.404469, -34.220459], [-58.40601, -34.22184], [-58.40712, -34.223911], [-58.4081, -34.225288], [-58.408798, -34.22644], [-58.410061, -34.228161], [-58.41061, -34.228958], [-58.412151, -34.230919], [-58.41341, -34.232868], [-58.414391, -34.234711], [-58.415089, -34.235859], [-58.415649, -34.237], [-58.41663, -34.239189], [-58.417191, -34.240452], [-58.41748, -34.24194], [-58.418179, -34.242859], [-58.4193, -34.245392], [-58.420841, -34.247452], [-58.420849, -34.24894], [-58.421131, -34.250549], [-58.42128, -34.251808], [-58.421291, -34.252731], [-58.421711, -34.254681], [-58.422001, -34.256748], [-58.42271, -34.258469], [-58.424099, -34.260311], [-58.425499, -34.26157], [-58.427448, -34.26376], [-58.428581, -34.267658], [-58.43108, -34.268589], [-58.432468, -34.269039], [-58.434971, -34.269741], [-58.436069, -34.269852], [-58.43885, -34.270439], [-58.44051, -34.270779], [-58.442181, -34.27124], [-58.44495, -34.271938], [-58.446201, -34.271938], [-58.447449, -34.271721], [-58.44883, -34.271599], [-58.450069, -34.270802], [-58.452148, -34.270229], [-58.45451, -34.270691], [-58.45562, -34.27058], [-58.458389, -34.270359], [-58.4599, -34.269562], [-58.4617, -34.268761], [-58.462952, -34.26968], [-58.463509, -34.27037], [-58.464211, -34.271179], [-58.464909, -34.271751], [-58.466862, -34.273251], [-58.468109, -34.274391], [-58.469501, -34.275429], [-58.470482, -34.276001], [-58.47131, -34.276699], [-58.472839, -34.277729], [-58.47438, -34.278542], [-58.475349, -34.27877], [-58.476601, -34.27935], [-58.478821, -34.280151], [-58.481178, -34.280739], [-58.482288, -34.280739], [-58.48381, -34.280739], [-58.485199, -34.280739], [-58.48658, -34.280739], [-58.48769, -34.280628], [-58.489208, -34.280399], [-58.491291, -34.280071], [-58.493641, -34.27961], [-58.496132, -34.27858], [-58.497791, -34.277901], [-58.499729, -34.2771], [-58.502209, -34.275501], [-58.50359, -34.2747], [-58.50552, -34.27367], [-58.506618, -34.272869], [-58.507729, -34.27219], [-58.509239, -34.27116], [-58.51062, -34.270359], [-58.512138, -34.269779], [-58.51366, -34.269329], [-58.515331, -34.269329], [-58.516441, -34.269329], [-58.518379, -34.269791], [-58.519459, -34.270741], [-58.520012, -34.27177], [-58.520351, -34.27261], [-58.520451, -34.27364], [-58.52042, -34.274761], [-58.519741, -34.276539], [-58.519409, -34.277382], [-58.519058, -34.27832], [-58.518391, -34.279999], [-58.517719, -34.280849], [-58.516121, -34.281872], [-58.51384, -34.284771], [-58.512932, -34.286549], [-58.512032, -34.289169], [-58.512131, -34.29282], [-58.51498, -34.294411], [-58.51693, -34.296841], [-58.51738, -34.300919], [-58.516579, -34.30489], [-58.516701, -34.306271], [-58.515881, -34.307652], [-58.51519, -34.30891], [-58.51479, -34.31028], [-58.51466, -34.31131], [-58.51453, -34.31292], [-58.51453, -34.313839], [-58.514542, -34.314991], [-58.51511, -34.316479], [-58.516918, -34.318089], [-58.516739, -34.331741], [-58.515079, -34.332878], [-58.514259, -34.333679], [-58.51371, -34.334599], [-58.512741, -34.33551], [-58.511501, -34.336319], [-58.510399, -34.336891], [-58.50943, -34.338032], [-58.508469, -34.339409], [-58.507919, -34.340672], [-58.507511, -34.342041], [-58.507381, -34.34285], [-58.506149, -34.345249], [-58.505199, -34.347431], [-58.504509, -34.348351], [-58.50272, -34.35006], [-58.502029, -34.350979], [-58.50079, -34.35281], [-58.500519, -34.353611], [-58.499561, -34.355221], [-58.498741, -34.356819], [-58.49889, -34.357971], [-58.500408, -34.3582], [-58.501518, -34.357639], [-58.503448, -34.35638], [-58.504829, -34.355], [-58.50621, -34.354092], [-58.50745, -34.353401], [-58.508419, -34.353062], [-58.510231, -34.353291], [-58.5112, -34.353642], [-58.512039, -34.35421], [-58.513149, -34.354679], [-58.514549, -34.355942], [-58.515518, -34.356739], [-58.516079, -34.357658], [-58.516781, -34.358471], [-58.517761, -34.359501], [-58.518211, -34.360229], [-58.518879, -34.361351], [-58.519459, -34.362011], [-58.519951, -34.363461], [-58.520191, -34.364792], [-58.519482, -34.366131], [-58.518391, -34.367241], [-58.517208, -34.369129], [-58.51619, -34.3708], [-58.516201, -34.37228], [-58.517891, -34.383179], [-58.517658, -34.38504], [-58.516739, -34.386871], [-58.516659, -34.38908], [-58.51598, -34.390678], [-58.515572, -34.391949], [-58.515541, -34.39299], [-58.51593, -34.393681], [-58.516998, -34.39518], [-58.518341, -34.39679], [-58.519829, -34.397949], [-58.521061, -34.398411], [-58.521881, -34.398869], [-58.523109, -34.399342], [-58.524071, -34.399799], [-58.52544, -34.40049], [-58.526508, -34.401531], [-58.52829, -34.40258], [-58.529652, -34.403271], [-58.530602, -34.404079], [-58.532219, -34.40546], [-58.533161, -34.406502], [-58.534241, -34.407421], [-58.535061, -34.408001], [-58.536671, -34.409611], [-58.537331, -34.41077], [-58.537701, -34.412491], [-58.537231, -34.414219], [-58.536518, -34.414909], [-58.536499, -34.41571], [-58.53632, -34.416969], [-58.535149, -34.419151], [-58.53429, -34.4203], [-58.533569, -34.421219], [-58.532848, -34.421902], [-58.530998, -34.423618], [-58.53001, -34.424419], [-58.528728, -34.425678], [-58.528412, -34.426941], [-58.528389, -34.42786], [-58.528751, -34.429588], [-58.529099, -34.43177], [-58.529499, -34.432461], [-58.5303, -34.433731], [-58.531219, -34.43512], [-58.53204, -34.43581], [-58.5327, -34.436852], [-58.533661, -34.437309], [-58.534599, -34.438351], [-58.535549, -34.438808], [-58.5368, -34.438931], [-58.53817, -34.43951], [-58.539131, -34.439861], [-58.540089, -34.44009], [-58.542019, -34.440441], [-58.544102, -34.440559], [-58.545059, -34.440681], [-58.54615, -34.44138], [-58.547089, -34.44265], [-58.546921, -34.443451], [-58.5466, -34.444939], [-58.546299, -34.446091], [-58.545712, -34.447121], [-58.545109, -34.44873], [-58.54369, -34.449989], [-58.54261, -34.451069], [-58.541569, -34.451359], [-58.54002, -34.452049], [-58.538898, -34.45261], [-58.53791, -34.453072], [-58.53706, -34.45364], [-58.536091, -34.453869], [-58.534962, -34.45467], [-58.533691, -34.455471], [-58.531689, -34.45718], [-58.530399, -34.459019], [-58.528381, -34.46154], [-58.540619, -34.457081], [-58.55027, -34.452301], [-58.563221, -34.444569], [-58.574928, -34.437561], [-58.58783, -34.432079], [-58.598629, -34.42318], [-58.609501, -34.41618], [-58.622719, -34.40937], [-58.63485, -34.40419], [-58.644211, -34.40102], [-58.650822, -34.396061], [-58.658379, -34.390732], [-58.665119, -34.385422], [-58.67226, -34.379532], [-58.682861, -34.373001], [-58.693851, -34.368309], [-58.699341, -34.35886], [-58.707241, -34.35268], [-58.713531, -34.3461], [-58.718109, -34.33617], [-58.725929, -34.32935], [-58.734989, -34.32238], [-58.745159, -34.31609], [-58.75285, -34.311562], [-58.76067, -34.305771], [-58.770569, -34.300869], [-58.778011, -34.300152], [-58.784458, -34.296459], [-58.792561, -34.29147], [-58.80204, -34.286678], [-58.811829, -34.28788], [-58.821362, -34.290009], [-58.829651, -34.293659], [-58.83754, -34.297649], [-58.845139, -34.299931], [-58.854229, -34.29884], [-58.86095, -34.294449], [-58.867401, -34.29018], [-58.875759, -34.284962], [-58.884941, -34.27718], [-58.8955, -34.270538], [-58.898899, -34.265289], [-58.903099, -34.256569], [-58.906052, -34.2458], [-58.908741, -34.23896], [-58.909389, -34.233299], [-58.911079, -34.222321], [-58.913639, -34.214211], [-58.917332, -34.21104], [-58.919739, -34.203739], [-58.923382, -34.19759], [-58.928761, -34.193081], [-58.93716, -34.18858], [-58.94326, -34.183071], [-58.944599, -34.177059], [-58.949669, -34.170052], [-58.952839, -34.162682], [-58.958309, -34.159359], [-58.965569, -34.155769], [-58.974491, -34.15453], [-58.987148, -34.15271], [-58.99773, -34.15078], [-59.002392, -34.1492], [-59.005341, -34.141651], [-59.00663, -34.132301], [-59.010658, -34.122551], [-59.015419, -34.116581], [-59.022381, -34.110931], [-59.029179, -34.103771], [-59.039421, -34.10146], [-59.04937, -34.093948], [-59.058769, -34.080929], [-59.063049, -34.07542], [-59.068951, -34.06641], [-59.07629, -34.059109], [-59.08902, -34.05381], [-59.101669, -34.053799], [-59.11375, -34.052769], [-59.125359, -34.053391], [-59.13773, -34.046211], [-59.145931, -34.041679], [-59.156021, -34.038879], [-59.167099, -34.031872], [-59.17828, -34.018848], [-59.18718, -34.009838], [-59.189381, -33.998932], [-59.19429, -33.990311], [-59.2006, -33.9828], [-59.207569, -33.973999], [-59.216301, -33.968208], [-59.22274, -33.96669], [-59.233002, -33.962009], [-59.242699, -33.956421], [-59.251011, -33.950531], [-59.25742, -33.946499], [-59.265541, -33.946659], [-59.273651, -33.946152], [-59.277191, -33.943439], [-59.284, -33.938709], [-59.290798, -33.933071], [-59.29446, -33.92992], [-59.29829, -33.927269], [-59.30864, -33.920799], [-59.311211, -33.917648], [-59.314331, -33.915298], [-59.320782, -33.913559], [-59.32513, -33.910141], [-59.328789, -33.907089], [-59.333309, -33.905392], [-59.33778, -33.9006], [-59.33976, -33.895409], [-59.34288, -33.892719], [-59.347382, -33.890221], [-59.35297, -33.88723], [-59.35416, -33.88343], [-59.3578, -33.87912], [-59.366089, -33.873001], [-59.370522, -33.865471], [-59.374561, -33.860119], [-59.386559, -33.854359], [-59.39146, -33.850941], [-59.39566, -33.84742], [-59.402988, -33.841541], [-59.413029, -33.83366], [-59.420719, -33.83326], [-59.427681, -33.830601], [-59.432171, -33.827751], [-59.437969, -33.829681], [-59.44622, -33.829731], [-59.4524, -33.829491], [-59.46244, -33.830181], [-59.476372, -33.825191], [-59.489578, -33.818272], [-59.49799, -33.812248], [-59.504421, -33.810398], [-59.51062, -33.80386], [-59.519138, -33.796009], [-59.530819, -33.788551], [-59.537479, -33.784279], [-59.542919, -33.781071], [-59.549751, -33.779209], [-59.56015, -33.777161], [-59.569481, -33.777069], [-59.575981, -33.779671], [-59.582241, -33.78434], [-59.586571, -33.78825], [-59.590481, -33.792049], [-59.596321, -33.795811], [-59.60405, -33.797932], [-59.609081, -33.79496], [-59.613972, -33.79211], [-59.618992, -33.788799], [-59.622601, -33.783352], [-59.622589, -33.775459], [-59.62228, -33.76619], [-59.623711, -33.754379], [-59.62534, -33.746231], [-59.626709, -33.7383], [-59.62822, -33.73106], [-59.629299, -33.722809], [-59.63327, -33.714939], [-59.63879, -33.709209], [-59.64222, -33.70216], [-59.650742, -33.69569], [-59.659401, -33.689541], [-59.66954, -33.682011], [-59.677639, -33.67519], [-59.685181, -33.668171], [-59.69305, -33.66399], [-59.7048, -33.661331], [-59.71611, -33.65823], [-59.731628, -33.652401], [-59.74427, -33.650928], [-59.760262, -33.64555], [-59.77005, -33.640499], [-59.777229, -33.63464], [-59.78371, -33.62495], [-59.790199, -33.620239], [-59.80444, -33.613411], [-59.81712, -33.610271], [-59.821659, -33.60479], [-59.826931, -33.60136], [-59.836529, -33.594971], [-59.84721, -33.588219], [-59.85392, -33.582008], [-59.858181, -33.576542], [-59.862049, -33.565128], [-59.868172, -33.563171], [-59.876339, -33.554642], [-59.884991, -33.549648], [-59.893608, -33.543159], [-59.90358, -33.535969], [-59.913311, -33.529919], [-59.92168, -33.524712], [-59.934021, -33.51997], [-59.94651, -33.51524], [-59.95673, -33.513081], [-59.968021, -33.50985], [-59.978199, -33.50631], [-59.98386, -33.5023], [-59.99279, -33.49799], [-59.999969, -33.49474], [-60.004951, -33.491199], [-60.010422, -33.485249], [-60.021412, -33.47562], [-60.034149, -33.470661], [-60.04467, -33.464359], [-60.05085, -33.459541], [-60.05772, -33.455269], [-60.06279, -33.44978], [-60.07095, -33.442509], [-60.080582, -33.43898], [-60.090752, -33.435558], [-60.09819, -33.432079], [-60.105549, -33.42551], [-60.11129, -33.42012], [-60.115372, -33.413631], [-60.121349, -33.406971], [-60.12635, -33.39909], [-60.135269, -33.389851], [-60.143559, -33.38258], [-60.15094, -33.377159], [-60.15823, -33.373562], [-60.1675, -33.367298], [-60.177731, -33.361469], [-60.184158, -33.3564], [-60.19286, -33.35461], [-60.202091, -33.352348], [-60.208679, -33.348431], [-60.21563, -33.342331], [-60.220329, -33.334339], [-60.226269, -33.326649], [-60.231789, -33.323441], [-60.237591, -33.31554], [-60.245838, -33.307579], [-60.249981, -33.299019], [-60.257629, -33.28912], [-60.264259, -33.282001], [-60.26463, -33.281275], [-60.264657, -33.280618], [-60.26519, -33.280203], [-60.265899, -33.280044], [-60.266405, -33.280043], [-60.267056, -33.280066], [-60.267547, -33.279894], [-60.267849, -33.279431], [-60.268137, -33.27843], [-60.268425, -33.277943], [-60.268496, -33.277444], [-60.26848, -33.276982], [-60.268204, -33.276557], [-60.267813, -33.276253], [-60.267321, -33.276145], [-60.266728, -33.276305], [-60.266194, -33.276683], [-60.265833, -33.276793], [-60.265573, -33.276806], [-60.265211, -33.27666], [-60.264992, -33.276396], [-60.264919, -33.276104], [-60.265019, -33.275751], [-60.265452, -33.275409], [-60.265957, -33.275129], [-60.266188, -33.274812], [-60.266129, -33.274483], [-60.265752, -33.274107], [-60.265635, -33.273706], [-60.265835, -33.273481], [-60.26621, -33.27303], [-60.266296, -33.272665], [-60.266165, -33.272325], [-60.265773, -33.271827], [-60.26541, -33.271438], [-60.265351, -33.270976], [-60.265448, -33.270497], [-60.265779, -33.269961], [-60.266241, -33.269607], [-60.26702, -33.269167], [-60.268043, -33.268836], [-60.268433, -33.268702], [-60.268881, -33.268774], [-60.269186, -33.26898], [-60.269418, -33.26932], [-60.269434, -33.269734], [-60.269782, -33.270049], [-60.270071, -33.270146], [-60.270433, -33.270072], [-60.270721, -33.269816], [-60.271023, -33.269256], [-60.271138, -33.268664], [-60.271092, -33.26808], [-60.27083, -33.267411], [-60.270583, -33.267011], [-60.27012, -33.266793], [-60.269541, -33.266624], [-60.26905, -33.266374], [-60.268904, -33.265912], [-60.269293, -33.265425], [-60.269654, -33.265266], [-60.269943, -33.265229], [-60.270364, -33.265544], [-60.270697, -33.265823], [-60.271161, -33.266102], [-60.271841, -33.26621], [-60.272346, -33.266075], [-60.272894, -33.265672], [-60.273197, -33.265295], [-60.273354, -33.264735], [-60.273425, -33.26426], [-60.27325, -33.263883], [-60.273004, -33.263592], [-60.272613, -33.26341], [-60.272063, -33.263266], [-60.271572, -33.263388], [-60.270734, -33.263804], [-60.269782, -33.26439], [-60.269251, -33.264606], [-60.268442, -33.26496], [-60.267331, -33.265729], [-60.266743, -33.266639], [-60.265533, -33.26815], [-60.265003, -33.268682], [-60.264008, -33.269414], [-60.2633, -33.269707], [-60.26291, -33.269733], [-60.262332, -33.269941], [-60.260762, -33.270889], [-60.258884, -33.271696], [-60.257946, -33.272306], [-60.256657, -33.273335], [-60.255257, -33.274141], [-60.253741, -33.274996], [-60.253149, -33.275447], [-60.252904, -33.275593], [-60.252629, -33.275594], [-60.252382, -33.275412], [-60.252309, -33.275157], [-60.253674, -33.272948], [-60.255127, -33.27082], [-60.256034, -33.269555], [-60.256769, -33.268629]]\n"
          ]
        }
      ]
    },
    {
      "cell_type": "code",
      "source": [
        "coordinates = list_of_lists\n",
        "\n",
        "# Create an ee.Geometry.Polygon object\n",
        "polygon = ee.Geometry.Polygon(coordinates)\n",
        "\n",
        "# Print the polygon\n",
        "print(polygon)\n"
      ],
      "metadata": {
        "id": "AUAt0WO06nMI"
      },
      "id": "AUAt0WO06nMI",
      "execution_count": null,
      "outputs": []
    },
    {
      "cell_type": "code",
      "source": [
        "import geemap\n",
        "import geopandas as gpd\n",
        "\n",
        "# Load the shapefile\n",
        "shapefile_path = '/content/DeltaParana.shp'\n",
        "gdf = gpd.read_file(shapefile_path)\n",
        "\n",
        "# Create a Map instance\n",
        "Map = geemap.Map()\n",
        "\n",
        "\n",
        "# Add the polygon layer with visualization parameters\n",
        "#Map.addLayer(polygon, vis_params, 'Polygon')\n",
        "\n",
        "# Display the map\n",
        "Map"
      ],
      "metadata": {
        "colab": {
          "base_uri": "https://localhost:8080/",
          "height": 621,
          "referenced_widgets": [
            "a83e49dff172463c93806b213c8d531c",
            "5d5f6b3fab7e467594d524c174f2a1c1",
            "1658b62d723d4ab8b6c4b5ab50fb0b06",
            "40c4a60b80954655b8465f41408869d7",
            "29d445f8ca6643cb944c22bc41e5c49f",
            "d17fdbc4b6154c9087d5075a66aa3d0d",
            "44da4b41ae574c5cbf39625b4d7b06b0",
            "6aa5699c11ee44728f93f07185737719",
            "944bc14504ae4a52bbc11b6b5c2a60c3",
            "e852dc926b364d31824046de9f185a5c",
            "abdb2f5457024c4089bbe4b9f3453918",
            "fda4ba33cd964231a1ffe1766bf1fb40",
            "dea75528fe65403dab05f893c00bc9cc",
            "0f05a2a5e01948ad8135c2c323cba910",
            "f7e851f443aa409c8621ae5bd0b2f864",
            "78bc2262af1d4d66a680c1f6321754e4",
            "ae2e64f280e04ca2ade5f05c38d50d32",
            "26ebb7ea95964971bf2446d3d4a56845",
            "59490f6e666b4ea698bb92292e100571",
            "f07fbb99ef5841f2b7da1b7d60d3f0a5",
            "35b8de4be3e843d39d3cadabbb549628",
            "e0d442b3519a4985a2ce70a285ca4298",
            "522b69bf3057429fa2ef7cf2c8a4fcf0",
            "3f0efa777ae240bb89fa7ed21f633850",
            "866243abeae94a05a513fe395211c0eb",
            "c3be61944141452e8f9a2f58bc87c07b"
          ]
        },
        "id": "EbV8bnlW5XSx",
        "outputId": "823eae24-447e-40ac-f4ec-ec6b07a504bd"
      },
      "id": "EbV8bnlW5XSx",
      "execution_count": 13,
      "outputs": [
        {
          "output_type": "display_data",
          "data": {
            "text/plain": [
              "Map(center=[20, 0], controls=(WidgetControl(options=['position', 'transparent_bg'], widget=HBox(children=(Togg…"
            ],
            "application/vnd.jupyter.widget-view+json": {
              "version_major": 2,
              "version_minor": 0,
              "model_id": "a83e49dff172463c93806b213c8d531c"
            }
          },
          "metadata": {
            "application/vnd.jupyter.widget-view+json": {
              "colab": {
                "custom_widget_manager": {
                  "url": "https://ssl.gstatic.com/colaboratory-static/widgets/colab-cdn-widget-manager/b3e629b1971e1542/manager.min.js"
                }
              }
            }
          }
        }
      ]
    },
    {
      "cell_type": "code",
      "source": [
        "# Define the visualization options\n",
        "vis_params = {\n",
        "    'color': 'FF0000',   # Red color for the outline\n",
        "    'fillColor': '000000',   # Black color for the fill\n",
        "    'fillOpacity': 0.0,  # Fully transparent fill\n",
        "    #'weight': 2   # Thickness of the outline\n",
        "}\n",
        "\n",
        "# Create an ee.FeatureCollection from the polygon\n",
        "fc = ee.FeatureCollection(polygon)\n",
        "\n",
        "# Add the polygon layer with custom style function\n",
        "Map.addLayer(polygon, {}, 'Polygon')\n",
        "\n",
        "# Set the map center to the polygon\n",
        "Map.centerObject(polygon, 7)"
      ],
      "metadata": {
        "id": "WfPPh2CYOjA0"
      },
      "id": "WfPPh2CYOjA0",
      "execution_count": 15,
      "outputs": []
    },
    {
      "cell_type": "code",
      "source": [
        "dictFilesPath ={\n",
        "    \"1.csv\" : \"https://drive.google.com/file/d/1YdDj72tl-rnQpzIaZSyd6see2aoPMewg/view?usp=share_link\",\n",
        "    }\n",
        "\n",
        "dfHSArgDelta = FileDataDf(dictFilesPath, 0, source = 'gdrive')"
      ],
      "metadata": {
        "id": "VYX5EqSqwjsn"
      },
      "id": "VYX5EqSqwjsn",
      "execution_count": null,
      "outputs": []
    },
    {
      "cell_type": "markdown",
      "source": [
        "De aca para abajo adsadsad"
      ],
      "metadata": {
        "id": "CBRjNuBIwkfm"
      },
      "id": "CBRjNuBIwkfm"
    },
    {
      "cell_type": "code",
      "source": [
        "import geemap\n",
        "import geopandas as gpd\n",
        "\n",
        "# Load the shapefile\n",
        "shapefile_path = '/content/DeltaParana.shp'\n",
        "gdf = gpd.read_file(shapefile_path)\n",
        "\n",
        "# Convert the GeoDataFrame to an ee.FeatureCollection\n",
        "fc = geemap.geopandas_to_ee(gdf)\n",
        "\n",
        "# Create a Map instance\n",
        "Map = geemap.Map()\n",
        "\n",
        "# Define the visualization options\n",
        "vis_params = {\n",
        "    'color': '000000',\n",
        "    'fillColor': '00000000',  # Transparent fill color\n",
        "    'width': 2,\n",
        "}\n",
        "\n",
        "# Add the polygon layer with the visualization parameters\n",
        "Map.addLayer(fc, vis_params, 'Delta')\n",
        "\n",
        "# Center the map on the polygon\n",
        "Map.centerObject(fc, 7)\n",
        "\n",
        "# Display the map\n",
        "Map\n"
      ],
      "metadata": {
        "colab": {
          "base_uri": "https://localhost:8080/",
          "height": 449
        },
        "id": "6CH8QpU7f5Ik",
        "outputId": "f3dfbdab-e951-4ec4-e560-64653700aee4"
      },
      "id": "6CH8QpU7f5Ik",
      "execution_count": null,
      "outputs": [
        {
          "output_type": "stream",
          "name": "stdout",
          "text": [
            "Could not convert the geojson to ee.Geometry()\n"
          ]
        },
        {
          "output_type": "error",
          "ename": "Exception",
          "evalue": "ignored",
          "traceback": [
            "\u001b[0;31m---------------------------------------------------------------------------\u001b[0m",
            "\u001b[0;31mEEException\u001b[0m                               Traceback (most recent call last)",
            "\u001b[0;32m/usr/local/lib/python3.10/dist-packages/geemap/common.py\u001b[0m in \u001b[0;36mgeojson_to_ee\u001b[0;34m(geo_json, geodesic, encoding)\u001b[0m\n\u001b[1;32m   1306\u001b[0m                     \u001b[0mfeature\u001b[0m\u001b[0;34m[\u001b[0m\u001b[0;34m\"geometry\"\u001b[0m\u001b[0;34m]\u001b[0m\u001b[0;34m[\u001b[0m\u001b[0;34m\"geodesic\"\u001b[0m\u001b[0;34m]\u001b[0m \u001b[0;34m=\u001b[0m \u001b[0mgeodesic\u001b[0m\u001b[0;34m\u001b[0m\u001b[0;34m\u001b[0m\u001b[0m\n\u001b[0;32m-> 1307\u001b[0;31m             \u001b[0mfeatures\u001b[0m \u001b[0;34m=\u001b[0m \u001b[0mee\u001b[0m\u001b[0;34m.\u001b[0m\u001b[0mFeatureCollection\u001b[0m\u001b[0;34m(\u001b[0m\u001b[0mgeo_json\u001b[0m\u001b[0;34m)\u001b[0m\u001b[0;34m\u001b[0m\u001b[0;34m\u001b[0m\u001b[0m\n\u001b[0m\u001b[1;32m   1308\u001b[0m             \u001b[0;32mreturn\u001b[0m \u001b[0mfeatures\u001b[0m\u001b[0;34m\u001b[0m\u001b[0;34m\u001b[0m\u001b[0m\n",
            "\u001b[0;32m/usr/local/lib/python3.10/dist-packages/ee/computedobject.py\u001b[0m in \u001b[0;36m__call__\u001b[0;34m(cls, *args, **kwargs)\u001b[0m\n\u001b[1;32m     30\u001b[0m     \u001b[0;32melse\u001b[0m\u001b[0;34m:\u001b[0m\u001b[0;34m\u001b[0m\u001b[0;34m\u001b[0m\u001b[0m\n\u001b[0;32m---> 31\u001b[0;31m       \u001b[0;32mreturn\u001b[0m \u001b[0mtype\u001b[0m\u001b[0;34m.\u001b[0m\u001b[0m__call__\u001b[0m\u001b[0;34m(\u001b[0m\u001b[0mcls\u001b[0m\u001b[0;34m,\u001b[0m \u001b[0;34m*\u001b[0m\u001b[0margs\u001b[0m\u001b[0;34m,\u001b[0m \u001b[0;34m**\u001b[0m\u001b[0mkwargs\u001b[0m\u001b[0;34m)\u001b[0m\u001b[0;34m\u001b[0m\u001b[0;34m\u001b[0m\u001b[0m\n\u001b[0m\u001b[1;32m     32\u001b[0m \u001b[0;34m\u001b[0m\u001b[0m\n",
            "\u001b[0;32m/usr/local/lib/python3.10/dist-packages/ee/featurecollection.py\u001b[0m in \u001b[0;36m__init__\u001b[0;34m(self, args, opt_column)\u001b[0m\n\u001b[1;32m     79\u001b[0m           \u001b[0mapifunction\u001b[0m\u001b[0;34m.\u001b[0m\u001b[0mApiFunction\u001b[0m\u001b[0;34m.\u001b[0m\u001b[0mlookup\u001b[0m\u001b[0;34m(\u001b[0m\u001b[0;34m'Collection'\u001b[0m\u001b[0;34m)\u001b[0m\u001b[0;34m,\u001b[0m\u001b[0;34m\u001b[0m\u001b[0;34m\u001b[0m\u001b[0m\n\u001b[0;32m---> 80\u001b[0;31m           {'features': [feature.Feature(i) for i in args.get('features', [])]})\n\u001b[0m\u001b[1;32m     81\u001b[0m     \u001b[0;32melif\u001b[0m \u001b[0misinstance\u001b[0m\u001b[0;34m(\u001b[0m\u001b[0margs\u001b[0m\u001b[0;34m,\u001b[0m \u001b[0mcomputedobject\u001b[0m\u001b[0;34m.\u001b[0m\u001b[0mComputedObject\u001b[0m\u001b[0;34m)\u001b[0m\u001b[0;34m:\u001b[0m\u001b[0;34m\u001b[0m\u001b[0;34m\u001b[0m\u001b[0m\n",
            "\u001b[0;32m/usr/local/lib/python3.10/dist-packages/ee/featurecollection.py\u001b[0m in \u001b[0;36m<listcomp>\u001b[0;34m(.0)\u001b[0m\n\u001b[1;32m     79\u001b[0m           \u001b[0mapifunction\u001b[0m\u001b[0;34m.\u001b[0m\u001b[0mApiFunction\u001b[0m\u001b[0;34m.\u001b[0m\u001b[0mlookup\u001b[0m\u001b[0;34m(\u001b[0m\u001b[0;34m'Collection'\u001b[0m\u001b[0;34m)\u001b[0m\u001b[0;34m,\u001b[0m\u001b[0;34m\u001b[0m\u001b[0;34m\u001b[0m\u001b[0m\n\u001b[0;32m---> 80\u001b[0;31m           {'features': [feature.Feature(i) for i in args.get('features', [])]})\n\u001b[0m\u001b[1;32m     81\u001b[0m     \u001b[0;32melif\u001b[0m \u001b[0misinstance\u001b[0m\u001b[0;34m(\u001b[0m\u001b[0margs\u001b[0m\u001b[0;34m,\u001b[0m \u001b[0mcomputedobject\u001b[0m\u001b[0;34m.\u001b[0m\u001b[0mComputedObject\u001b[0m\u001b[0;34m)\u001b[0m\u001b[0;34m:\u001b[0m\u001b[0;34m\u001b[0m\u001b[0;34m\u001b[0m\u001b[0m\n",
            "\u001b[0;32m/usr/local/lib/python3.10/dist-packages/ee/computedobject.py\u001b[0m in \u001b[0;36m__call__\u001b[0;34m(cls, *args, **kwargs)\u001b[0m\n\u001b[1;32m     30\u001b[0m     \u001b[0;32melse\u001b[0m\u001b[0;34m:\u001b[0m\u001b[0;34m\u001b[0m\u001b[0;34m\u001b[0m\u001b[0m\n\u001b[0;32m---> 31\u001b[0;31m       \u001b[0;32mreturn\u001b[0m \u001b[0mtype\u001b[0m\u001b[0;34m.\u001b[0m\u001b[0m__call__\u001b[0m\u001b[0;34m(\u001b[0m\u001b[0mcls\u001b[0m\u001b[0;34m,\u001b[0m \u001b[0;34m*\u001b[0m\u001b[0margs\u001b[0m\u001b[0;34m,\u001b[0m \u001b[0;34m**\u001b[0m\u001b[0mkwargs\u001b[0m\u001b[0;34m)\u001b[0m\u001b[0;34m\u001b[0m\u001b[0;34m\u001b[0m\u001b[0m\n\u001b[0m\u001b[1;32m     32\u001b[0m \u001b[0;34m\u001b[0m\u001b[0m\n",
            "\u001b[0;32m/usr/local/lib/python3.10/dist-packages/ee/feature.py\u001b[0m in \u001b[0;36m__init__\u001b[0;34m(self, geom, opt_properties)\u001b[0m\n\u001b[1;32m     72\u001b[0m       super(Feature, self).__init__(feature_constructor, {\n\u001b[0;32m---> 73\u001b[0;31m           \u001b[0;34m'geometry'\u001b[0m\u001b[0;34m:\u001b[0m \u001b[0mgeometry\u001b[0m\u001b[0;34m.\u001b[0m\u001b[0mGeometry\u001b[0m\u001b[0;34m(\u001b[0m\u001b[0mgeom\u001b[0m\u001b[0;34m.\u001b[0m\u001b[0mget\u001b[0m\u001b[0;34m(\u001b[0m\u001b[0;34m'geometry'\u001b[0m\u001b[0;34m,\u001b[0m \u001b[0;32mNone\u001b[0m\u001b[0;34m)\u001b[0m\u001b[0;34m)\u001b[0m\u001b[0;34m,\u001b[0m\u001b[0;34m\u001b[0m\u001b[0;34m\u001b[0m\u001b[0m\n\u001b[0m\u001b[1;32m     74\u001b[0m           \u001b[0;34m'metadata'\u001b[0m\u001b[0;34m:\u001b[0m \u001b[0mproperties\u001b[0m\u001b[0;34m\u001b[0m\u001b[0;34m\u001b[0m\u001b[0m\n",
            "\u001b[0;32m/usr/local/lib/python3.10/dist-packages/ee/computedobject.py\u001b[0m in \u001b[0;36m__call__\u001b[0;34m(cls, *args, **kwargs)\u001b[0m\n\u001b[1;32m     30\u001b[0m     \u001b[0;32melse\u001b[0m\u001b[0;34m:\u001b[0m\u001b[0;34m\u001b[0m\u001b[0;34m\u001b[0m\u001b[0m\n\u001b[0;32m---> 31\u001b[0;31m       \u001b[0;32mreturn\u001b[0m \u001b[0mtype\u001b[0m\u001b[0;34m.\u001b[0m\u001b[0m__call__\u001b[0m\u001b[0;34m(\u001b[0m\u001b[0mcls\u001b[0m\u001b[0;34m,\u001b[0m \u001b[0;34m*\u001b[0m\u001b[0margs\u001b[0m\u001b[0;34m,\u001b[0m \u001b[0;34m**\u001b[0m\u001b[0mkwargs\u001b[0m\u001b[0;34m)\u001b[0m\u001b[0;34m\u001b[0m\u001b[0;34m\u001b[0m\u001b[0m\n\u001b[0m\u001b[1;32m     32\u001b[0m \u001b[0;34m\u001b[0m\u001b[0m\n",
            "\u001b[0;32m/usr/local/lib/python3.10/dist-packages/ee/geometry.py\u001b[0m in \u001b[0;36m__init__\u001b[0;34m(self, geo_json, opt_proj, opt_geodesic, opt_evenOdd)\u001b[0m\n\u001b[1;32m     85\u001b[0m     \u001b[0;32mif\u001b[0m \u001b[0;32mnot\u001b[0m \u001b[0mGeometry\u001b[0m\u001b[0;34m.\u001b[0m\u001b[0m_isValidGeometry\u001b[0m\u001b[0;34m(\u001b[0m\u001b[0mgeo_json\u001b[0m\u001b[0;34m)\u001b[0m\u001b[0;34m:\u001b[0m\u001b[0;34m\u001b[0m\u001b[0;34m\u001b[0m\u001b[0m\n\u001b[0;32m---> 86\u001b[0;31m       \u001b[0;32mraise\u001b[0m \u001b[0mee_exception\u001b[0m\u001b[0;34m.\u001b[0m\u001b[0mEEException\u001b[0m\u001b[0;34m(\u001b[0m\u001b[0;34m'Invalid GeoJSON geometry.'\u001b[0m\u001b[0;34m)\u001b[0m\u001b[0;34m\u001b[0m\u001b[0;34m\u001b[0m\u001b[0m\n\u001b[0m\u001b[1;32m     87\u001b[0m \u001b[0;34m\u001b[0m\u001b[0m\n",
            "\u001b[0;31mEEException\u001b[0m: Invalid GeoJSON geometry.",
            "\nDuring handling of the above exception, another exception occurred:\n",
            "\u001b[0;31mException\u001b[0m                                 Traceback (most recent call last)",
            "\u001b[0;32m<ipython-input-115-cba9fa6cd675>\u001b[0m in \u001b[0;36m<cell line: 9>\u001b[0;34m()\u001b[0m\n\u001b[1;32m      7\u001b[0m \u001b[0;34m\u001b[0m\u001b[0m\n\u001b[1;32m      8\u001b[0m \u001b[0;31m# Convert the GeoDataFrame to an ee.FeatureCollection\u001b[0m\u001b[0;34m\u001b[0m\u001b[0;34m\u001b[0m\u001b[0m\n\u001b[0;32m----> 9\u001b[0;31m \u001b[0mfc\u001b[0m \u001b[0;34m=\u001b[0m \u001b[0mgeemap\u001b[0m\u001b[0;34m.\u001b[0m\u001b[0mgeopandas_to_ee\u001b[0m\u001b[0;34m(\u001b[0m\u001b[0mgdf\u001b[0m\u001b[0;34m)\u001b[0m\u001b[0;34m\u001b[0m\u001b[0;34m\u001b[0m\u001b[0m\n\u001b[0m\u001b[1;32m     10\u001b[0m \u001b[0;34m\u001b[0m\u001b[0m\n\u001b[1;32m     11\u001b[0m \u001b[0;31m# Create a Map instance\u001b[0m\u001b[0;34m\u001b[0m\u001b[0;34m\u001b[0m\u001b[0m\n",
            "\u001b[0;32m/usr/local/lib/python3.10/dist-packages/geemap/common.py\u001b[0m in \u001b[0;36mgdf_to_ee\u001b[0;34m(gdf, geodesic, date, date_format)\u001b[0m\n\u001b[1;32m   9069\u001b[0m     \u001b[0mgdf\u001b[0m\u001b[0;34m.\u001b[0m\u001b[0mto_file\u001b[0m\u001b[0;34m(\u001b[0m\u001b[0mout_json\u001b[0m\u001b[0;34m,\u001b[0m \u001b[0mdriver\u001b[0m\u001b[0;34m=\u001b[0m\u001b[0;34m\"GeoJSON\"\u001b[0m\u001b[0;34m)\u001b[0m\u001b[0;34m\u001b[0m\u001b[0;34m\u001b[0m\u001b[0m\n\u001b[1;32m   9070\u001b[0m \u001b[0;34m\u001b[0m\u001b[0m\n\u001b[0;32m-> 9071\u001b[0;31m     \u001b[0mfc\u001b[0m \u001b[0;34m=\u001b[0m \u001b[0mgeojson_to_ee\u001b[0m\u001b[0;34m(\u001b[0m\u001b[0mout_json\u001b[0m\u001b[0;34m,\u001b[0m \u001b[0mgeodesic\u001b[0m\u001b[0;34m=\u001b[0m\u001b[0mgeodesic\u001b[0m\u001b[0;34m)\u001b[0m\u001b[0;34m\u001b[0m\u001b[0;34m\u001b[0m\u001b[0m\n\u001b[0m\u001b[1;32m   9072\u001b[0m \u001b[0;34m\u001b[0m\u001b[0m\n\u001b[1;32m   9073\u001b[0m     \u001b[0;32mif\u001b[0m \u001b[0mdate\u001b[0m \u001b[0;32mis\u001b[0m \u001b[0;32mnot\u001b[0m \u001b[0;32mNone\u001b[0m\u001b[0;34m:\u001b[0m\u001b[0;34m\u001b[0m\u001b[0;34m\u001b[0m\u001b[0m\n",
            "\u001b[0;32m/usr/local/lib/python3.10/dist-packages/geemap/common.py\u001b[0m in \u001b[0;36mgeojson_to_ee\u001b[0;34m(geo_json, geodesic, encoding)\u001b[0m\n\u001b[1;32m   1332\u001b[0m     \u001b[0;32mexcept\u001b[0m \u001b[0mException\u001b[0m \u001b[0;32mas\u001b[0m \u001b[0me\u001b[0m\u001b[0;34m:\u001b[0m\u001b[0;34m\u001b[0m\u001b[0;34m\u001b[0m\u001b[0m\n\u001b[1;32m   1333\u001b[0m         \u001b[0mprint\u001b[0m\u001b[0;34m(\u001b[0m\u001b[0;34m\"Could not convert the geojson to ee.Geometry()\"\u001b[0m\u001b[0;34m)\u001b[0m\u001b[0;34m\u001b[0m\u001b[0;34m\u001b[0m\u001b[0m\n\u001b[0;32m-> 1334\u001b[0;31m         \u001b[0;32mraise\u001b[0m \u001b[0mException\u001b[0m\u001b[0;34m(\u001b[0m\u001b[0me\u001b[0m\u001b[0;34m)\u001b[0m\u001b[0;34m\u001b[0m\u001b[0;34m\u001b[0m\u001b[0m\n\u001b[0m\u001b[1;32m   1335\u001b[0m \u001b[0;34m\u001b[0m\u001b[0m\n\u001b[1;32m   1336\u001b[0m \u001b[0;34m\u001b[0m\u001b[0m\n",
            "\u001b[0;31mException\u001b[0m: Invalid GeoJSON geometry."
          ]
        }
      ]
    },
    {
      "cell_type": "code",
      "source": [
        "\n",
        "gdf = gpd.read_file(\n",
        "    \"https://raw.githubusercontent.com/giswqs/data/main/us/us_states.geojson\"\n",
        ")\n",
        "gdf.head()\n",
        "\n",
        "Map = geemap.Map()\n",
        "\n",
        "fc = geemap.geopandas_to_ee(gdf)\n",
        "\n",
        "vis_params = {\n",
        "    'color': '000000',\n",
        "    'fillColor': 'transparent',  # Transparent fill color\n",
        "    'width': 2,\n",
        "}\n",
        "\n",
        "Map.addLayer(fc, vis_params, \"geopandas to ee\")\n",
        "Map"
      ],
      "metadata": {
        "colab": {
          "base_uri": "https://localhost:8080/",
          "height": 621,
          "referenced_widgets": [
            "ce9cda80e16640cd839ffbc723c5775f",
            "54eafaeb99ed4f118ea7fc92c2988e8b",
            "4b1f5abeab1e4647852a71ec1095cca3",
            "a118392509324780815c9ec030f2f54b",
            "07c0ee51904b48e38152999af9351fca",
            "fd39d9c3f38b46d69457ca24fa554358",
            "f7a339421666488e8b36e3927c5bf368",
            "4d62d79faca14792bdcca36130c2d851",
            "467e6e050549438ea03f22bb4c6770ad",
            "6e8acf57ed87454ea7b3c5221099eef4",
            "c5762179208943728ead7d3f76bcf262",
            "0c8ee67816df4c828c1d9f84b62fd154",
            "50f7273b731e45f89cf7f26948a8ef8d",
            "77665e7410ba4d53bc0030639cd18c27",
            "9266294ae6d84bf0a4e64fc9574c438d",
            "610aece413dc4b47a4385b44674dffa7",
            "7c079de0d0f64b5db4ac180481b30831",
            "7933c31f0785430dab355ad9b7e77ea4",
            "8df3bdeb1b3d4b519b522d4992595f84",
            "2c6ce41a7a8b45d1b857a233838ef659",
            "a42d8d3ef3b342d3ac36277a8b43c824",
            "fde68f24f40848c1935441e05c87577b",
            "eae3a0e8520b4efb9963b0c30b32ad5c",
            "f346b487327245f49dcc8a1d3e403184",
            "5608a363721e422091828d407f8b0579",
            "de95bee7619d4fb8bd2e1e65b425a17f"
          ]
        },
        "id": "opvpzDKugOTM",
        "outputId": "f504635e-ed52-43a6-cd06-72aac35931a7"
      },
      "id": "opvpzDKugOTM",
      "execution_count": null,
      "outputs": [
        {
          "output_type": "display_data",
          "data": {
            "text/plain": [
              "Map(center=[20, 0], controls=(WidgetControl(options=['position', 'transparent_bg'], widget=HBox(children=(Togg…"
            ],
            "application/vnd.jupyter.widget-view+json": {
              "version_major": 2,
              "version_minor": 0,
              "model_id": "ce9cda80e16640cd839ffbc723c5775f"
            }
          },
          "metadata": {
            "application/vnd.jupyter.widget-view+json": {
              "colab": {
                "custom_widget_manager": {
                  "url": "https://ssl.gstatic.com/colaboratory-static/widgets/colab-cdn-widget-manager/b3e629b1971e1542/manager.min.js"
                }
              }
            }
          }
        }
      ]
    },
    {
      "cell_type": "code",
      "execution_count": null,
      "id": "c6c058ee",
      "metadata": {
        "id": "c6c058ee"
      },
      "outputs": [],
      "source": [
        "# the regulars\n",
        "import pandas as pd\n",
        "import geopandas as gpd\n",
        "import numpy as np\n",
        "\n",
        "# earth engine\n",
        "import ee\n",
        "\n",
        "# allow images to display in the notebook\n",
        "from IPython.display import Image"
      ]
    },
    {
      "cell_type": "code",
      "execution_count": null,
      "id": "f0f0c852",
      "metadata": {
        "id": "f0f0c852",
        "outputId": "1be2c9ca-3a8c-4fdf-e3da-0e710cabf1f9"
      },
      "outputs": [
        {
          "name": "stdout",
          "output_type": "stream",
          "text": [
            "2020-08-04 1.18\n",
            "2020-08-20 0.42\n",
            "2020-09-05 23.4\n",
            "2020-08-11 5.27\n",
            "2020-08-27 21.47\n"
          ]
        }
      ],
      "source": [
        "# Coordenadas 2018: -32.81910507118151, -60.42389548016447\n",
        "# in decimal degrees\n",
        "lat =  -32.81910507118151\n",
        "lon = -60.42389548016447\n",
        "\n",
        "\n",
        "# point of interest as an ee.Geometry\n",
        "poi = ee.Geometry.Point(lon,lat)\n",
        "\n",
        "# Landsat-8 takes 8 days to come back to the same place\n",
        "\n",
        "# start date of range to filter for\n",
        "start_date = '2020-08-01'\n",
        "\n",
        "# end date\n",
        "end_date = '2020-09-10'\n",
        "\n",
        "# get the satellite data\n",
        "Landsat8 = ee.ImageCollection(\"LANDSAT/LC08/C02/T1_L2\")\\\n",
        "            .filterBounds(poi)\\\n",
        "            .filterDate(start_date,end_date)\n",
        "\n",
        "# put the images in a list\n",
        "landsat_list = Landsat8.toList(Landsat8.size());\n",
        "\n",
        "for i in range(Landsat8.size().getInfo()):\n",
        "\n",
        "    # when was this image taken?\n",
        "    date = ee.Image(landsat_list.get(i)).get('DATE_ACQUIRED').getInfo()\n",
        "    # cloud cover\n",
        "    cloud = ee.Image(landsat_list.get(i)).get('CLOUD_COVER').getInfo()\n",
        "\n",
        "    print(date, cloud)"
      ]
    },
    {
      "cell_type": "code",
      "execution_count": null,
      "id": "d72e894b",
      "metadata": {
        "id": "d72e894b",
        "outputId": "18f52ccc-5742-4fff-92af-bd5b88b7382d"
      },
      "outputs": [
        {
          "data": {
            "text/html": [
              "<img src=\"https://earthengine.googleapis.com/v1alpha/projects/earthengine-legacy/thumbnails/9950adf8f0465170b1bb1f56a6adb67b-3f29ece4fcdf5defa7f0c56246a4bacd:getPixels\"/>"
            ],
            "text/plain": [
              "<IPython.core.display.Image object>"
            ]
          },
          "metadata": {},
          "output_type": "display_data"
        }
      ],
      "source": [
        "\n",
        "parameters = {\n",
        "                'min': 7000,\n",
        "                'max': 16000,\n",
        "                'dimensions': 600, # square size in pixels\n",
        "                'bands': ['SR_B4', 'SR_B3', 'SR_B2'] # bands to display (r,g,b)\n",
        "             }\n",
        "\n",
        "display(Image(url = ee.Image(landsat_list.get(1)).getThumbUrl(parameters)))"
      ]
    },
    {
      "cell_type": "code",
      "execution_count": null,
      "id": "1bb271b2",
      "metadata": {
        "id": "1bb271b2"
      },
      "outputs": [],
      "source": [
        "#Landsat8.size()\n",
        "#print(landsat_list)"
      ]
    },
    {
      "cell_type": "code",
      "execution_count": null,
      "id": "52cfbfdd",
      "metadata": {
        "id": "52cfbfdd",
        "outputId": "99d594ba-8032-4466-a487-c55147818416"
      },
      "outputs": [
        {
          "name": "stdout",
          "output_type": "stream",
          "text": [
            "['SR_B1', 'SR_B2', 'SR_B3', 'SR_B4', 'SR_B5', 'SR_B6', 'SR_B7', 'SR_QA_AEROSOL', 'ST_B10', 'ST_ATRAN', 'ST_CDIST', 'ST_DRAD', 'ST_EMIS', 'ST_EMSD', 'ST_QA', 'ST_TRAD', 'ST_URAD', 'QA_PIXEL', 'QA_RADSAT']\n",
            "{'type': 'Projection', 'crs': 'EPSG:32620', 'transform': [30, 0, 528585, 0, -30, -3554085]}\n"
          ]
        }
      ],
      "source": [
        "print(ee.Image(landsat_list.get(1)).bandNames().getInfo())\n",
        "\n",
        "print(ee.Image(landsat_list.get(1)).select('SR_B1').projection().getInfo())"
      ]
    },
    {
      "cell_type": "code",
      "execution_count": null,
      "id": "9c82664e",
      "metadata": {
        "id": "9c82664e",
        "outputId": "9c0c5d98-0343-4414-f4fb-0d3f39a1122a"
      },
      "outputs": [
        {
          "data": {
            "text/plain": [
              "<Geographic 2D CRS: EPSG:4326>\n",
              "Name: WGS 84\n",
              "Axis Info [ellipsoidal]:\n",
              "- Lat[north]: Geodetic latitude (degree)\n",
              "- Lon[east]: Geodetic longitude (degree)\n",
              "Area of Use:\n",
              "- name: World.\n",
              "- bounds: (-180.0, -90.0, 180.0, 90.0)\n",
              "Datum: World Geodetic System 1984 ensemble\n",
              "- Ellipsoid: WGS 84\n",
              "- Prime Meridian: Greenwich"
            ]
          },
          "execution_count": 4,
          "metadata": {},
          "output_type": "execute_result"
        }
      ],
      "source": [
        "# Se carga la imagen .shp correspondiente a los ROIs a partir del directorio\n",
        "#rois_gdp = gpd.read_file('D:\\TELEDETECCION\\Proyecto_incendios_Delta\\Muestras_2018-08-22 32620\\Muestras_2018-08-22_32620.shp')#.set_index('id') #Levanta archivo shp\n",
        "rois_gdp = gpd.read_file('D:\\TELEDETECCION\\Proyecto_incendios_Delta\\Muestras_2018-08-22.shp')#.set_index('id') #Levanta archivo shp\n",
        "\n",
        "# print(rois_gdp.geometry.values[0])\n",
        "\n",
        "#geometry = rois_gdp.geometry.values[0]\n",
        "rois_gdp.crs"
      ]
    },
    {
      "cell_type": "code",
      "execution_count": null,
      "id": "81adc5a9",
      "metadata": {
        "id": "81adc5a9"
      },
      "outputs": [],
      "source": [
        "rois_gdp_exp = rois_gdp.explode(index_parts = False)"
      ]
    },
    {
      "cell_type": "code",
      "execution_count": null,
      "id": "f64a4e12",
      "metadata": {
        "collapsed": true,
        "id": "f64a4e12",
        "outputId": "0ad83b74-815b-42ef-bd39-1b585c1a14f9"
      },
      "outputs": [
        {
          "ename": "TypeError",
          "evalue": "'Polygon' object is not subscriptable",
          "output_type": "error",
          "traceback": [
            "\u001b[1;31m---------------------------------------------------------------------------\u001b[0m",
            "\u001b[1;31mTypeError\u001b[0m                                 Traceback (most recent call last)",
            "\u001b[1;32m~\\AppData\\Local\\Temp\\ipykernel_7784\\3280118814.py\u001b[0m in \u001b[0;36m<module>\u001b[1;34m\u001b[0m\n\u001b[1;32m----> 1\u001b[1;33m \u001b[0mrois_gdp_exp\u001b[0m\u001b[1;33m.\u001b[0m\u001b[0mgeometry\u001b[0m\u001b[1;33m[\u001b[0m\u001b[1;36m0\u001b[0m\u001b[1;33m]\u001b[0m\u001b[1;33m[\u001b[0m\u001b[1;36m0\u001b[0m\u001b[1;33m]\u001b[0m\u001b[1;33m\u001b[0m\u001b[1;33m\u001b[0m\u001b[0m\n\u001b[0m",
            "\u001b[1;31mTypeError\u001b[0m: 'Polygon' object is not subscriptable"
          ]
        }
      ],
      "source": [
        "rois_gdp_exp.geometry[0]"
      ]
    },
    {
      "cell_type": "code",
      "execution_count": null,
      "id": "9c5335b2",
      "metadata": {
        "id": "9c5335b2"
      },
      "outputs": [],
      "source": [
        "#https://stackoverflow.com/questions/4741243/how-to-pick-just-one-item-from-a-generator\n",
        "rois_gdp_iterf = rois_gdp.iterfeatures()\n",
        "geom_data = next(rois_gdp_iterf)['geometry']['coordinates']"
      ]
    },
    {
      "cell_type": "code",
      "execution_count": null,
      "id": "b8490465",
      "metadata": {
        "id": "b8490465"
      },
      "outputs": [],
      "source": [
        "list_lon = []\n",
        "list_lat = []\n",
        "\n",
        "for i in range(len(geom_data[0])):\n",
        "    list_lon.append(geom_data[0][i][0])\n",
        "    list_lat.append(geom_data[0][i][1])"
      ]
    },
    {
      "cell_type": "code",
      "execution_count": null,
      "id": "6afae545",
      "metadata": {
        "id": "6afae545",
        "outputId": "274697a6-1bb4-43cd-a54f-8f85135657b4"
      },
      "outputs": [
        {
          "data": {
            "text/plain": [
              "[[-60.43470604358266, -32.834308101686894],\n",
              " [-60.36500181902507, -32.834154378659115],\n",
              " [-60.359696248126994, -32.95597310931026],\n",
              " [-60.43049817700832, -32.956740665506416],\n",
              " [-60.43470604358266, -32.834308101686894]]"
            ]
          },
          "execution_count": 10,
          "metadata": {},
          "output_type": "execute_result"
        }
      ],
      "source": [
        "list_coord = []\n",
        "\n",
        "for i in range(len(geom_data[0])):\n",
        "    list_coord.append(list(geom_data[0][i]))\n",
        "\n",
        "list_coord"
      ]
    },
    {
      "cell_type": "code",
      "execution_count": null,
      "id": "55daed28",
      "metadata": {
        "id": "55daed28"
      },
      "outputs": [],
      "source": [
        "geom_clip = ee.Geometry.Polygon(list_coord)"
      ]
    },
    {
      "cell_type": "code",
      "execution_count": null,
      "id": "ba931deb",
      "metadata": {
        "collapsed": true,
        "id": "ba931deb",
        "outputId": "653ea91a-8719-4c77-8262-cadae2e0c8d4"
      },
      "outputs": [
        {
          "data": {
            "text/plain": [
              "ee.Geometry({\n",
              "  \"functionInvocationValue\": {\n",
              "    \"functionName\": \"GeometryConstructors.Polygon\",\n",
              "    \"arguments\": {\n",
              "      \"coordinates\": {\n",
              "        \"constantValue\": [\n",
              "          [\n",
              "            [\n",
              "              -60.43470604358266,\n",
              "              -32.834308101686894\n",
              "            ],\n",
              "            [\n",
              "              -60.36500181902507,\n",
              "              -32.834154378659115\n",
              "            ],\n",
              "            [\n",
              "              -60.359696248126994,\n",
              "              -32.95597310931026\n",
              "            ],\n",
              "            [\n",
              "              -60.43049817700832,\n",
              "              -32.956740665506416\n",
              "            ],\n",
              "            [\n",
              "              -60.43470604358266,\n",
              "              -32.834308101686894\n",
              "            ]\n",
              "          ]\n",
              "        ]\n",
              "      },\n",
              "      \"evenOdd\": {\n",
              "        \"constantValue\": true\n",
              "      }\n",
              "    }\n",
              "  }\n",
              "})"
            ]
          },
          "execution_count": 35,
          "metadata": {},
          "output_type": "execute_result"
        }
      ],
      "source": [
        "geom_clip"
      ]
    },
    {
      "cell_type": "code",
      "execution_count": null,
      "id": "ac4c4db4",
      "metadata": {
        "id": "ac4c4db4",
        "outputId": "a58dc271-b3db-42d9-dadc-4831137a65fb"
      },
      "outputs": [
        {
          "data": {
            "text/html": [
              "<img src=\"https://earthengine.googleapis.com/v1alpha/projects/earthengine-legacy/thumbnails/4789863298d69297ded175f294e312d9-1c644809ccbb0e5a458d8f6d118c880d:getPixels\"/>"
            ],
            "text/plain": [
              "<IPython.core.display.Image object>"
            ]
          },
          "metadata": {},
          "output_type": "display_data"
        }
      ],
      "source": [
        "#ee.Image(landsat_list.get(1)).clip(geometry)\n",
        "\n",
        "display(Image(url = ee.Image(landsat_list.get(1)).clip(geom_clip).getThumbUrl(parameters)))"
      ]
    },
    {
      "cell_type": "markdown",
      "id": "158af3e7",
      "metadata": {
        "id": "158af3e7"
      },
      "source": [
        "Export image\n",
        "\n",
        "References:\n",
        "https://eamena.org/sites/default/files/eamena/documents/media/gis_4_-_introduction_to_gee_and_sentinel-2_imagery-compressed.pdf\n",
        "https://gis.stackexchange.com/questions/300344/exported-bands-must-have-compatible-data-types-found-inconsistent-types-uint16\n",
        "https://gis.stackexchange.com/questions/347340/export-google-earth-engine-landsat-image-to-google-drive-not-working-in-python-a"
      ]
    },
    {
      "cell_type": "code",
      "execution_count": null,
      "id": "7a4f3cd6",
      "metadata": {
        "id": "7a4f3cd6",
        "outputId": "09fa2cf8-0f1f-4225-f0dc-1cb19a09ac75"
      },
      "outputs": [
        {
          "data": {
            "text/plain": [
              "['SR_B1', 'SR_B2', 'SR_B3', 'SR_B4', 'SR_B5', 'SR_B6']"
            ]
          },
          "execution_count": 31,
          "metadata": {},
          "output_type": "execute_result"
        }
      ],
      "source": [
        "select_bands = ee.Image(landsat_list.get(1)).bandNames().getInfo()[0:6]\n",
        "select_bands"
      ]
    },
    {
      "cell_type": "code",
      "execution_count": null,
      "id": "e16c95f0",
      "metadata": {
        "id": "e16c95f0"
      },
      "outputs": [],
      "source": [
        "image_bands = ee.Image(landsat_list.get(1)).select(select_bands)"
      ]
    },
    {
      "cell_type": "code",
      "execution_count": null,
      "id": "82079811",
      "metadata": {
        "id": "82079811"
      },
      "outputs": [],
      "source": [
        "export_task = ee.batch.Export.image.toDrive(\n",
        "    image = image_bands,\n",
        "    region = geom_clip,\n",
        "    #description = 'test01'\n",
        ")"
      ]
    },
    {
      "cell_type": "code",
      "execution_count": null,
      "id": "5d27fa54",
      "metadata": {
        "id": "5d27fa54"
      },
      "outputs": [],
      "source": [
        "export_task.start()"
      ]
    },
    {
      "cell_type": "code",
      "execution_count": null,
      "id": "d5d110ef",
      "metadata": {
        "id": "d5d110ef",
        "outputId": "b718b2af-3677-4e97-a150-f5a6ad999cf9"
      },
      "outputs": [
        {
          "data": {
            "text/plain": [
              "{'state': 'READY',\n",
              " 'description': 'myExportImageTask',\n",
              " 'creation_timestamp_ms': 1672542935978,\n",
              " 'update_timestamp_ms': 1672542935978,\n",
              " 'start_timestamp_ms': 0,\n",
              " 'task_type': 'EXPORT_IMAGE',\n",
              " 'id': 'SOGVC6ZNDRHMGGGMWYYPFWHM',\n",
              " 'name': 'projects/earthengine-legacy/operations/SOGVC6ZNDRHMGGGMWYYPFWHM'}"
            ]
          },
          "execution_count": 30,
          "metadata": {},
          "output_type": "execute_result"
        }
      ],
      "source": [
        "export_task.status()"
      ]
    }
  ],
  "metadata": {
    "kernelspec": {
      "display_name": "Python 3 (ipykernel)",
      "language": "python",
      "name": "python3"
    },
    "language_info": {
      "codemirror_mode": {
        "name": "ipython",
        "version": 3
      },
      "file_extension": ".py",
      "mimetype": "text/x-python",
      "name": "python",
      "nbconvert_exporter": "python",
      "pygments_lexer": "ipython3",
      "version": "3.9.13"
    },
    "colab": {
      "provenance": [],
      "include_colab_link": true
    },
    "widgets": {
      "application/vnd.jupyter.widget-state+json": {
        "ce9cda80e16640cd839ffbc723c5775f": {
          "model_module": "jupyter-leaflet",
          "model_name": "LeafletMapModel",
          "model_module_version": "^0.17",
          "state": {
            "_dom_classes": [],
            "_model_module": "jupyter-leaflet",
            "_model_module_version": "^0.17",
            "_model_name": "LeafletMapModel",
            "_view_count": null,
            "_view_module": "jupyter-leaflet",
            "_view_module_version": "^0.17",
            "_view_name": "LeafletMapView",
            "bottom": 754,
            "bounce_at_zoom_limits": true,
            "box_zoom": true,
            "center": [
              20,
              0
            ],
            "close_popup_on_click": true,
            "controls": [
              "IPY_MODEL_54eafaeb99ed4f118ea7fc92c2988e8b",
              "IPY_MODEL_4b1f5abeab1e4647852a71ec1095cca3",
              "IPY_MODEL_a118392509324780815c9ec030f2f54b",
              "IPY_MODEL_07c0ee51904b48e38152999af9351fca",
              "IPY_MODEL_fd39d9c3f38b46d69457ca24fa554358",
              "IPY_MODEL_f7a339421666488e8b36e3927c5bf368",
              "IPY_MODEL_4d62d79faca14792bdcca36130c2d851",
              "IPY_MODEL_467e6e050549438ea03f22bb4c6770ad"
            ],
            "crs": {
              "name": "EPSG3857",
              "custom": false
            },
            "default_style": "IPY_MODEL_6e8acf57ed87454ea7b3c5221099eef4",
            "double_click_zoom": true,
            "dragging": true,
            "dragging_style": "IPY_MODEL_c5762179208943728ead7d3f76bcf262",
            "east": 338.203125,
            "fullscreen": false,
            "inertia": true,
            "inertia_deceleration": 3000,
            "inertia_max_speed": 1500,
            "interpolation": "bilinear",
            "keyboard": true,
            "keyboard_pan_offset": 80,
            "keyboard_zoom_offset": 1,
            "layers": [
              "IPY_MODEL_0c8ee67816df4c828c1d9f84b62fd154",
              "IPY_MODEL_50f7273b731e45f89cf7f26948a8ef8d",
              "IPY_MODEL_77665e7410ba4d53bc0030639cd18c27"
            ],
            "layout": "IPY_MODEL_9266294ae6d84bf0a4e64fc9574c438d",
            "left": -450,
            "max_zoom": 24,
            "min_zoom": null,
            "modisdate": "2023-06-29",
            "north": 77.31251993823143,
            "options": [
              "bounce_at_zoom_limits",
              "box_zoom",
              "center",
              "close_popup_on_click",
              "double_click_zoom",
              "dragging",
              "fullscreen",
              "inertia",
              "inertia_deceleration",
              "inertia_max_speed",
              "interpolation",
              "keyboard",
              "keyboard_pan_offset",
              "keyboard_zoom_offset",
              "max_zoom",
              "min_zoom",
              "prefer_canvas",
              "scroll_wheel_zoom",
              "tap",
              "tap_tolerance",
              "touch_zoom",
              "world_copy_jump",
              "zoom",
              "zoom_animation_threshold",
              "zoom_delta",
              "zoom_snap"
            ],
            "panes": {},
            "prefer_canvas": false,
            "right": 1474,
            "scroll_wheel_zoom": true,
            "south": -64.47279382008165,
            "style": "IPY_MODEL_610aece413dc4b47a4385b44674dffa7",
            "tap": true,
            "tap_tolerance": 15,
            "top": 154,
            "touch_zoom": true,
            "west": -338.203125,
            "window_url": "https://oe126fti99j-496ff2e9c6d22116-0-colab.googleusercontent.com/outputframe.html?vrz=colab-20230629-060050-RC00_544292008",
            "world_copy_jump": false,
            "zoom": 2,
            "zoom_animation_threshold": 4,
            "zoom_delta": 1,
            "zoom_snap": 1
          }
        },
        "54eafaeb99ed4f118ea7fc92c2988e8b": {
          "model_module": "jupyter-leaflet",
          "model_name": "LeafletWidgetControlModel",
          "model_module_version": "^0.17",
          "state": {
            "_model_module": "jupyter-leaflet",
            "_model_module_version": "^0.17",
            "_model_name": "LeafletWidgetControlModel",
            "_view_count": null,
            "_view_module": "jupyter-leaflet",
            "_view_module_version": "^0.17",
            "_view_name": "LeafletWidgetControlView",
            "max_height": null,
            "max_width": null,
            "min_height": null,
            "min_width": null,
            "options": [
              "position",
              "transparent_bg"
            ],
            "position": "topleft",
            "transparent_bg": false,
            "widget": "IPY_MODEL_7c079de0d0f64b5db4ac180481b30831"
          }
        },
        "4b1f5abeab1e4647852a71ec1095cca3": {
          "model_module": "jupyter-leaflet",
          "model_name": "LeafletZoomControlModel",
          "model_module_version": "^0.17",
          "state": {
            "_model_module": "jupyter-leaflet",
            "_model_module_version": "^0.17",
            "_model_name": "LeafletZoomControlModel",
            "_view_count": null,
            "_view_module": "jupyter-leaflet",
            "_view_module_version": "^0.17",
            "_view_name": "LeafletZoomControlView",
            "options": [
              "position",
              "zoom_in_text",
              "zoom_in_title",
              "zoom_out_text",
              "zoom_out_title"
            ],
            "position": "topleft",
            "zoom_in_text": "+",
            "zoom_in_title": "Zoom in",
            "zoom_out_text": "-",
            "zoom_out_title": "Zoom out"
          }
        },
        "a118392509324780815c9ec030f2f54b": {
          "model_module": "jupyter-leaflet",
          "model_name": "LeafletScaleControlModel",
          "model_module_version": "^0.17",
          "state": {
            "_model_module": "jupyter-leaflet",
            "_model_module_version": "^0.17",
            "_model_name": "LeafletScaleControlModel",
            "_view_count": null,
            "_view_module": "jupyter-leaflet",
            "_view_module_version": "^0.17",
            "_view_name": "LeafletScaleControlView",
            "imperial": true,
            "max_width": 100,
            "metric": true,
            "options": [
              "imperial",
              "max_width",
              "metric",
              "position",
              "update_when_idle"
            ],
            "position": "bottomleft",
            "update_when_idle": false
          }
        },
        "07c0ee51904b48e38152999af9351fca": {
          "model_module": "jupyter-leaflet",
          "model_name": "LeafletFullScreenControlModel",
          "model_module_version": "^0.17",
          "state": {
            "_model_module": "jupyter-leaflet",
            "_model_module_version": "^0.17",
            "_model_name": "LeafletFullScreenControlModel",
            "_view_count": null,
            "_view_module": "jupyter-leaflet",
            "_view_module_version": "^0.17",
            "_view_name": "LeafletFullScreenControlView",
            "options": [
              "position"
            ],
            "position": "topleft"
          }
        },
        "fd39d9c3f38b46d69457ca24fa554358": {
          "model_module": "jupyter-leaflet",
          "model_name": "LeafletMeasureControlModel",
          "model_module_version": "^0.17",
          "state": {
            "_custom_units": {},
            "_model_module": "jupyter-leaflet",
            "_model_module_version": "^0.17",
            "_model_name": "LeafletMeasureControlModel",
            "_view_count": null,
            "_view_module": "jupyter-leaflet",
            "_view_module_version": "^0.17",
            "_view_name": "LeafletMeasureControlView",
            "active_color": "orange",
            "capture_z_index": 10000,
            "completed_color": "#C8F2BE",
            "options": [
              "active_color",
              "capture_z_index",
              "completed_color",
              "popup_options",
              "position",
              "primary_area_unit",
              "primary_length_unit",
              "secondary_area_unit",
              "secondary_length_unit"
            ],
            "popup_options": {
              "className": "leaflet-measure-resultpopup",
              "autoPanPadding": [
                10,
                10
              ]
            },
            "position": "bottomleft",
            "primary_area_unit": "acres",
            "primary_length_unit": "kilometers",
            "secondary_area_unit": null,
            "secondary_length_unit": null
          }
        },
        "f7a339421666488e8b36e3927c5bf368": {
          "model_module": "jupyter-leaflet",
          "model_name": "LeafletAttributionControlModel",
          "model_module_version": "^0.17",
          "state": {
            "_model_module": "jupyter-leaflet",
            "_model_module_version": "^0.17",
            "_model_name": "LeafletAttributionControlModel",
            "_view_count": null,
            "_view_module": "jupyter-leaflet",
            "_view_module_version": "^0.17",
            "_view_name": "LeafletAttributionControlView",
            "options": [
              "position",
              "prefix"
            ],
            "position": "bottomright",
            "prefix": "ipyleaflet"
          }
        },
        "4d62d79faca14792bdcca36130c2d851": {
          "model_module": "jupyter-leaflet",
          "model_name": "LeafletDrawControlModel",
          "model_module_version": "^0.17",
          "state": {
            "_model_module": "jupyter-leaflet",
            "_model_module_version": "^0.17",
            "_model_name": "LeafletDrawControlModel",
            "_view_count": null,
            "_view_module": "jupyter-leaflet",
            "_view_module_version": "^0.17",
            "_view_name": "LeafletDrawControlView",
            "circle": {
              "shapeOptions": {
                "color": "#3388ff"
              }
            },
            "circlemarker": {},
            "data": [],
            "edit": true,
            "marker": {
              "shapeOptions": {
                "color": "#3388ff"
              }
            },
            "options": [
              "position"
            ],
            "polygon": {
              "shapeOptions": {}
            },
            "polyline": {
              "shapeOptions": {}
            },
            "position": "topleft",
            "rectangle": {
              "shapeOptions": {
                "color": "#3388ff"
              }
            },
            "remove": true
          }
        },
        "467e6e050549438ea03f22bb4c6770ad": {
          "model_module": "jupyter-leaflet",
          "model_name": "LeafletWidgetControlModel",
          "model_module_version": "^0.17",
          "state": {
            "_model_module": "jupyter-leaflet",
            "_model_module_version": "^0.17",
            "_model_name": "LeafletWidgetControlModel",
            "_view_count": null,
            "_view_module": "jupyter-leaflet",
            "_view_module_version": "^0.17",
            "_view_name": "LeafletWidgetControlView",
            "max_height": null,
            "max_width": null,
            "min_height": null,
            "min_width": null,
            "options": [
              "position",
              "transparent_bg"
            ],
            "position": "topright",
            "transparent_bg": false,
            "widget": "IPY_MODEL_7933c31f0785430dab355ad9b7e77ea4"
          }
        },
        "6e8acf57ed87454ea7b3c5221099eef4": {
          "model_module": "jupyter-leaflet",
          "model_name": "LeafletMapStyleModel",
          "model_module_version": "^0.17",
          "state": {
            "_model_module": "jupyter-leaflet",
            "_model_module_version": "^0.17",
            "_model_name": "LeafletMapStyleModel",
            "_view_count": null,
            "_view_module": "@jupyter-widgets/base",
            "_view_module_version": "1.2.0",
            "_view_name": "StyleView",
            "cursor": "grab"
          }
        },
        "c5762179208943728ead7d3f76bcf262": {
          "model_module": "jupyter-leaflet",
          "model_name": "LeafletMapStyleModel",
          "model_module_version": "^0.17",
          "state": {
            "_model_module": "jupyter-leaflet",
            "_model_module_version": "^0.17",
            "_model_name": "LeafletMapStyleModel",
            "_view_count": null,
            "_view_module": "@jupyter-widgets/base",
            "_view_module_version": "1.2.0",
            "_view_name": "StyleView",
            "cursor": "move"
          }
        },
        "0c8ee67816df4c828c1d9f84b62fd154": {
          "model_module": "jupyter-leaflet",
          "model_name": "LeafletTileLayerModel",
          "model_module_version": "^0.17",
          "state": {
            "_model_module": "jupyter-leaflet",
            "_model_module_version": "^0.17",
            "_model_name": "LeafletTileLayerModel",
            "_view_count": null,
            "_view_module": "jupyter-leaflet",
            "_view_module_version": "^0.17",
            "_view_name": "LeafletTileLayerView",
            "attribution": "&copy; <a href=\"https://www.openstreetmap.org/copyright\">OpenStreetMap</a> contributors",
            "base": true,
            "bottom": true,
            "bounds": null,
            "detect_retina": false,
            "loading": false,
            "max_native_zoom": null,
            "max_zoom": 19,
            "min_native_zoom": null,
            "min_zoom": 1,
            "name": "OpenStreetMap.Mapnik",
            "no_wrap": false,
            "opacity": 1,
            "options": [
              "attribution",
              "bounds",
              "detect_retina",
              "max_native_zoom",
              "max_zoom",
              "min_native_zoom",
              "min_zoom",
              "no_wrap",
              "tile_size",
              "tms",
              "zoom_offset"
            ],
            "pane": "",
            "popup": null,
            "popup_max_height": null,
            "popup_max_width": 300,
            "popup_min_width": 50,
            "show_loading": false,
            "subitems": [],
            "tile_size": 256,
            "tms": false,
            "url": "https://tile.openstreetmap.org/{z}/{x}/{y}.png",
            "visible": true,
            "zoom_offset": 0
          }
        },
        "50f7273b731e45f89cf7f26948a8ef8d": {
          "model_module": "jupyter-leaflet",
          "model_name": "LeafletTileLayerModel",
          "model_module_version": "^0.17",
          "state": {
            "_model_module": "jupyter-leaflet",
            "_model_module_version": "^0.17",
            "_model_name": "LeafletTileLayerModel",
            "_view_count": null,
            "_view_module": "jupyter-leaflet",
            "_view_module_version": "^0.17",
            "_view_name": "LeafletTileLayerView",
            "attribution": "Google",
            "base": false,
            "bottom": true,
            "bounds": null,
            "detect_retina": false,
            "loading": false,
            "max_native_zoom": null,
            "max_zoom": 24,
            "min_native_zoom": null,
            "min_zoom": 0,
            "name": "Google Maps",
            "no_wrap": false,
            "opacity": 1,
            "options": [
              "attribution",
              "bounds",
              "detect_retina",
              "max_native_zoom",
              "max_zoom",
              "min_native_zoom",
              "min_zoom",
              "no_wrap",
              "tile_size",
              "tms",
              "zoom_offset"
            ],
            "pane": "",
            "popup": null,
            "popup_max_height": null,
            "popup_max_width": 300,
            "popup_min_width": 50,
            "show_loading": false,
            "subitems": [],
            "tile_size": 256,
            "tms": false,
            "url": "https://mt1.google.com/vt/lyrs=m&x={x}&y={y}&z={z}",
            "visible": true,
            "zoom_offset": 0
          }
        },
        "77665e7410ba4d53bc0030639cd18c27": {
          "model_module": "jupyter-leaflet",
          "model_name": "LeafletTileLayerModel",
          "model_module_version": "^0.17",
          "state": {
            "_model_module": "jupyter-leaflet",
            "_model_module_version": "^0.17",
            "_model_name": "LeafletTileLayerModel",
            "_view_count": null,
            "_view_module": "jupyter-leaflet",
            "_view_module_version": "^0.17",
            "_view_name": "LeafletTileLayerView",
            "attribution": "Google Earth Engine",
            "base": false,
            "bottom": true,
            "bounds": null,
            "detect_retina": false,
            "loading": false,
            "max_native_zoom": null,
            "max_zoom": 24,
            "min_native_zoom": null,
            "min_zoom": 0,
            "name": "geopandas to ee",
            "no_wrap": false,
            "opacity": 1,
            "options": [
              "attribution",
              "bounds",
              "detect_retina",
              "max_native_zoom",
              "max_zoom",
              "min_native_zoom",
              "min_zoom",
              "no_wrap",
              "tile_size",
              "tms",
              "zoom_offset"
            ],
            "pane": "",
            "popup": null,
            "popup_max_height": null,
            "popup_max_width": 300,
            "popup_min_width": 50,
            "show_loading": false,
            "subitems": [],
            "tile_size": 256,
            "tms": false,
            "url": "https://earthengine.googleapis.com/v1alpha/projects/earthengine-legacy/maps/ff39ee23e3344bfe768e04ea8801d4bd-b5b45e62d04d04296956243d85f6ffb4/tiles/{z}/{x}/{y}",
            "visible": true,
            "zoom_offset": 0
          }
        },
        "9266294ae6d84bf0a4e64fc9574c438d": {
          "model_module": "@jupyter-widgets/base",
          "model_name": "LayoutModel",
          "model_module_version": "1.2.0",
          "state": {
            "_model_module": "@jupyter-widgets/base",
            "_model_module_version": "1.2.0",
            "_model_name": "LayoutModel",
            "_view_count": null,
            "_view_module": "@jupyter-widgets/base",
            "_view_module_version": "1.2.0",
            "_view_name": "LayoutView",
            "align_content": null,
            "align_items": null,
            "align_self": null,
            "border": null,
            "bottom": null,
            "display": null,
            "flex": null,
            "flex_flow": null,
            "grid_area": null,
            "grid_auto_columns": null,
            "grid_auto_flow": null,
            "grid_auto_rows": null,
            "grid_column": null,
            "grid_gap": null,
            "grid_row": null,
            "grid_template_areas": null,
            "grid_template_columns": null,
            "grid_template_rows": null,
            "height": "600px",
            "justify_content": null,
            "justify_items": null,
            "left": null,
            "margin": null,
            "max_height": null,
            "max_width": null,
            "min_height": null,
            "min_width": null,
            "object_fit": null,
            "object_position": null,
            "order": null,
            "overflow": null,
            "overflow_x": null,
            "overflow_y": null,
            "padding": null,
            "right": null,
            "top": null,
            "visibility": null,
            "width": null
          }
        },
        "610aece413dc4b47a4385b44674dffa7": {
          "model_module": "jupyter-leaflet",
          "model_name": "LeafletMapStyleModel",
          "model_module_version": "^0.17",
          "state": {
            "_model_module": "jupyter-leaflet",
            "_model_module_version": "^0.17",
            "_model_name": "LeafletMapStyleModel",
            "_view_count": null,
            "_view_module": "@jupyter-widgets/base",
            "_view_module_version": "1.2.0",
            "_view_name": "StyleView",
            "cursor": "grab"
          }
        },
        "7c079de0d0f64b5db4ac180481b30831": {
          "model_module": "@jupyter-widgets/controls",
          "model_name": "HBoxModel",
          "model_module_version": "1.5.0",
          "state": {
            "_dom_classes": [],
            "_model_module": "@jupyter-widgets/controls",
            "_model_module_version": "1.5.0",
            "_model_name": "HBoxModel",
            "_view_count": null,
            "_view_module": "@jupyter-widgets/controls",
            "_view_module_version": "1.5.0",
            "_view_name": "HBoxView",
            "box_style": "",
            "children": [
              "IPY_MODEL_8df3bdeb1b3d4b519b522d4992595f84"
            ],
            "layout": "IPY_MODEL_2c6ce41a7a8b45d1b857a233838ef659"
          }
        },
        "7933c31f0785430dab355ad9b7e77ea4": {
          "model_module": "@jupyter-widgets/controls",
          "model_name": "VBoxModel",
          "model_module_version": "1.5.0",
          "state": {
            "_dom_classes": [],
            "_model_module": "@jupyter-widgets/controls",
            "_model_module_version": "1.5.0",
            "_model_name": "VBoxModel",
            "_view_count": null,
            "_view_module": "@jupyter-widgets/controls",
            "_view_module_version": "1.5.0",
            "_view_name": "VBoxView",
            "box_style": "",
            "children": [
              "IPY_MODEL_a42d8d3ef3b342d3ac36277a8b43c824"
            ],
            "layout": "IPY_MODEL_fde68f24f40848c1935441e05c87577b"
          }
        },
        "8df3bdeb1b3d4b519b522d4992595f84": {
          "model_module": "@jupyter-widgets/controls",
          "model_name": "ToggleButtonModel",
          "model_module_version": "1.5.0",
          "state": {
            "_dom_classes": [],
            "_model_module": "@jupyter-widgets/controls",
            "_model_module_version": "1.5.0",
            "_model_name": "ToggleButtonModel",
            "_view_count": null,
            "_view_module": "@jupyter-widgets/controls",
            "_view_module_version": "1.5.0",
            "_view_name": "ToggleButtonView",
            "button_style": "",
            "description": "",
            "description_tooltip": null,
            "disabled": false,
            "icon": "globe",
            "layout": "IPY_MODEL_eae3a0e8520b4efb9963b0c30b32ad5c",
            "style": "IPY_MODEL_f346b487327245f49dcc8a1d3e403184",
            "tooltip": "Search location/data",
            "value": false
          }
        },
        "2c6ce41a7a8b45d1b857a233838ef659": {
          "model_module": "@jupyter-widgets/base",
          "model_name": "LayoutModel",
          "model_module_version": "1.2.0",
          "state": {
            "_model_module": "@jupyter-widgets/base",
            "_model_module_version": "1.2.0",
            "_model_name": "LayoutModel",
            "_view_count": null,
            "_view_module": "@jupyter-widgets/base",
            "_view_module_version": "1.2.0",
            "_view_name": "LayoutView",
            "align_content": null,
            "align_items": null,
            "align_self": null,
            "border": null,
            "bottom": null,
            "display": null,
            "flex": null,
            "flex_flow": null,
            "grid_area": null,
            "grid_auto_columns": null,
            "grid_auto_flow": null,
            "grid_auto_rows": null,
            "grid_column": null,
            "grid_gap": null,
            "grid_row": null,
            "grid_template_areas": null,
            "grid_template_columns": null,
            "grid_template_rows": null,
            "height": null,
            "justify_content": null,
            "justify_items": null,
            "left": null,
            "margin": null,
            "max_height": null,
            "max_width": null,
            "min_height": null,
            "min_width": null,
            "object_fit": null,
            "object_position": null,
            "order": null,
            "overflow": null,
            "overflow_x": null,
            "overflow_y": null,
            "padding": null,
            "right": null,
            "top": null,
            "visibility": null,
            "width": null
          }
        },
        "a42d8d3ef3b342d3ac36277a8b43c824": {
          "model_module": "@jupyter-widgets/controls",
          "model_name": "ToggleButtonModel",
          "model_module_version": "1.5.0",
          "state": {
            "_dom_classes": [],
            "_model_module": "@jupyter-widgets/controls",
            "_model_module_version": "1.5.0",
            "_model_name": "ToggleButtonModel",
            "_view_count": null,
            "_view_module": "@jupyter-widgets/controls",
            "_view_module_version": "1.5.0",
            "_view_name": "ToggleButtonView",
            "button_style": "",
            "description": "",
            "description_tooltip": null,
            "disabled": false,
            "icon": "wrench",
            "layout": "IPY_MODEL_5608a363721e422091828d407f8b0579",
            "style": "IPY_MODEL_de95bee7619d4fb8bd2e1e65b425a17f",
            "tooltip": "Toolbar",
            "value": false
          }
        },
        "fde68f24f40848c1935441e05c87577b": {
          "model_module": "@jupyter-widgets/base",
          "model_name": "LayoutModel",
          "model_module_version": "1.2.0",
          "state": {
            "_model_module": "@jupyter-widgets/base",
            "_model_module_version": "1.2.0",
            "_model_name": "LayoutModel",
            "_view_count": null,
            "_view_module": "@jupyter-widgets/base",
            "_view_module_version": "1.2.0",
            "_view_name": "LayoutView",
            "align_content": null,
            "align_items": null,
            "align_self": null,
            "border": null,
            "bottom": null,
            "display": null,
            "flex": null,
            "flex_flow": null,
            "grid_area": null,
            "grid_auto_columns": null,
            "grid_auto_flow": null,
            "grid_auto_rows": null,
            "grid_column": null,
            "grid_gap": null,
            "grid_row": null,
            "grid_template_areas": null,
            "grid_template_columns": null,
            "grid_template_rows": null,
            "height": null,
            "justify_content": null,
            "justify_items": null,
            "left": null,
            "margin": null,
            "max_height": null,
            "max_width": null,
            "min_height": null,
            "min_width": null,
            "object_fit": null,
            "object_position": null,
            "order": null,
            "overflow": null,
            "overflow_x": null,
            "overflow_y": null,
            "padding": null,
            "right": null,
            "top": null,
            "visibility": null,
            "width": null
          }
        },
        "eae3a0e8520b4efb9963b0c30b32ad5c": {
          "model_module": "@jupyter-widgets/base",
          "model_name": "LayoutModel",
          "model_module_version": "1.2.0",
          "state": {
            "_model_module": "@jupyter-widgets/base",
            "_model_module_version": "1.2.0",
            "_model_name": "LayoutModel",
            "_view_count": null,
            "_view_module": "@jupyter-widgets/base",
            "_view_module_version": "1.2.0",
            "_view_name": "LayoutView",
            "align_content": null,
            "align_items": null,
            "align_self": null,
            "border": null,
            "bottom": null,
            "display": null,
            "flex": null,
            "flex_flow": null,
            "grid_area": null,
            "grid_auto_columns": null,
            "grid_auto_flow": null,
            "grid_auto_rows": null,
            "grid_column": null,
            "grid_gap": null,
            "grid_row": null,
            "grid_template_areas": null,
            "grid_template_columns": null,
            "grid_template_rows": null,
            "height": "28px",
            "justify_content": null,
            "justify_items": null,
            "left": null,
            "margin": null,
            "max_height": null,
            "max_width": null,
            "min_height": null,
            "min_width": null,
            "object_fit": null,
            "object_position": null,
            "order": null,
            "overflow": null,
            "overflow_x": null,
            "overflow_y": null,
            "padding": "0px 0px 0px 4px",
            "right": null,
            "top": null,
            "visibility": null,
            "width": "28px"
          }
        },
        "f346b487327245f49dcc8a1d3e403184": {
          "model_module": "@jupyter-widgets/controls",
          "model_name": "DescriptionStyleModel",
          "model_module_version": "1.5.0",
          "state": {
            "_model_module": "@jupyter-widgets/controls",
            "_model_module_version": "1.5.0",
            "_model_name": "DescriptionStyleModel",
            "_view_count": null,
            "_view_module": "@jupyter-widgets/base",
            "_view_module_version": "1.2.0",
            "_view_name": "StyleView",
            "description_width": ""
          }
        },
        "5608a363721e422091828d407f8b0579": {
          "model_module": "@jupyter-widgets/base",
          "model_name": "LayoutModel",
          "model_module_version": "1.2.0",
          "state": {
            "_model_module": "@jupyter-widgets/base",
            "_model_module_version": "1.2.0",
            "_model_name": "LayoutModel",
            "_view_count": null,
            "_view_module": "@jupyter-widgets/base",
            "_view_module_version": "1.2.0",
            "_view_name": "LayoutView",
            "align_content": null,
            "align_items": null,
            "align_self": null,
            "border": null,
            "bottom": null,
            "display": null,
            "flex": null,
            "flex_flow": null,
            "grid_area": null,
            "grid_auto_columns": null,
            "grid_auto_flow": null,
            "grid_auto_rows": null,
            "grid_column": null,
            "grid_gap": null,
            "grid_row": null,
            "grid_template_areas": null,
            "grid_template_columns": null,
            "grid_template_rows": null,
            "height": "28px",
            "justify_content": null,
            "justify_items": null,
            "left": null,
            "margin": null,
            "max_height": null,
            "max_width": null,
            "min_height": null,
            "min_width": null,
            "object_fit": null,
            "object_position": null,
            "order": null,
            "overflow": null,
            "overflow_x": null,
            "overflow_y": null,
            "padding": "0px 0px 0px 4px",
            "right": null,
            "top": null,
            "visibility": null,
            "width": "28px"
          }
        },
        "de95bee7619d4fb8bd2e1e65b425a17f": {
          "model_module": "@jupyter-widgets/controls",
          "model_name": "DescriptionStyleModel",
          "model_module_version": "1.5.0",
          "state": {
            "_model_module": "@jupyter-widgets/controls",
            "_model_module_version": "1.5.0",
            "_model_name": "DescriptionStyleModel",
            "_view_count": null,
            "_view_module": "@jupyter-widgets/base",
            "_view_module_version": "1.2.0",
            "_view_name": "StyleView",
            "description_width": ""
          }
        },
        "a83e49dff172463c93806b213c8d531c": {
          "model_module": "jupyter-leaflet",
          "model_name": "LeafletMapModel",
          "model_module_version": "^0.17",
          "state": {
            "_dom_classes": [],
            "_model_module": "jupyter-leaflet",
            "_model_module_version": "^0.17",
            "_model_name": "LeafletMapModel",
            "_view_count": null,
            "_view_module": "jupyter-leaflet",
            "_view_module_version": "^0.17",
            "_view_name": "LeafletMapView",
            "bottom": 40657,
            "bounce_at_zoom_limits": true,
            "box_zoom": true,
            "center": [
              -38.43207668538205,
              -63.53668212890626
            ],
            "close_popup_on_click": true,
            "controls": [
              "IPY_MODEL_5d5f6b3fab7e467594d524c174f2a1c1",
              "IPY_MODEL_1658b62d723d4ab8b6c4b5ab50fb0b06",
              "IPY_MODEL_40c4a60b80954655b8465f41408869d7",
              "IPY_MODEL_29d445f8ca6643cb944c22bc41e5c49f",
              "IPY_MODEL_d17fdbc4b6154c9087d5075a66aa3d0d",
              "IPY_MODEL_44da4b41ae574c5cbf39625b4d7b06b0",
              "IPY_MODEL_6aa5699c11ee44728f93f07185737719",
              "IPY_MODEL_944bc14504ae4a52bbc11b6b5c2a60c3"
            ],
            "crs": {
              "name": "EPSG3857",
              "custom": false
            },
            "default_style": "IPY_MODEL_e852dc926b364d31824046de9f185a5c",
            "double_click_zoom": true,
            "dragging": true,
            "dragging_style": "IPY_MODEL_abdb2f5457024c4089bbe4b9f3453918",
            "east": -59.08447265625,
            "fullscreen": false,
            "inertia": true,
            "inertia_deceleration": 3000,
            "inertia_max_speed": 1500,
            "interpolation": "bilinear",
            "keyboard": true,
            "keyboard_pan_offset": 80,
            "keyboard_zoom_offset": 1,
            "layers": [
              "IPY_MODEL_fda4ba33cd964231a1ffe1766bf1fb40",
              "IPY_MODEL_dea75528fe65403dab05f893c00bc9cc",
              "IPY_MODEL_c3be61944141452e8f9a2f58bc87c07b"
            ],
            "layout": "IPY_MODEL_0f05a2a5e01948ad8135c2c323cba910",
            "left": 20391,
            "max_zoom": 24,
            "min_zoom": null,
            "modisdate": "2023-07-02",
            "north": -37.12966595484083,
            "options": [
              "bounce_at_zoom_limits",
              "box_zoom",
              "center",
              "close_popup_on_click",
              "double_click_zoom",
              "dragging",
              "fullscreen",
              "inertia",
              "inertia_deceleration",
              "inertia_max_speed",
              "interpolation",
              "keyboard",
              "keyboard_pan_offset",
              "keyboard_zoom_offset",
              "max_zoom",
              "min_zoom",
              "prefer_canvas",
              "scroll_wheel_zoom",
              "tap",
              "tap_tolerance",
              "touch_zoom",
              "world_copy_jump",
              "zoom",
              "zoom_animation_threshold",
              "zoom_delta",
              "zoom_snap"
            ],
            "panes": {},
            "prefer_canvas": false,
            "right": 22012,
            "scroll_wheel_zoom": true,
            "south": -39.71141252523692,
            "style": "IPY_MODEL_e852dc926b364d31824046de9f185a5c",
            "tap": true,
            "tap_tolerance": 15,
            "top": 40057,
            "touch_zoom": true,
            "west": -67.98889160156251,
            "window_url": "https://j0et8yrrwk-496ff2e9c6d22116-0-colab.googleusercontent.com/outputframe.html?vrz=colab-20230629-060050-RC00_544292008",
            "world_copy_jump": false,
            "zoom": 8,
            "zoom_animation_threshold": 4,
            "zoom_delta": 1,
            "zoom_snap": 1
          }
        },
        "5d5f6b3fab7e467594d524c174f2a1c1": {
          "model_module": "jupyter-leaflet",
          "model_name": "LeafletWidgetControlModel",
          "model_module_version": "^0.17",
          "state": {
            "_model_module": "jupyter-leaflet",
            "_model_module_version": "^0.17",
            "_model_name": "LeafletWidgetControlModel",
            "_view_count": null,
            "_view_module": "jupyter-leaflet",
            "_view_module_version": "^0.17",
            "_view_name": "LeafletWidgetControlView",
            "max_height": null,
            "max_width": null,
            "min_height": null,
            "min_width": null,
            "options": [
              "position",
              "transparent_bg"
            ],
            "position": "topleft",
            "transparent_bg": false,
            "widget": "IPY_MODEL_78bc2262af1d4d66a680c1f6321754e4"
          }
        },
        "1658b62d723d4ab8b6c4b5ab50fb0b06": {
          "model_module": "jupyter-leaflet",
          "model_name": "LeafletZoomControlModel",
          "model_module_version": "^0.17",
          "state": {
            "_model_module": "jupyter-leaflet",
            "_model_module_version": "^0.17",
            "_model_name": "LeafletZoomControlModel",
            "_view_count": null,
            "_view_module": "jupyter-leaflet",
            "_view_module_version": "^0.17",
            "_view_name": "LeafletZoomControlView",
            "options": [
              "position",
              "zoom_in_text",
              "zoom_in_title",
              "zoom_out_text",
              "zoom_out_title"
            ],
            "position": "topleft",
            "zoom_in_text": "+",
            "zoom_in_title": "Zoom in",
            "zoom_out_text": "-",
            "zoom_out_title": "Zoom out"
          }
        },
        "40c4a60b80954655b8465f41408869d7": {
          "model_module": "jupyter-leaflet",
          "model_name": "LeafletScaleControlModel",
          "model_module_version": "^0.17",
          "state": {
            "_model_module": "jupyter-leaflet",
            "_model_module_version": "^0.17",
            "_model_name": "LeafletScaleControlModel",
            "_view_count": null,
            "_view_module": "jupyter-leaflet",
            "_view_module_version": "^0.17",
            "_view_name": "LeafletScaleControlView",
            "imperial": true,
            "max_width": 100,
            "metric": true,
            "options": [
              "imperial",
              "max_width",
              "metric",
              "position",
              "update_when_idle"
            ],
            "position": "bottomleft",
            "update_when_idle": false
          }
        },
        "29d445f8ca6643cb944c22bc41e5c49f": {
          "model_module": "jupyter-leaflet",
          "model_name": "LeafletFullScreenControlModel",
          "model_module_version": "^0.17",
          "state": {
            "_model_module": "jupyter-leaflet",
            "_model_module_version": "^0.17",
            "_model_name": "LeafletFullScreenControlModel",
            "_view_count": null,
            "_view_module": "jupyter-leaflet",
            "_view_module_version": "^0.17",
            "_view_name": "LeafletFullScreenControlView",
            "options": [
              "position"
            ],
            "position": "topleft"
          }
        },
        "d17fdbc4b6154c9087d5075a66aa3d0d": {
          "model_module": "jupyter-leaflet",
          "model_name": "LeafletMeasureControlModel",
          "model_module_version": "^0.17",
          "state": {
            "_custom_units": {},
            "_model_module": "jupyter-leaflet",
            "_model_module_version": "^0.17",
            "_model_name": "LeafletMeasureControlModel",
            "_view_count": null,
            "_view_module": "jupyter-leaflet",
            "_view_module_version": "^0.17",
            "_view_name": "LeafletMeasureControlView",
            "active_color": "orange",
            "capture_z_index": 10000,
            "completed_color": "#C8F2BE",
            "options": [
              "active_color",
              "capture_z_index",
              "completed_color",
              "popup_options",
              "position",
              "primary_area_unit",
              "primary_length_unit",
              "secondary_area_unit",
              "secondary_length_unit"
            ],
            "popup_options": {
              "className": "leaflet-measure-resultpopup",
              "autoPanPadding": [
                10,
                10
              ]
            },
            "position": "bottomleft",
            "primary_area_unit": "acres",
            "primary_length_unit": "kilometers",
            "secondary_area_unit": null,
            "secondary_length_unit": null
          }
        },
        "44da4b41ae574c5cbf39625b4d7b06b0": {
          "model_module": "jupyter-leaflet",
          "model_name": "LeafletAttributionControlModel",
          "model_module_version": "^0.17",
          "state": {
            "_model_module": "jupyter-leaflet",
            "_model_module_version": "^0.17",
            "_model_name": "LeafletAttributionControlModel",
            "_view_count": null,
            "_view_module": "jupyter-leaflet",
            "_view_module_version": "^0.17",
            "_view_name": "LeafletAttributionControlView",
            "options": [
              "position",
              "prefix"
            ],
            "position": "bottomright",
            "prefix": "ipyleaflet"
          }
        },
        "6aa5699c11ee44728f93f07185737719": {
          "model_module": "jupyter-leaflet",
          "model_name": "LeafletDrawControlModel",
          "model_module_version": "^0.17",
          "state": {
            "_model_module": "jupyter-leaflet",
            "_model_module_version": "^0.17",
            "_model_name": "LeafletDrawControlModel",
            "_view_count": null,
            "_view_module": "jupyter-leaflet",
            "_view_module_version": "^0.17",
            "_view_name": "LeafletDrawControlView",
            "circle": {
              "shapeOptions": {
                "color": "#3388ff"
              }
            },
            "circlemarker": {},
            "data": [],
            "edit": true,
            "marker": {
              "shapeOptions": {
                "color": "#3388ff"
              }
            },
            "options": [
              "position"
            ],
            "polygon": {
              "shapeOptions": {}
            },
            "polyline": {
              "shapeOptions": {}
            },
            "position": "topleft",
            "rectangle": {
              "shapeOptions": {
                "color": "#3388ff"
              }
            },
            "remove": true
          }
        },
        "944bc14504ae4a52bbc11b6b5c2a60c3": {
          "model_module": "jupyter-leaflet",
          "model_name": "LeafletWidgetControlModel",
          "model_module_version": "^0.17",
          "state": {
            "_model_module": "jupyter-leaflet",
            "_model_module_version": "^0.17",
            "_model_name": "LeafletWidgetControlModel",
            "_view_count": null,
            "_view_module": "jupyter-leaflet",
            "_view_module_version": "^0.17",
            "_view_name": "LeafletWidgetControlView",
            "max_height": null,
            "max_width": null,
            "min_height": null,
            "min_width": null,
            "options": [
              "position",
              "transparent_bg"
            ],
            "position": "topright",
            "transparent_bg": false,
            "widget": "IPY_MODEL_ae2e64f280e04ca2ade5f05c38d50d32"
          }
        },
        "e852dc926b364d31824046de9f185a5c": {
          "model_module": "jupyter-leaflet",
          "model_name": "LeafletMapStyleModel",
          "model_module_version": "^0.17",
          "state": {
            "_model_module": "jupyter-leaflet",
            "_model_module_version": "^0.17",
            "_model_name": "LeafletMapStyleModel",
            "_view_count": null,
            "_view_module": "@jupyter-widgets/base",
            "_view_module_version": "1.2.0",
            "_view_name": "StyleView",
            "cursor": "grab"
          }
        },
        "abdb2f5457024c4089bbe4b9f3453918": {
          "model_module": "jupyter-leaflet",
          "model_name": "LeafletMapStyleModel",
          "model_module_version": "^0.17",
          "state": {
            "_model_module": "jupyter-leaflet",
            "_model_module_version": "^0.17",
            "_model_name": "LeafletMapStyleModel",
            "_view_count": null,
            "_view_module": "@jupyter-widgets/base",
            "_view_module_version": "1.2.0",
            "_view_name": "StyleView",
            "cursor": "move"
          }
        },
        "fda4ba33cd964231a1ffe1766bf1fb40": {
          "model_module": "jupyter-leaflet",
          "model_name": "LeafletTileLayerModel",
          "model_module_version": "^0.17",
          "state": {
            "_model_module": "jupyter-leaflet",
            "_model_module_version": "^0.17",
            "_model_name": "LeafletTileLayerModel",
            "_view_count": null,
            "_view_module": "jupyter-leaflet",
            "_view_module_version": "^0.17",
            "_view_name": "LeafletTileLayerView",
            "attribution": "&copy; <a href=\"https://www.openstreetmap.org/copyright\">OpenStreetMap</a> contributors",
            "base": true,
            "bottom": true,
            "bounds": null,
            "detect_retina": false,
            "loading": false,
            "max_native_zoom": null,
            "max_zoom": 19,
            "min_native_zoom": null,
            "min_zoom": 1,
            "name": "OpenStreetMap.Mapnik",
            "no_wrap": false,
            "opacity": 1,
            "options": [
              "attribution",
              "bounds",
              "detect_retina",
              "max_native_zoom",
              "max_zoom",
              "min_native_zoom",
              "min_zoom",
              "no_wrap",
              "tile_size",
              "tms",
              "zoom_offset"
            ],
            "pane": "",
            "popup": null,
            "popup_max_height": null,
            "popup_max_width": 300,
            "popup_min_width": 50,
            "show_loading": false,
            "subitems": [],
            "tile_size": 256,
            "tms": false,
            "url": "https://tile.openstreetmap.org/{z}/{x}/{y}.png",
            "visible": true,
            "zoom_offset": 0
          }
        },
        "dea75528fe65403dab05f893c00bc9cc": {
          "model_module": "jupyter-leaflet",
          "model_name": "LeafletTileLayerModel",
          "model_module_version": "^0.17",
          "state": {
            "_model_module": "jupyter-leaflet",
            "_model_module_version": "^0.17",
            "_model_name": "LeafletTileLayerModel",
            "_view_count": null,
            "_view_module": "jupyter-leaflet",
            "_view_module_version": "^0.17",
            "_view_name": "LeafletTileLayerView",
            "attribution": "Google",
            "base": false,
            "bottom": true,
            "bounds": null,
            "detect_retina": false,
            "loading": false,
            "max_native_zoom": null,
            "max_zoom": 24,
            "min_native_zoom": null,
            "min_zoom": 0,
            "name": "Google Maps",
            "no_wrap": false,
            "opacity": 1,
            "options": [
              "attribution",
              "bounds",
              "detect_retina",
              "max_native_zoom",
              "max_zoom",
              "min_native_zoom",
              "min_zoom",
              "no_wrap",
              "tile_size",
              "tms",
              "zoom_offset"
            ],
            "pane": "",
            "popup": null,
            "popup_max_height": null,
            "popup_max_width": 300,
            "popup_min_width": 50,
            "show_loading": false,
            "subitems": [],
            "tile_size": 256,
            "tms": false,
            "url": "https://mt1.google.com/vt/lyrs=m&x={x}&y={y}&z={z}",
            "visible": true,
            "zoom_offset": 0
          }
        },
        "0f05a2a5e01948ad8135c2c323cba910": {
          "model_module": "@jupyter-widgets/base",
          "model_name": "LayoutModel",
          "model_module_version": "1.2.0",
          "state": {
            "_model_module": "@jupyter-widgets/base",
            "_model_module_version": "1.2.0",
            "_model_name": "LayoutModel",
            "_view_count": null,
            "_view_module": "@jupyter-widgets/base",
            "_view_module_version": "1.2.0",
            "_view_name": "LayoutView",
            "align_content": null,
            "align_items": null,
            "align_self": null,
            "border": null,
            "bottom": null,
            "display": null,
            "flex": null,
            "flex_flow": null,
            "grid_area": null,
            "grid_auto_columns": null,
            "grid_auto_flow": null,
            "grid_auto_rows": null,
            "grid_column": null,
            "grid_gap": null,
            "grid_row": null,
            "grid_template_areas": null,
            "grid_template_columns": null,
            "grid_template_rows": null,
            "height": "600px",
            "justify_content": null,
            "justify_items": null,
            "left": null,
            "margin": null,
            "max_height": null,
            "max_width": null,
            "min_height": null,
            "min_width": null,
            "object_fit": null,
            "object_position": null,
            "order": null,
            "overflow": null,
            "overflow_x": null,
            "overflow_y": null,
            "padding": null,
            "right": null,
            "top": null,
            "visibility": null,
            "width": null
          }
        },
        "f7e851f443aa409c8621ae5bd0b2f864": {
          "model_module": "jupyter-leaflet",
          "model_name": "LeafletMapStyleModel",
          "model_module_version": "^0.17",
          "state": {
            "_model_module": "jupyter-leaflet",
            "_model_module_version": "^0.17",
            "_model_name": "LeafletMapStyleModel",
            "_view_count": null,
            "_view_module": "@jupyter-widgets/base",
            "_view_module_version": "1.2.0",
            "_view_name": "StyleView",
            "cursor": "grab"
          }
        },
        "78bc2262af1d4d66a680c1f6321754e4": {
          "model_module": "@jupyter-widgets/controls",
          "model_name": "HBoxModel",
          "model_module_version": "1.5.0",
          "state": {
            "_dom_classes": [],
            "_model_module": "@jupyter-widgets/controls",
            "_model_module_version": "1.5.0",
            "_model_name": "HBoxModel",
            "_view_count": null,
            "_view_module": "@jupyter-widgets/controls",
            "_view_module_version": "1.5.0",
            "_view_name": "HBoxView",
            "box_style": "",
            "children": [
              "IPY_MODEL_26ebb7ea95964971bf2446d3d4a56845"
            ],
            "layout": "IPY_MODEL_59490f6e666b4ea698bb92292e100571"
          }
        },
        "ae2e64f280e04ca2ade5f05c38d50d32": {
          "model_module": "@jupyter-widgets/controls",
          "model_name": "VBoxModel",
          "model_module_version": "1.5.0",
          "state": {
            "_dom_classes": [],
            "_model_module": "@jupyter-widgets/controls",
            "_model_module_version": "1.5.0",
            "_model_name": "VBoxModel",
            "_view_count": null,
            "_view_module": "@jupyter-widgets/controls",
            "_view_module_version": "1.5.0",
            "_view_name": "VBoxView",
            "box_style": "",
            "children": [
              "IPY_MODEL_f07fbb99ef5841f2b7da1b7d60d3f0a5"
            ],
            "layout": "IPY_MODEL_35b8de4be3e843d39d3cadabbb549628"
          }
        },
        "26ebb7ea95964971bf2446d3d4a56845": {
          "model_module": "@jupyter-widgets/controls",
          "model_name": "ToggleButtonModel",
          "model_module_version": "1.5.0",
          "state": {
            "_dom_classes": [],
            "_model_module": "@jupyter-widgets/controls",
            "_model_module_version": "1.5.0",
            "_model_name": "ToggleButtonModel",
            "_view_count": null,
            "_view_module": "@jupyter-widgets/controls",
            "_view_module_version": "1.5.0",
            "_view_name": "ToggleButtonView",
            "button_style": "",
            "description": "",
            "description_tooltip": null,
            "disabled": false,
            "icon": "globe",
            "layout": "IPY_MODEL_e0d442b3519a4985a2ce70a285ca4298",
            "style": "IPY_MODEL_522b69bf3057429fa2ef7cf2c8a4fcf0",
            "tooltip": "Search location/data",
            "value": false
          }
        },
        "59490f6e666b4ea698bb92292e100571": {
          "model_module": "@jupyter-widgets/base",
          "model_name": "LayoutModel",
          "model_module_version": "1.2.0",
          "state": {
            "_model_module": "@jupyter-widgets/base",
            "_model_module_version": "1.2.0",
            "_model_name": "LayoutModel",
            "_view_count": null,
            "_view_module": "@jupyter-widgets/base",
            "_view_module_version": "1.2.0",
            "_view_name": "LayoutView",
            "align_content": null,
            "align_items": null,
            "align_self": null,
            "border": null,
            "bottom": null,
            "display": null,
            "flex": null,
            "flex_flow": null,
            "grid_area": null,
            "grid_auto_columns": null,
            "grid_auto_flow": null,
            "grid_auto_rows": null,
            "grid_column": null,
            "grid_gap": null,
            "grid_row": null,
            "grid_template_areas": null,
            "grid_template_columns": null,
            "grid_template_rows": null,
            "height": null,
            "justify_content": null,
            "justify_items": null,
            "left": null,
            "margin": null,
            "max_height": null,
            "max_width": null,
            "min_height": null,
            "min_width": null,
            "object_fit": null,
            "object_position": null,
            "order": null,
            "overflow": null,
            "overflow_x": null,
            "overflow_y": null,
            "padding": null,
            "right": null,
            "top": null,
            "visibility": null,
            "width": null
          }
        },
        "f07fbb99ef5841f2b7da1b7d60d3f0a5": {
          "model_module": "@jupyter-widgets/controls",
          "model_name": "ToggleButtonModel",
          "model_module_version": "1.5.0",
          "state": {
            "_dom_classes": [],
            "_model_module": "@jupyter-widgets/controls",
            "_model_module_version": "1.5.0",
            "_model_name": "ToggleButtonModel",
            "_view_count": null,
            "_view_module": "@jupyter-widgets/controls",
            "_view_module_version": "1.5.0",
            "_view_name": "ToggleButtonView",
            "button_style": "",
            "description": "",
            "description_tooltip": null,
            "disabled": false,
            "icon": "wrench",
            "layout": "IPY_MODEL_3f0efa777ae240bb89fa7ed21f633850",
            "style": "IPY_MODEL_866243abeae94a05a513fe395211c0eb",
            "tooltip": "Toolbar",
            "value": false
          }
        },
        "35b8de4be3e843d39d3cadabbb549628": {
          "model_module": "@jupyter-widgets/base",
          "model_name": "LayoutModel",
          "model_module_version": "1.2.0",
          "state": {
            "_model_module": "@jupyter-widgets/base",
            "_model_module_version": "1.2.0",
            "_model_name": "LayoutModel",
            "_view_count": null,
            "_view_module": "@jupyter-widgets/base",
            "_view_module_version": "1.2.0",
            "_view_name": "LayoutView",
            "align_content": null,
            "align_items": null,
            "align_self": null,
            "border": null,
            "bottom": null,
            "display": null,
            "flex": null,
            "flex_flow": null,
            "grid_area": null,
            "grid_auto_columns": null,
            "grid_auto_flow": null,
            "grid_auto_rows": null,
            "grid_column": null,
            "grid_gap": null,
            "grid_row": null,
            "grid_template_areas": null,
            "grid_template_columns": null,
            "grid_template_rows": null,
            "height": null,
            "justify_content": null,
            "justify_items": null,
            "left": null,
            "margin": null,
            "max_height": null,
            "max_width": null,
            "min_height": null,
            "min_width": null,
            "object_fit": null,
            "object_position": null,
            "order": null,
            "overflow": null,
            "overflow_x": null,
            "overflow_y": null,
            "padding": null,
            "right": null,
            "top": null,
            "visibility": null,
            "width": null
          }
        },
        "e0d442b3519a4985a2ce70a285ca4298": {
          "model_module": "@jupyter-widgets/base",
          "model_name": "LayoutModel",
          "model_module_version": "1.2.0",
          "state": {
            "_model_module": "@jupyter-widgets/base",
            "_model_module_version": "1.2.0",
            "_model_name": "LayoutModel",
            "_view_count": null,
            "_view_module": "@jupyter-widgets/base",
            "_view_module_version": "1.2.0",
            "_view_name": "LayoutView",
            "align_content": null,
            "align_items": null,
            "align_self": null,
            "border": null,
            "bottom": null,
            "display": null,
            "flex": null,
            "flex_flow": null,
            "grid_area": null,
            "grid_auto_columns": null,
            "grid_auto_flow": null,
            "grid_auto_rows": null,
            "grid_column": null,
            "grid_gap": null,
            "grid_row": null,
            "grid_template_areas": null,
            "grid_template_columns": null,
            "grid_template_rows": null,
            "height": "28px",
            "justify_content": null,
            "justify_items": null,
            "left": null,
            "margin": null,
            "max_height": null,
            "max_width": null,
            "min_height": null,
            "min_width": null,
            "object_fit": null,
            "object_position": null,
            "order": null,
            "overflow": null,
            "overflow_x": null,
            "overflow_y": null,
            "padding": "0px 0px 0px 4px",
            "right": null,
            "top": null,
            "visibility": null,
            "width": "28px"
          }
        },
        "522b69bf3057429fa2ef7cf2c8a4fcf0": {
          "model_module": "@jupyter-widgets/controls",
          "model_name": "DescriptionStyleModel",
          "model_module_version": "1.5.0",
          "state": {
            "_model_module": "@jupyter-widgets/controls",
            "_model_module_version": "1.5.0",
            "_model_name": "DescriptionStyleModel",
            "_view_count": null,
            "_view_module": "@jupyter-widgets/base",
            "_view_module_version": "1.2.0",
            "_view_name": "StyleView",
            "description_width": ""
          }
        },
        "3f0efa777ae240bb89fa7ed21f633850": {
          "model_module": "@jupyter-widgets/base",
          "model_name": "LayoutModel",
          "model_module_version": "1.2.0",
          "state": {
            "_model_module": "@jupyter-widgets/base",
            "_model_module_version": "1.2.0",
            "_model_name": "LayoutModel",
            "_view_count": null,
            "_view_module": "@jupyter-widgets/base",
            "_view_module_version": "1.2.0",
            "_view_name": "LayoutView",
            "align_content": null,
            "align_items": null,
            "align_self": null,
            "border": null,
            "bottom": null,
            "display": null,
            "flex": null,
            "flex_flow": null,
            "grid_area": null,
            "grid_auto_columns": null,
            "grid_auto_flow": null,
            "grid_auto_rows": null,
            "grid_column": null,
            "grid_gap": null,
            "grid_row": null,
            "grid_template_areas": null,
            "grid_template_columns": null,
            "grid_template_rows": null,
            "height": "28px",
            "justify_content": null,
            "justify_items": null,
            "left": null,
            "margin": null,
            "max_height": null,
            "max_width": null,
            "min_height": null,
            "min_width": null,
            "object_fit": null,
            "object_position": null,
            "order": null,
            "overflow": null,
            "overflow_x": null,
            "overflow_y": null,
            "padding": "0px 0px 0px 4px",
            "right": null,
            "top": null,
            "visibility": null,
            "width": "28px"
          }
        },
        "866243abeae94a05a513fe395211c0eb": {
          "model_module": "@jupyter-widgets/controls",
          "model_name": "DescriptionStyleModel",
          "model_module_version": "1.5.0",
          "state": {
            "_model_module": "@jupyter-widgets/controls",
            "_model_module_version": "1.5.0",
            "_model_name": "DescriptionStyleModel",
            "_view_count": null,
            "_view_module": "@jupyter-widgets/base",
            "_view_module_version": "1.2.0",
            "_view_name": "StyleView",
            "description_width": ""
          }
        },
        "c3be61944141452e8f9a2f58bc87c07b": {
          "model_module": "jupyter-leaflet",
          "model_name": "LeafletTileLayerModel",
          "model_module_version": "^0.17",
          "state": {
            "_model_module": "jupyter-leaflet",
            "_model_module_version": "^0.17",
            "_model_name": "LeafletTileLayerModel",
            "_view_count": null,
            "_view_module": "jupyter-leaflet",
            "_view_module_version": "^0.17",
            "_view_name": "LeafletTileLayerView",
            "attribution": "Google Earth Engine",
            "base": false,
            "bottom": true,
            "bounds": null,
            "detect_retina": false,
            "loading": false,
            "max_native_zoom": null,
            "max_zoom": 24,
            "min_native_zoom": null,
            "min_zoom": 0,
            "name": "Polygon",
            "no_wrap": false,
            "opacity": 1,
            "options": [
              "attribution",
              "bounds",
              "detect_retina",
              "max_native_zoom",
              "max_zoom",
              "min_native_zoom",
              "min_zoom",
              "no_wrap",
              "tile_size",
              "tms",
              "zoom_offset"
            ],
            "pane": "",
            "popup": null,
            "popup_max_height": null,
            "popup_max_width": 300,
            "popup_min_width": 50,
            "show_loading": false,
            "subitems": [],
            "tile_size": 256,
            "tms": false,
            "url": "https://earthengine.googleapis.com/v1alpha/projects/earthengine-legacy/maps/b0c396b4e4549d27310086caa52748f6-f967d6cabaa90145c20c3b939c0690bf/tiles/{z}/{x}/{y}",
            "visible": true,
            "zoom_offset": 0
          }
        }
      }
    }
  },
  "nbformat": 4,
  "nbformat_minor": 5
}